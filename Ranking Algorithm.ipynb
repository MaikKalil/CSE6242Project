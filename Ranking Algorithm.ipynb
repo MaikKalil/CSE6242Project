{
 "cells": [
  {
   "cell_type": "code",
   "execution_count": 26,
   "id": "5d40e8ce-b382-4baf-8f49-ff0b83cd0196",
   "metadata": {
    "execution": {
     "iopub.execute_input": "2023-04-03T22:21:40.699765Z",
     "iopub.status.busy": "2023-04-03T22:21:40.699765Z",
     "iopub.status.idle": "2023-04-03T22:21:42.357102Z",
     "shell.execute_reply": "2023-04-03T22:21:42.353974Z",
     "shell.execute_reply.started": "2023-04-03T22:21:40.699765Z"
    },
    "tags": []
   },
   "outputs": [],
   "source": [
    "import sqlite3\n",
    "import pandas as pd\n",
    "import numpy as np\n",
    "import hashlib\n",
    "from pandasql import sqldf\n",
    "from geopy.distance import great_circle"
   ]
  },
  {
   "cell_type": "markdown",
   "source": [
    "Part 1. Establishing Database"
   ],
   "metadata": {
    "collapsed": false
   }
  },
  {
   "cell_type": "code",
   "execution_count": 27,
   "id": "2ae6b03e-ea38-437d-9ed4-d75e467d4d43",
   "metadata": {
    "execution": {
     "iopub.execute_input": "2023-04-03T23:42:25.524154Z",
     "iopub.status.busy": "2023-04-03T23:42:25.523156Z",
     "iopub.status.idle": "2023-04-03T23:42:25.550075Z",
     "shell.execute_reply": "2023-04-03T23:42:25.549075Z",
     "shell.execute_reply.started": "2023-04-03T23:42:25.524154Z"
    },
    "tags": []
   },
   "outputs": [],
   "source": [
    "conn = sqlite3.connect(\"cs.db\")"
   ]
  },
  {
   "cell_type": "code",
   "execution_count": 28,
   "id": "6e33e42d-f2b6-416f-80ea-0706145f9b94",
   "metadata": {
    "execution": {
     "iopub.execute_input": "2023-04-03T22:48:01.725590Z",
     "iopub.status.busy": "2023-04-03T22:48:01.724590Z",
     "iopub.status.idle": "2023-04-03T22:48:01.745449Z",
     "shell.execute_reply": "2023-04-03T22:48:01.744443Z",
     "shell.execute_reply.started": "2023-04-03T22:48:01.725590Z"
    }
   },
   "outputs": [],
   "source": [
    "cur = conn.cursor()"
   ]
  },
  {
   "cell_type": "code",
   "execution_count": 29,
   "id": "9f046b29",
   "metadata": {},
   "outputs": [
    {
     "data": {
      "text/plain": "     name\n0  fields\n1     geo\n2    inst\n3    user",
      "text/html": "<div>\n<style scoped>\n    .dataframe tbody tr th:only-of-type {\n        vertical-align: middle;\n    }\n\n    .dataframe tbody tr th {\n        vertical-align: top;\n    }\n\n    .dataframe thead th {\n        text-align: right;\n    }\n</style>\n<table border=\"1\" class=\"dataframe\">\n  <thead>\n    <tr style=\"text-align: right;\">\n      <th></th>\n      <th>name</th>\n    </tr>\n  </thead>\n  <tbody>\n    <tr>\n      <th>0</th>\n      <td>fields</td>\n    </tr>\n    <tr>\n      <th>1</th>\n      <td>geo</td>\n    </tr>\n    <tr>\n      <th>2</th>\n      <td>inst</td>\n    </tr>\n    <tr>\n      <th>3</th>\n      <td>user</td>\n    </tr>\n  </tbody>\n</table>\n</div>"
     },
     "execution_count": 29,
     "metadata": {},
     "output_type": "execute_result"
    }
   ],
   "source": [
    "#Tables on db\n",
    "pd.read_sql(\"SELECT name FROM sqlite_master WHERE type='table'\",conn)"
   ]
  },
  {
   "cell_type": "code",
   "execution_count": 50,
   "outputs": [],
   "source": [
    "inst = pd.read_sql(\"SELECT * FROM inst\",conn)"
   ],
   "metadata": {
    "collapsed": false
   }
  },
  {
   "cell_type": "code",
   "execution_count": 31,
   "id": "e631d005-9a49-4105-8049-5a244fd5de33",
   "metadata": {
    "execution": {
     "iopub.execute_input": "2023-04-03T22:59:06.738144Z",
     "iopub.status.busy": "2023-04-03T22:59:06.738144Z",
     "iopub.status.idle": "2023-04-03T22:59:06.758583Z",
     "shell.execute_reply": "2023-04-03T22:59:06.757583Z",
     "shell.execute_reply.started": "2023-04-03T22:59:06.738144Z"
    }
   },
   "outputs": [],
   "source": [
    "#conn.close()"
   ]
  },
  {
   "cell_type": "markdown",
   "source": [
    "Part 2. User Inputs"
   ],
   "metadata": {
    "collapsed": false
   }
  },
  {
   "cell_type": "markdown",
   "source": [
    "Preferences:\n",
    "Input provided: Importance from scale 1 to 10\n",
    "Output created: Allocation Percentage"
   ],
   "metadata": {
    "collapsed": false
   }
  },
  {
   "cell_type": "code",
   "execution_count": 32,
   "outputs": [],
   "source": [
    "#a, b, c represents importance user provides for each preference\n",
    "a=4\n",
    "b=5\n",
    "c=6\n",
    "raw_weights = np.array([a, b, c])\n",
    "sum_weights = np.sum(raw_weights)\n",
    "perc_weights = raw_weights/sum_weights"
   ],
   "metadata": {
    "collapsed": false
   }
  },
  {
   "cell_type": "markdown",
   "source": [
    "Part 2a. User ID Creation\n",
    "Input provided: email\n",
    "Output created: 1) user_id 2) inserts user_id and email into \"user\" table\n",
    "Method: function (user_id_generator)"
   ],
   "metadata": {
    "collapsed": false
   }
  },
  {
   "cell_type": "code",
   "execution_count": 33,
   "id": "11f41d8a-d3d0-48f5-b19b-fde180184e5f",
   "metadata": {
    "execution": {
     "iopub.execute_input": "2023-04-03T22:27:54.257964Z",
     "iopub.status.busy": "2023-04-03T22:27:54.257964Z",
     "iopub.status.idle": "2023-04-03T22:27:54.269159Z",
     "shell.execute_reply": "2023-04-03T22:27:54.267987Z",
     "shell.execute_reply.started": "2023-04-03T22:27:54.257964Z"
    },
    "tags": []
   },
   "outputs": [],
   "source": [
    "#Scenario 1 Testing\n",
    "email = 'mkjones@gatech.edu'\n",
    "user_id = int(hashlib.sha256(email.encode('utf-8')).hexdigest(), 16) % 10**8 # generate a unique numeric ID"
   ]
  },
  {
   "cell_type": "code",
   "execution_count": 34,
   "id": "f44735d6",
   "metadata": {},
   "outputs": [
    {
     "data": {
      "text/plain": "9987952"
     },
     "execution_count": 34,
     "metadata": {},
     "output_type": "execute_result"
    }
   ],
   "source": [
    "user_id"
   ]
  },
  {
   "cell_type": "code",
   "execution_count": 35,
   "id": "5f0d4a3d-785d-4dc0-884f-44daab184632",
   "metadata": {
    "execution": {
     "iopub.execute_input": "2023-04-03T22:29:26.545138Z",
     "iopub.status.busy": "2023-04-03T22:29:26.545138Z",
     "iopub.status.idle": "2023-04-03T22:29:26.565030Z",
     "shell.execute_reply": "2023-04-03T22:29:26.564029Z",
     "shell.execute_reply.started": "2023-04-03T22:29:26.545138Z"
    }
   },
   "outputs": [
    {
     "data": {
      "text/plain": "80449489"
     },
     "execution_count": 35,
     "metadata": {},
     "output_type": "execute_result"
    }
   ],
   "source": [
    "#Scenario #2\n",
    "#trying different email\n",
    "email2 = 'michaelk.Jones@outlook.com'\n",
    "user_id3 = int(hashlib.sha256(email2.encode('utf-8')).hexdigest(), 16) % 10**8 # generate a unique numeric ID\n",
    "user_id3"
   ]
  },
  {
   "cell_type": "code",
   "execution_count": 36,
   "id": "05838636-cde1-4807-91ea-ca2d30b71fec",
   "metadata": {
    "execution": {
     "iopub.execute_input": "2023-04-03T22:30:19.337202Z",
     "iopub.status.busy": "2023-04-03T22:30:19.337202Z",
     "iopub.status.idle": "2023-04-03T22:30:19.361430Z",
     "shell.execute_reply": "2023-04-03T22:30:19.360427Z",
     "shell.execute_reply.started": "2023-04-03T22:30:19.337202Z"
    }
   },
   "outputs": [
    {
     "data": {
      "text/plain": "87012218"
     },
     "execution_count": 36,
     "metadata": {},
     "output_type": "execute_result"
    }
   ],
   "source": [
    "#Scenario 3\n",
    "#trying same email as scenario 2 but with all lowercase\n",
    "email3 = 'michaelk.jones@outlook.com'\n",
    "user_id4 = int(hashlib.sha256(email3.encode('utf-8')).hexdigest(), 16) % 10**8 # generate a unique numeric ID\n",
    "user_id4"
   ]
  },
  {
   "cell_type": "code",
   "execution_count": 37,
   "outputs": [
    {
     "data": {
      "text/plain": "87012218"
     },
     "execution_count": 37,
     "metadata": {},
     "output_type": "execute_result"
    }
   ],
   "source": [
    "#Scenario 4\n",
    "#same email as scenario 2 but added lower to have negate capitalization effects\n",
    "email2 = 'michaelk.Jones@outlook.com'\n",
    "user_id5 = int(hashlib.sha256(email2.lower().encode('utf-8')).hexdigest(), 16) % 10**8 # generate a unique numeric ID\n",
    "user_id5"
   ],
   "metadata": {
    "collapsed": false
   }
  },
  {
   "cell_type": "code",
   "execution_count": 38,
   "outputs": [],
   "source": [
    "def user_id_generator(email):\n",
    "    id = int(hashlib.sha256(email.lower().encode('utf-8')).hexdigest(), 16) % 10**8 # generate a unique numeric ID\n",
    "    return id"
   ],
   "metadata": {
    "collapsed": false
   }
  },
  {
   "cell_type": "code",
   "execution_count": 39,
   "outputs": [
    {
     "data": {
      "text/plain": "83932234"
     },
     "execution_count": 39,
     "metadata": {},
     "output_type": "execute_result"
    }
   ],
   "source": [
    "#test case of function\n",
    "user_id_generator(email = 'test123@outlook.com')"
   ],
   "metadata": {
    "collapsed": false
   }
  },
  {
   "cell_type": "code",
   "execution_count": 40,
   "outputs": [],
   "source": [
    "email = 'test123@outlook.com'\n",
    "user_id = user_id_generator(email = 'test123@outlook.com')"
   ],
   "metadata": {
    "collapsed": false
   }
  },
  {
   "cell_type": "markdown",
   "source": [
    "if pd.read_sql(f\"SELECT * FROM user WHERE user_id ={user_id}\",conn).empty:\n",
    "    cur.execute(f\"INSERT INTO user values('{email}',{user_id})\")\n",
    "else:\n",
    "    print(\"Email exists\")"
   ],
   "metadata": {
    "collapsed": false
   }
  },
  {
   "cell_type": "code",
   "execution_count": 42,
   "id": "475554fc-c440-4a2c-a61e-b125102cf84e",
   "metadata": {
    "execution": {
     "iopub.execute_input": "2023-04-03T23:43:15.442624Z",
     "iopub.status.busy": "2023-04-03T23:43:15.441654Z",
     "iopub.status.idle": "2023-04-03T23:43:15.459657Z",
     "shell.execute_reply": "2023-04-03T23:43:15.458645Z",
     "shell.execute_reply.started": "2023-04-03T23:43:15.441654Z"
    },
    "tags": []
   },
   "outputs": [
    {
     "data": {
      "text/plain": "                        email   user_id\n0          mkjones@gatech.edu   9987952\n1       mykek.jones@gmail.com  95829733\n2  michaelk.jones@outlook.com  87012218\n3             test1@GMAIL.COM  65768313\n4             test1@gmail.com  45591513",
      "text/html": "<div>\n<style scoped>\n    .dataframe tbody tr th:only-of-type {\n        vertical-align: middle;\n    }\n\n    .dataframe tbody tr th {\n        vertical-align: top;\n    }\n\n    .dataframe thead th {\n        text-align: right;\n    }\n</style>\n<table border=\"1\" class=\"dataframe\">\n  <thead>\n    <tr style=\"text-align: right;\">\n      <th></th>\n      <th>email</th>\n      <th>user_id</th>\n    </tr>\n  </thead>\n  <tbody>\n    <tr>\n      <th>0</th>\n      <td>mkjones@gatech.edu</td>\n      <td>9987952</td>\n    </tr>\n    <tr>\n      <th>1</th>\n      <td>mykek.jones@gmail.com</td>\n      <td>95829733</td>\n    </tr>\n    <tr>\n      <th>2</th>\n      <td>michaelk.jones@outlook.com</td>\n      <td>87012218</td>\n    </tr>\n    <tr>\n      <th>3</th>\n      <td>test1@GMAIL.COM</td>\n      <td>65768313</td>\n    </tr>\n    <tr>\n      <th>4</th>\n      <td>test1@gmail.com</td>\n      <td>45591513</td>\n    </tr>\n  </tbody>\n</table>\n</div>"
     },
     "execution_count": 42,
     "metadata": {},
     "output_type": "execute_result"
    }
   ],
   "source": [
    "pd.read_sql(f\"SELECT * FROM user\",conn)"
   ]
  },
  {
   "cell_type": "markdown",
   "source": [
    "Part 2.b: Zipcode\n",
    "user provided: zipcode\n",
    "output created: dataframe of distance in miles per institution"
   ],
   "metadata": {
    "collapsed": false
   }
  },
  {
   "cell_type": "code",
   "execution_count": 43,
   "id": "400f09ed-311f-47ab-8b55-9a032c7adf67",
   "metadata": {
    "execution": {
     "iopub.execute_input": "2023-04-01T19:49:14.097719Z",
     "iopub.status.busy": "2023-04-01T19:49:14.097719Z",
     "iopub.status.idle": "2023-04-01T19:49:14.654623Z",
     "shell.execute_reply": "2023-04-01T19:49:14.652621Z",
     "shell.execute_reply.started": "2023-04-01T19:49:14.097719Z"
    },
    "tags": []
   },
   "outputs": [],
   "source": [
    "geo = pd.read_sql(\"SELECT * FROM geo\",conn)"
   ]
  },
  {
   "cell_type": "code",
   "execution_count": 44,
   "id": "359547d1",
   "metadata": {},
   "outputs": [
    {
     "data": {
      "text/plain": "         zip         lat          lng        city state_id   state_name  zcta   \n0      00601    18.18027    -66.75266    Adjuntas       PR  Puerto Rico  TRUE  \\\n1      00602    18.36075    -67.17541      Aguada       PR  Puerto Rico  TRUE   \n2      00603    18.45744    -67.12225   Aguadilla       PR  Puerto Rico  TRUE   \n3      00606    18.16585    -66.93716     Maricao       PR  Puerto Rico  TRUE   \n4      00610     18.2911    -67.12243      Anasco       PR  Puerto Rico  TRUE   \n...      ...         ...          ...         ...      ...          ...   ...   \n33795  00614  18.4744398  -66.7197651     Arecibo       PR                      \n33796  00726  18.2344053   -66.048442      Caguas       PR                      \n33797  00928  18.4744398  -66.7197651    San Juan       PR                      \n33798  47903  40.4278046  -86.9111405   Lafayette       IN                      \n33799  51102  42.2353953  -96.4681762  Sioux City       IA                      \n\n      parent_zcta population density county_fips county_name   \n0            None      17126   102.6       72001    Adjuntas  \\\n1            None      37895   482.5       72003      Aguada   \n2            None      49136   552.4       72005   Aguadilla   \n3            None       5751    50.1       72093     Maricao   \n4            None      26153   272.1       72011      Añasco   \n...           ...        ...     ...         ...         ...   \n33795                                                          \n33796                                                          \n33797                                                          \n33798                                                          \n33799                                                          \n\n                                          county_weights   \n0                        {\"72001\": 98.73, \"72141\": 1.27}  \\\n1                                         {\"72003\": 100}   \n2                        {\"72005\": 99.76, \"72099\": 0.24}   \n3        {\"72093\": 82.26, \"72153\": 11.68, \"72121\": 6.06}   \n4      {\"72011\": 96.71, \"72099\": 2.81, \"72083\": 0.37,...   \n...                                                  ...   \n33795                                                      \n33796                                                      \n33797                                                      \n33798                                                      \n33799                                                      \n\n                    county_names_all          county_fips_all imprecise   \n0                    Adjuntas|Utuado              72001|72141     FALSE  \\\n1                             Aguada                    72003     FALSE   \n2                     Aguadilla|Moca              72005|72099     FALSE   \n3        Maricao|Yauco|Sabana Grande        72093|72153|72121     FALSE   \n4      Añasco|Moca|Las Marías|Aguada  72011|72099|72083|72003     FALSE   \n...                              ...                      ...       ...   \n33795                                                                     \n33796                                                                     \n33797                                                                     \n33798                                                                     \n33799                                                                     \n\n      military             timezone  \n0        FALSE  America/Puerto_Rico  \n1        FALSE  America/Puerto_Rico  \n2        FALSE  America/Puerto_Rico  \n3        FALSE  America/Puerto_Rico  \n4        FALSE  America/Puerto_Rico  \n...        ...                  ...  \n33795                                \n33796                                \n33797                                \n33798                                \n33799                                \n\n[33800 rows x 18 columns]",
      "text/html": "<div>\n<style scoped>\n    .dataframe tbody tr th:only-of-type {\n        vertical-align: middle;\n    }\n\n    .dataframe tbody tr th {\n        vertical-align: top;\n    }\n\n    .dataframe thead th {\n        text-align: right;\n    }\n</style>\n<table border=\"1\" class=\"dataframe\">\n  <thead>\n    <tr style=\"text-align: right;\">\n      <th></th>\n      <th>zip</th>\n      <th>lat</th>\n      <th>lng</th>\n      <th>city</th>\n      <th>state_id</th>\n      <th>state_name</th>\n      <th>zcta</th>\n      <th>parent_zcta</th>\n      <th>population</th>\n      <th>density</th>\n      <th>county_fips</th>\n      <th>county_name</th>\n      <th>county_weights</th>\n      <th>county_names_all</th>\n      <th>county_fips_all</th>\n      <th>imprecise</th>\n      <th>military</th>\n      <th>timezone</th>\n    </tr>\n  </thead>\n  <tbody>\n    <tr>\n      <th>0</th>\n      <td>00601</td>\n      <td>18.18027</td>\n      <td>-66.75266</td>\n      <td>Adjuntas</td>\n      <td>PR</td>\n      <td>Puerto Rico</td>\n      <td>TRUE</td>\n      <td>None</td>\n      <td>17126</td>\n      <td>102.6</td>\n      <td>72001</td>\n      <td>Adjuntas</td>\n      <td>{\"72001\": 98.73, \"72141\": 1.27}</td>\n      <td>Adjuntas|Utuado</td>\n      <td>72001|72141</td>\n      <td>FALSE</td>\n      <td>FALSE</td>\n      <td>America/Puerto_Rico</td>\n    </tr>\n    <tr>\n      <th>1</th>\n      <td>00602</td>\n      <td>18.36075</td>\n      <td>-67.17541</td>\n      <td>Aguada</td>\n      <td>PR</td>\n      <td>Puerto Rico</td>\n      <td>TRUE</td>\n      <td>None</td>\n      <td>37895</td>\n      <td>482.5</td>\n      <td>72003</td>\n      <td>Aguada</td>\n      <td>{\"72003\": 100}</td>\n      <td>Aguada</td>\n      <td>72003</td>\n      <td>FALSE</td>\n      <td>FALSE</td>\n      <td>America/Puerto_Rico</td>\n    </tr>\n    <tr>\n      <th>2</th>\n      <td>00603</td>\n      <td>18.45744</td>\n      <td>-67.12225</td>\n      <td>Aguadilla</td>\n      <td>PR</td>\n      <td>Puerto Rico</td>\n      <td>TRUE</td>\n      <td>None</td>\n      <td>49136</td>\n      <td>552.4</td>\n      <td>72005</td>\n      <td>Aguadilla</td>\n      <td>{\"72005\": 99.76, \"72099\": 0.24}</td>\n      <td>Aguadilla|Moca</td>\n      <td>72005|72099</td>\n      <td>FALSE</td>\n      <td>FALSE</td>\n      <td>America/Puerto_Rico</td>\n    </tr>\n    <tr>\n      <th>3</th>\n      <td>00606</td>\n      <td>18.16585</td>\n      <td>-66.93716</td>\n      <td>Maricao</td>\n      <td>PR</td>\n      <td>Puerto Rico</td>\n      <td>TRUE</td>\n      <td>None</td>\n      <td>5751</td>\n      <td>50.1</td>\n      <td>72093</td>\n      <td>Maricao</td>\n      <td>{\"72093\": 82.26, \"72153\": 11.68, \"72121\": 6.06}</td>\n      <td>Maricao|Yauco|Sabana Grande</td>\n      <td>72093|72153|72121</td>\n      <td>FALSE</td>\n      <td>FALSE</td>\n      <td>America/Puerto_Rico</td>\n    </tr>\n    <tr>\n      <th>4</th>\n      <td>00610</td>\n      <td>18.2911</td>\n      <td>-67.12243</td>\n      <td>Anasco</td>\n      <td>PR</td>\n      <td>Puerto Rico</td>\n      <td>TRUE</td>\n      <td>None</td>\n      <td>26153</td>\n      <td>272.1</td>\n      <td>72011</td>\n      <td>Añasco</td>\n      <td>{\"72011\": 96.71, \"72099\": 2.81, \"72083\": 0.37,...</td>\n      <td>Añasco|Moca|Las Marías|Aguada</td>\n      <td>72011|72099|72083|72003</td>\n      <td>FALSE</td>\n      <td>FALSE</td>\n      <td>America/Puerto_Rico</td>\n    </tr>\n    <tr>\n      <th>...</th>\n      <td>...</td>\n      <td>...</td>\n      <td>...</td>\n      <td>...</td>\n      <td>...</td>\n      <td>...</td>\n      <td>...</td>\n      <td>...</td>\n      <td>...</td>\n      <td>...</td>\n      <td>...</td>\n      <td>...</td>\n      <td>...</td>\n      <td>...</td>\n      <td>...</td>\n      <td>...</td>\n      <td>...</td>\n      <td>...</td>\n    </tr>\n    <tr>\n      <th>33795</th>\n      <td>00614</td>\n      <td>18.4744398</td>\n      <td>-66.7197651</td>\n      <td>Arecibo</td>\n      <td>PR</td>\n      <td></td>\n      <td></td>\n      <td></td>\n      <td></td>\n      <td></td>\n      <td></td>\n      <td></td>\n      <td></td>\n      <td></td>\n      <td></td>\n      <td></td>\n      <td></td>\n      <td></td>\n    </tr>\n    <tr>\n      <th>33796</th>\n      <td>00726</td>\n      <td>18.2344053</td>\n      <td>-66.048442</td>\n      <td>Caguas</td>\n      <td>PR</td>\n      <td></td>\n      <td></td>\n      <td></td>\n      <td></td>\n      <td></td>\n      <td></td>\n      <td></td>\n      <td></td>\n      <td></td>\n      <td></td>\n      <td></td>\n      <td></td>\n      <td></td>\n    </tr>\n    <tr>\n      <th>33797</th>\n      <td>00928</td>\n      <td>18.4744398</td>\n      <td>-66.7197651</td>\n      <td>San Juan</td>\n      <td>PR</td>\n      <td></td>\n      <td></td>\n      <td></td>\n      <td></td>\n      <td></td>\n      <td></td>\n      <td></td>\n      <td></td>\n      <td></td>\n      <td></td>\n      <td></td>\n      <td></td>\n      <td></td>\n    </tr>\n    <tr>\n      <th>33798</th>\n      <td>47903</td>\n      <td>40.4278046</td>\n      <td>-86.9111405</td>\n      <td>Lafayette</td>\n      <td>IN</td>\n      <td></td>\n      <td></td>\n      <td></td>\n      <td></td>\n      <td></td>\n      <td></td>\n      <td></td>\n      <td></td>\n      <td></td>\n      <td></td>\n      <td></td>\n      <td></td>\n      <td></td>\n    </tr>\n    <tr>\n      <th>33799</th>\n      <td>51102</td>\n      <td>42.2353953</td>\n      <td>-96.4681762</td>\n      <td>Sioux City</td>\n      <td>IA</td>\n      <td></td>\n      <td></td>\n      <td></td>\n      <td></td>\n      <td></td>\n      <td></td>\n      <td></td>\n      <td></td>\n      <td></td>\n      <td></td>\n      <td></td>\n      <td></td>\n      <td></td>\n    </tr>\n  </tbody>\n</table>\n<p>33800 rows × 18 columns</p>\n</div>"
     },
     "execution_count": 44,
     "metadata": {},
     "output_type": "execute_result"
    }
   ],
   "source": [
    "geo"
   ]
  },
  {
   "cell_type": "code",
   "execution_count": 45,
   "id": "1dee087d-3c28-47d3-a8d3-a0c50be3ac6b",
   "metadata": {
    "execution": {
     "iopub.execute_input": "2023-04-01T19:49:15.643247Z",
     "iopub.status.busy": "2023-04-01T19:49:15.642245Z",
     "iopub.status.idle": "2023-04-01T19:49:15.650809Z",
     "shell.execute_reply": "2023-04-01T19:49:15.649837Z",
     "shell.execute_reply.started": "2023-04-01T19:49:15.643247Z"
    },
    "tags": []
   },
   "outputs": [],
   "source": [
    "input_zip = \"30315\""
   ]
  },
  {
   "cell_type": "code",
   "execution_count": 46,
   "id": "baab6175-83c5-4af4-86e0-81ef7635a4c3",
   "metadata": {
    "execution": {
     "iopub.execute_input": "2023-04-01T20:35:20.301277Z",
     "iopub.status.busy": "2023-04-01T20:35:20.300279Z",
     "iopub.status.idle": "2023-04-01T20:35:20.324988Z",
     "shell.execute_reply": "2023-04-01T20:35:20.323987Z",
     "shell.execute_reply.started": "2023-04-01T20:35:20.300279Z"
    },
    "tags": []
   },
   "outputs": [
    {
     "name": "stdout",
     "output_type": "stream",
     "text": [
      "lat, lon: (33.70312, -84.38272)\n"
     ]
    }
   ],
   "source": [
    "lat =float(list(geo[geo['zip']==input_zip]['lat'])[0])\n",
    "lon =float(list(geo[geo['zip']==input_zip]['lng'])[0])\n",
    "print(f\"lat, lon: ({lat}, {lon})\")"
   ]
  },
  {
   "cell_type": "code",
   "execution_count": 51,
   "id": "f0e10f44-c72e-40e3-8189-53dad4f5a6a9",
   "metadata": {
    "execution": {
     "iopub.execute_input": "2023-04-01T20:35:26.164856Z",
     "iopub.status.busy": "2023-04-01T20:35:26.164856Z",
     "iopub.status.idle": "2023-04-01T20:35:26.185382Z",
     "shell.execute_reply": "2023-04-01T20:35:26.184381Z",
     "shell.execute_reply.started": "2023-04-01T20:35:26.164856Z"
    },
    "tags": []
   },
   "outputs": [
    {
     "data": {
      "text/plain": "        UNITID   LATITUDE   LONGITUDE\n0       100654  34.783368  -86.568502\n1       100663  33.505697  -86.799345\n2       100690  32.362609   -86.17401\n3       100706  34.724557  -86.640449\n4       100724  32.364317  -86.295677\n...        ...        ...         ...\n6676  49576719   41.31559   -76.02235\n6677  49576720   39.92142   -76.71277\n6678  49576721    40.0466    -75.5302\n6679  49576722   40.19437   -76.72659\n6680  49576723   39.92248   -75.41419\n\n[6681 rows x 3 columns]",
      "text/html": "<div>\n<style scoped>\n    .dataframe tbody tr th:only-of-type {\n        vertical-align: middle;\n    }\n\n    .dataframe tbody tr th {\n        vertical-align: top;\n    }\n\n    .dataframe thead th {\n        text-align: right;\n    }\n</style>\n<table border=\"1\" class=\"dataframe\">\n  <thead>\n    <tr style=\"text-align: right;\">\n      <th></th>\n      <th>UNITID</th>\n      <th>LATITUDE</th>\n      <th>LONGITUDE</th>\n    </tr>\n  </thead>\n  <tbody>\n    <tr>\n      <th>0</th>\n      <td>100654</td>\n      <td>34.783368</td>\n      <td>-86.568502</td>\n    </tr>\n    <tr>\n      <th>1</th>\n      <td>100663</td>\n      <td>33.505697</td>\n      <td>-86.799345</td>\n    </tr>\n    <tr>\n      <th>2</th>\n      <td>100690</td>\n      <td>32.362609</td>\n      <td>-86.17401</td>\n    </tr>\n    <tr>\n      <th>3</th>\n      <td>100706</td>\n      <td>34.724557</td>\n      <td>-86.640449</td>\n    </tr>\n    <tr>\n      <th>4</th>\n      <td>100724</td>\n      <td>32.364317</td>\n      <td>-86.295677</td>\n    </tr>\n    <tr>\n      <th>...</th>\n      <td>...</td>\n      <td>...</td>\n      <td>...</td>\n    </tr>\n    <tr>\n      <th>6676</th>\n      <td>49576719</td>\n      <td>41.31559</td>\n      <td>-76.02235</td>\n    </tr>\n    <tr>\n      <th>6677</th>\n      <td>49576720</td>\n      <td>39.92142</td>\n      <td>-76.71277</td>\n    </tr>\n    <tr>\n      <th>6678</th>\n      <td>49576721</td>\n      <td>40.0466</td>\n      <td>-75.5302</td>\n    </tr>\n    <tr>\n      <th>6679</th>\n      <td>49576722</td>\n      <td>40.19437</td>\n      <td>-76.72659</td>\n    </tr>\n    <tr>\n      <th>6680</th>\n      <td>49576723</td>\n      <td>39.92248</td>\n      <td>-75.41419</td>\n    </tr>\n  </tbody>\n</table>\n<p>6681 rows × 3 columns</p>\n</div>"
     },
     "execution_count": 51,
     "metadata": {},
     "output_type": "execute_result"
    }
   ],
   "source": [
    "inst[[\"UNITID\",\"LATITUDE\",\"LONGITUDE\"]]"
   ]
  },
  {
   "cell_type": "code",
   "execution_count": 57,
   "outputs": [],
   "source": [
    "## Function to use to find the distance of each university in miles\n",
    "def inst_dist (lat,lon):\n",
    "    idx = inst.apply(lambda x: great_circle((x[\"LATITUDE\"], x[\"LONGITUDE\"]), (lat, lon)).miles, axis=1)\n",
    "    column_name = f\"{user_id}_DISTANCE_MI\"  # Adding user_id to the column title\n",
    "    return inst.loc[:, ['UNITID']].assign(**{column_name: idx})"
   ],
   "metadata": {
    "collapsed": false
   }
  },
  {
   "cell_type": "code",
   "execution_count": 59,
   "outputs": [],
   "source": [
    "def inst_dist (lat,lon):\n",
    "    idx = inst.apply(lambda x: great_circle((x[\"LATITUDE\"], x[\"LONGITUDE\"]), (lat, lon)).miles, axis=1)\n",
    "    column_name = f\"{user_id}_DISTANCE_MI\"  # Adding user_id to the column title\n",
    "    return inst.loc[:, ['UNITID']].assign(dist_miles = idx)"
   ],
   "metadata": {
    "collapsed": false
   }
  },
  {
   "cell_type": "code",
   "execution_count": 61,
   "id": "9e38ce79-7d6d-424f-b1f6-89686e179b27",
   "metadata": {
    "execution": {
     "iopub.execute_input": "2023-04-01T20:39:10.021760Z",
     "iopub.status.busy": "2023-04-01T20:39:10.020759Z",
     "iopub.status.idle": "2023-04-01T20:39:10.313370Z",
     "shell.execute_reply": "2023-04-01T20:39:10.312370Z",
     "shell.execute_reply.started": "2023-04-01T20:39:10.021760Z"
    },
    "tags": []
   },
   "outputs": [],
   "source": [
    "#Distances of each university to the input zip\n",
    "dist_temp_table = inst_dist(lat,lon)\n",
    "type(dist_temp_table)\n",
    "dist_temp_table\n",
    "inst = pd.merge(inst, dist_temp_table, on='UNITID')"
   ]
  },
  {
   "cell_type": "markdown",
   "source": [
    "Normalizing Features"
   ],
   "metadata": {
    "collapsed": false
   }
  },
  {
   "cell_type": "markdown",
   "source": [
    "creating features dict"
   ],
   "metadata": {
    "collapsed": false
   }
  },
  {
   "cell_type": "code",
   "execution_count": 66,
   "id": "5e2c4544-ef14-4580-a400-45a24054c536",
   "metadata": {},
   "outputs": [],
   "source": [
    "def features_dict(feature1, feature2, feature3):\n",
    "    featuresDict = {}\n",
    "    featuresDict['feature1']= feature1\n",
    "    featuresDict['feature2']= feature2\n",
    "    featuresDict['feature3']= feature3\n",
    "    return featuresDict"
   ]
  },
  {
   "cell_type": "code",
   "execution_count": 67,
   "outputs": [
    {
     "data": {
      "text/plain": "{'feature1': 'OMENRUP_PELL_NFT_POOLED_SUPP',\n 'feature2': 'OMENRYP_PELL_FT_POOLED_SUPP',\n 'feature3': 'OMENRAP_PELL_FT_POOLED_SUPP'}"
     },
     "execution_count": 67,
     "metadata": {},
     "output_type": "execute_result"
    }
   ],
   "source": [
    "features_dict('OMENRUP_PELL_NFT_POOLED_SUPP', 'OMENRYP_PELL_FT_POOLED_SUPP', 'OMENRAP_PELL_FT_POOLED_SUPP')"
   ],
   "metadata": {
    "collapsed": false
   }
  },
  {
   "cell_type": "markdown",
   "source": [
    "grabbing feature columns"
   ],
   "metadata": {
    "collapsed": false
   }
  },
  {
   "cell_type": "code",
   "execution_count": null,
   "id": "e28e4815-6300-44f1-9801-e5f243c4c3df",
   "metadata": {},
   "outputs": [],
   "source": [
    "featuresQuery = \"\"\"\n",
    "SELECT\n",
    "UNITID, {}, {}, {}\n",
    "FROM inst\n",
    "\"\"\".format(featuresDict['x1'],featuresDict['x2'],featuresDict['x3'])"
   ]
  },
  {
   "cell_type": "code",
   "execution_count": null,
   "outputs": [],
   "source": [
    "featuresdf2 = pd.read_sql(featuresQuery,conn)"
   ],
   "metadata": {
    "collapsed": false
   }
  },
  {
   "cell_type": "code",
   "execution_count": null,
   "id": "3df94ea5-8ba4-48f9-b333-cab379d0d58a",
   "metadata": {},
   "outputs": [],
   "source": [
    "featuresDF = sqldf(featuresQuery,locals())\n",
    "featuresDF.shape[0]\n",
    "featuresDF"
   ]
  },
  {
   "cell_type": "code",
   "execution_count": null,
   "outputs": [],
   "source": [
    "featuresdf2\n",
    "featuresdf2.shape[0]"
   ],
   "metadata": {
    "collapsed": false
   }
  },
  {
   "cell_type": "code",
   "execution_count": null,
   "outputs": [],
   "source": [
    "test = pd.merge(featuresDF, dist_temp_table, on='UNITID')\n",
    "test"
   ],
   "metadata": {
    "collapsed": false
   }
  },
  {
   "cell_type": "markdown",
   "id": "e4e51348-9b22-4219-89e6-6fb7d5dfb907",
   "metadata": {},
   "source": [
    "Normalizing each feature"
   ]
  },
  {
   "cell_type": "markdown",
   "id": "6dba8836-c220-468e-a6ff-41d6071637ca",
   "metadata": {},
   "source": [
    "part 1: find each feature's length"
   ]
  },
  {
   "cell_type": "code",
   "execution_count": null,
   "id": "34630358-feeb-4b57-a66c-83a2be4f4b01",
   "metadata": {},
   "outputs": [],
   "source": [
    "maxQuery = \"\"\"\n",
    "SELECT max({0}) x1FeatureLength, max({1}) x2FeatureLength, max({2}) x3FeatureLength\n",
    "FROM inst\n",
    "where {0} not like 'PrivacySuppressed' and {1} not like 'PrivacySuppressed' and {2} not like 'PrivacySuppressed'\n",
    "\"\"\".format(featuresDict['x1'],featuresDict['x2'],featuresDict['x3'])"
   ]
  },
  {
   "cell_type": "code",
   "execution_count": null,
   "id": "487f5ffb-a0b6-4299-9973-c75683c583e0",
   "metadata": {},
   "outputs": [],
   "source": [
    "featureLengthDF = sqldf(maxQuery,locals())"
   ]
  },
  {
   "cell_type": "code",
   "execution_count": null,
   "id": "ec4e2d1d-ffe0-4b75-b16b-c7632fdf48fa",
   "metadata": {},
   "outputs": [],
   "source": [
    "featureLengths = featureLengthDF.loc[0]"
   ]
  },
  {
   "cell_type": "code",
   "execution_count": null,
   "id": "a2bd53f7-b2df-4bf3-acd5-d6eecee27edd",
   "metadata": {},
   "outputs": [],
   "source": [
    "x1FeatureLength = float(test['x1FeatureLength'])\n",
    "x2FeatureLength = float(test['x2FeatureLength'])\n",
    "x3FeatureLength = float(test['x3FeatureLength'])"
   ]
  },
  {
   "cell_type": "markdown",
   "id": "b642fdc2-2c3f-4acb-b003-135ad6ac32d6",
   "metadata": {},
   "source": [
    "part 2: applying length to normalize each feature"
   ]
  },
  {
   "cell_type": "code",
   "execution_count": null,
   "id": "3be36ba2-8890-4759-a292-058c2b83eacf",
   "metadata": {},
   "outputs": [],
   "source": [
    "normalizedQuery = \"\"\"\n",
    "SELECT \n",
    "{0}/{3} feature1normalized,\n",
    "{1}/{4} feature2normalized,\n",
    "{2}/{5} feature3normalized\n",
    "FROM inst\n",
    "\"\"\".format(featuresDict['x1'],featuresDict['x2'],featuresDict['x3'], x1FeatureLength, x2FeatureLength, x3FeatureLength)"
   ]
  },
  {
   "cell_type": "code",
   "execution_count": null,
   "id": "b7b2d199-6d71-4020-b7e7-cc7d87bd4791",
   "metadata": {},
   "outputs": [],
   "source": [
    "normalizedDF = sqldf(normalizedQuery,locals())\n",
    "normalizedDF "
   ]
  },
  {
   "cell_type": "markdown",
   "id": "33eb34c1-5dbe-45a0-8c87-5bb7ed26a40c",
   "metadata": {},
   "source": [
    "multiplying preferences to feature"
   ]
  },
  {
   "cell_type": "code",
   "execution_count": null,
   "id": "02f88d74-e237-4c29-a754-3a015a4b1a4a",
   "metadata": {},
   "outputs": [],
   "source": [
    "prefVector = np.array([0.3,0.2,0.5])"
   ]
  },
  {
   "cell_type": "code",
   "execution_count": null,
   "id": "eeaff5fd-caff-47bf-aea4-c6b7d78445a1",
   "metadata": {},
   "outputs": [],
   "source": [
    "normalizedMatrix = normalizedDF.values"
   ]
  },
  {
   "cell_type": "code",
   "execution_count": null,
   "id": "93447701-35a2-49db-bc75-369e2b2b69ac",
   "metadata": {},
   "outputs": [],
   "source": [
    "normalizedMatrix"
   ]
  },
  {
   "cell_type": "code",
   "execution_count": null,
   "id": "f266b2b4-c1fa-4898-bdb4-d30e3061319b",
   "metadata": {},
   "outputs": [],
   "source": [
    "ratingScore = np.dot(normalizedMatrix, prefVector)"
   ]
  },
  {
   "cell_type": "code",
   "execution_count": null,
   "id": "981a4b49-c5c6-4848-bd7d-504332fe5dea",
   "metadata": {},
   "outputs": [],
   "source": [
    "baseDF['Rating'] = ratingScore"
   ]
  },
  {
   "cell_type": "code",
   "execution_count": null,
   "id": "9f2f7233-a64d-4e7d-a26d-cdab18f022b2",
   "metadata": {},
   "outputs": [],
   "source": [
    "testQuery = \"\"\"\n",
    "SELECT count(*)\n",
    "FROM baseDF\n",
    "where rating is not NULL\n",
    "\"\"\""
   ]
  },
  {
   "cell_type": "code",
   "execution_count": null,
   "id": "d26cd163-7cd4-406b-af1d-35f0e6eaa073",
   "metadata": {},
   "outputs": [],
   "source": [
    "output = sqldf(testQuery,locals())\n",
    "output"
   ]
  },
  {
   "cell_type": "markdown",
   "source": [
    "apply filters"
   ],
   "metadata": {
    "collapsed": false
   }
  },
  {
   "cell_type": "code",
   "execution_count": 68,
   "outputs": [],
   "source": [
    "def filters_dict(filter1,filter2,filter3):\n",
    "    filters_dict = {}\n",
    "    filters_dict['filter1'] = filter1\n",
    "    filters_dict['filter2'] = filter2\n",
    "    filters_dict['filter3'] = filter3\n",
    "    return filters_dict"
   ],
   "metadata": {
    "collapsed": false
   }
  },
  {
   "cell_type": "code",
   "execution_count": 69,
   "outputs": [
    {
     "data": {
      "text/plain": "{'filter1': 'OMENRUP_PELL_NFT_POOLED_SUPP',\n 'filter2': 'OMENRYP_PELL_FT_POOLED_SUPP',\n 'filter3': 'OMENRAP_PELL_FT_POOLED_SUPP'}"
     },
     "execution_count": 69,
     "metadata": {},
     "output_type": "execute_result"
    }
   ],
   "source": [
    "filters_dict('OMENRUP_PELL_NFT_POOLED_SUPP', 'OMENRYP_PELL_FT_POOLED_SUPP', 'OMENRAP_PELL_FT_POOLED_SUPP')"
   ],
   "metadata": {
    "collapsed": false
   }
  }
 ],
 "metadata": {
  "kernelspec": {
   "display_name": "Python 3 (ipykernel)",
   "language": "python",
   "name": "python3"
  },
  "language_info": {
   "codemirror_mode": {
    "name": "ipython",
    "version": 3
   },
   "file_extension": ".py",
   "mimetype": "text/x-python",
   "name": "python",
   "nbconvert_exporter": "python",
   "pygments_lexer": "ipython3",
   "version": "3.9.13"
  }
 },
 "nbformat": 4,
 "nbformat_minor": 5
}
