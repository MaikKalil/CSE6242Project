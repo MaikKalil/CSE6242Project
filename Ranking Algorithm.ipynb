{
 "cells": [
  {
   "cell_type": "code",
   "execution_count": 2,
   "id": "5d40e8ce-b382-4baf-8f49-ff0b83cd0196",
   "metadata": {
    "execution": {
     "iopub.execute_input": "2023-04-03T22:21:40.699765Z",
     "iopub.status.busy": "2023-04-03T22:21:40.699765Z",
     "iopub.status.idle": "2023-04-03T22:21:42.357102Z",
     "shell.execute_reply": "2023-04-03T22:21:42.353974Z",
     "shell.execute_reply.started": "2023-04-03T22:21:40.699765Z"
    },
    "tags": []
   },
   "outputs": [],
   "source": [
    "import sqlite3\n",
    "import pandas as pd\n",
    "import numpy as np\n",
    "import hashlib\n",
    "from pandasql import sqldf\n",
    "from geopy.distance import great_circle"
   ]
  },
  {
   "cell_type": "markdown",
   "source": [
    "Part 1. Establishing Database"
   ],
   "metadata": {
    "collapsed": false
   }
  },
  {
   "cell_type": "code",
   "execution_count": 3,
   "id": "2ae6b03e-ea38-437d-9ed4-d75e467d4d43",
   "metadata": {
    "execution": {
     "iopub.execute_input": "2023-04-03T23:42:25.524154Z",
     "iopub.status.busy": "2023-04-03T23:42:25.523156Z",
     "iopub.status.idle": "2023-04-03T23:42:25.550075Z",
     "shell.execute_reply": "2023-04-03T23:42:25.549075Z",
     "shell.execute_reply.started": "2023-04-03T23:42:25.524154Z"
    },
    "tags": []
   },
   "outputs": [],
   "source": [
    "conn = sqlite3.connect(\"cs.db\")"
   ]
  },
  {
   "cell_type": "code",
   "execution_count": 4,
   "id": "6e33e42d-f2b6-416f-80ea-0706145f9b94",
   "metadata": {
    "execution": {
     "iopub.execute_input": "2023-04-03T22:48:01.725590Z",
     "iopub.status.busy": "2023-04-03T22:48:01.724590Z",
     "iopub.status.idle": "2023-04-03T22:48:01.745449Z",
     "shell.execute_reply": "2023-04-03T22:48:01.744443Z",
     "shell.execute_reply.started": "2023-04-03T22:48:01.725590Z"
    }
   },
   "outputs": [],
   "source": [
    "cur = conn.cursor()"
   ]
  },
  {
   "cell_type": "code",
   "execution_count": 29,
   "id": "9f046b29",
   "metadata": {},
   "outputs": [
    {
     "data": {
      "text/plain": "     name\n0  fields\n1     geo\n2    inst\n3    user",
      "text/html": "<div>\n<style scoped>\n    .dataframe tbody tr th:only-of-type {\n        vertical-align: middle;\n    }\n\n    .dataframe tbody tr th {\n        vertical-align: top;\n    }\n\n    .dataframe thead th {\n        text-align: right;\n    }\n</style>\n<table border=\"1\" class=\"dataframe\">\n  <thead>\n    <tr style=\"text-align: right;\">\n      <th></th>\n      <th>name</th>\n    </tr>\n  </thead>\n  <tbody>\n    <tr>\n      <th>0</th>\n      <td>fields</td>\n    </tr>\n    <tr>\n      <th>1</th>\n      <td>geo</td>\n    </tr>\n    <tr>\n      <th>2</th>\n      <td>inst</td>\n    </tr>\n    <tr>\n      <th>3</th>\n      <td>user</td>\n    </tr>\n  </tbody>\n</table>\n</div>"
     },
     "execution_count": 29,
     "metadata": {},
     "output_type": "execute_result"
    }
   ],
   "source": [
    "#Tables on db\n",
    "pd.read_sql(\"SELECT name FROM sqlite_master WHERE type='table'\",conn)"
   ]
  },
  {
   "cell_type": "code",
   "execution_count": 50,
   "outputs": [],
   "source": [
    "inst = pd.read_sql(\"SELECT * FROM inst\",conn)"
   ],
   "metadata": {
    "collapsed": false
   }
  },
  {
   "cell_type": "code",
   "execution_count": 31,
   "id": "e631d005-9a49-4105-8049-5a244fd5de33",
   "metadata": {
    "execution": {
     "iopub.execute_input": "2023-04-03T22:59:06.738144Z",
     "iopub.status.busy": "2023-04-03T22:59:06.738144Z",
     "iopub.status.idle": "2023-04-03T22:59:06.758583Z",
     "shell.execute_reply": "2023-04-03T22:59:06.757583Z",
     "shell.execute_reply.started": "2023-04-03T22:59:06.738144Z"
    }
   },
   "outputs": [],
   "source": [
    "#conn.close()"
   ]
  },
  {
   "cell_type": "markdown",
   "source": [
    "Part 2. User Inputs"
   ],
   "metadata": {
    "collapsed": false
   }
  },
  {
   "cell_type": "markdown",
   "source": [
    "Preferences:\n",
    "Input provided: Importance from scale 1 to 10\n",
    "Output created: Allocation Percentage"
   ],
   "metadata": {
    "collapsed": false
   }
  },
  {
   "cell_type": "code",
   "execution_count": 32,
   "outputs": [],
   "source": [
    "#a, b, c represents importance user provides for each preference\n",
    "a=4\n",
    "b=5\n",
    "c=6\n",
    "raw_weights = np.array([a, b, c])\n",
    "sum_weights = np.sum(raw_weights)\n",
    "perc_weights = raw_weights/sum_weights"
   ],
   "metadata": {
    "collapsed": false
   }
  },
  {
   "cell_type": "markdown",
   "source": [
    "Part 2a. User ID Creation\n",
    "Input provided: email\n",
    "Output created: 1) user_id 2) inserts user_id and email into \"user\" table\n",
    "Method: function (user_id_generator)"
   ],
   "metadata": {
    "collapsed": false
   }
  },
  {
   "cell_type": "code",
   "execution_count": 33,
   "id": "11f41d8a-d3d0-48f5-b19b-fde180184e5f",
   "metadata": {
    "execution": {
     "iopub.execute_input": "2023-04-03T22:27:54.257964Z",
     "iopub.status.busy": "2023-04-03T22:27:54.257964Z",
     "iopub.status.idle": "2023-04-03T22:27:54.269159Z",
     "shell.execute_reply": "2023-04-03T22:27:54.267987Z",
     "shell.execute_reply.started": "2023-04-03T22:27:54.257964Z"
    },
    "tags": []
   },
   "outputs": [],
   "source": [
    "#Scenario 1 Testing\n",
    "email = 'mkjones@gatech.edu'\n",
    "user_id = int(hashlib.sha256(email.encode('utf-8')).hexdigest(), 16) % 10**8 # generate a unique numeric ID"
   ]
  },
  {
   "cell_type": "code",
   "execution_count": 34,
   "id": "f44735d6",
   "metadata": {},
   "outputs": [
    {
     "data": {
      "text/plain": "9987952"
     },
     "execution_count": 34,
     "metadata": {},
     "output_type": "execute_result"
    }
   ],
   "source": [
    "user_id"
   ]
  },
  {
   "cell_type": "code",
   "execution_count": 35,
   "id": "5f0d4a3d-785d-4dc0-884f-44daab184632",
   "metadata": {
    "execution": {
     "iopub.execute_input": "2023-04-03T22:29:26.545138Z",
     "iopub.status.busy": "2023-04-03T22:29:26.545138Z",
     "iopub.status.idle": "2023-04-03T22:29:26.565030Z",
     "shell.execute_reply": "2023-04-03T22:29:26.564029Z",
     "shell.execute_reply.started": "2023-04-03T22:29:26.545138Z"
    }
   },
   "outputs": [
    {
     "data": {
      "text/plain": "80449489"
     },
     "execution_count": 35,
     "metadata": {},
     "output_type": "execute_result"
    }
   ],
   "source": [
    "#Scenario #2\n",
    "#trying different email\n",
    "email2 = 'michaelk.Jones@outlook.com'\n",
    "user_id3 = int(hashlib.sha256(email2.encode('utf-8')).hexdigest(), 16) % 10**8 # generate a unique numeric ID\n",
    "user_id3"
   ]
  },
  {
   "cell_type": "code",
   "execution_count": 36,
   "id": "05838636-cde1-4807-91ea-ca2d30b71fec",
   "metadata": {
    "execution": {
     "iopub.execute_input": "2023-04-03T22:30:19.337202Z",
     "iopub.status.busy": "2023-04-03T22:30:19.337202Z",
     "iopub.status.idle": "2023-04-03T22:30:19.361430Z",
     "shell.execute_reply": "2023-04-03T22:30:19.360427Z",
     "shell.execute_reply.started": "2023-04-03T22:30:19.337202Z"
    }
   },
   "outputs": [
    {
     "data": {
      "text/plain": "87012218"
     },
     "execution_count": 36,
     "metadata": {},
     "output_type": "execute_result"
    }
   ],
   "source": [
    "#Scenario 3\n",
    "#trying same email as scenario 2 but with all lowercase\n",
    "email3 = 'michaelk.jones@outlook.com'\n",
    "user_id4 = int(hashlib.sha256(email3.encode('utf-8')).hexdigest(), 16) % 10**8 # generate a unique numeric ID\n",
    "user_id4"
   ]
  },
  {
   "cell_type": "code",
   "execution_count": 37,
   "outputs": [
    {
     "data": {
      "text/plain": "87012218"
     },
     "execution_count": 37,
     "metadata": {},
     "output_type": "execute_result"
    }
   ],
   "source": [
    "#Scenario 4\n",
    "#same email as scenario 2 but added lower to have negate capitalization effects\n",
    "email2 = 'michaelk.Jones@outlook.com'\n",
    "user_id5 = int(hashlib.sha256(email2.lower().encode('utf-8')).hexdigest(), 16) % 10**8 # generate a unique numeric ID\n",
    "user_id5"
   ],
   "metadata": {
    "collapsed": false
   }
  },
  {
   "cell_type": "code",
   "execution_count": 38,
   "outputs": [],
   "source": [
    "def user_id_generator(email):\n",
    "    id = int(hashlib.sha256(email.lower().encode('utf-8')).hexdigest(), 16) % 10**8 # generate a unique numeric ID\n",
    "    return id"
   ],
   "metadata": {
    "collapsed": false
   }
  },
  {
   "cell_type": "code",
   "execution_count": 39,
   "outputs": [
    {
     "data": {
      "text/plain": "83932234"
     },
     "execution_count": 39,
     "metadata": {},
     "output_type": "execute_result"
    }
   ],
   "source": [
    "#test case of function\n",
    "user_id_generator(email = 'test123@outlook.com')"
   ],
   "metadata": {
    "collapsed": false
   }
  },
  {
   "cell_type": "code",
   "execution_count": 40,
   "outputs": [],
   "source": [
    "email = 'test123@outlook.com'\n",
    "user_id = user_id_generator(email = 'test123@outlook.com')"
   ],
   "metadata": {
    "collapsed": false
   }
  },
  {
   "cell_type": "markdown",
   "source": [
    "if pd.read_sql(f\"SELECT * FROM user WHERE user_id ={user_id}\",conn).empty:\n",
    "    cur.execute(f\"INSERT INTO user values('{email}',{user_id})\")\n",
    "else:\n",
    "    print(\"Email exists\")"
   ],
   "metadata": {
    "collapsed": false
   }
  },
  {
   "cell_type": "code",
   "execution_count": 42,
   "id": "475554fc-c440-4a2c-a61e-b125102cf84e",
   "metadata": {
    "execution": {
     "iopub.execute_input": "2023-04-03T23:43:15.442624Z",
     "iopub.status.busy": "2023-04-03T23:43:15.441654Z",
     "iopub.status.idle": "2023-04-03T23:43:15.459657Z",
     "shell.execute_reply": "2023-04-03T23:43:15.458645Z",
     "shell.execute_reply.started": "2023-04-03T23:43:15.441654Z"
    },
    "tags": []
   },
   "outputs": [
    {
     "data": {
      "text/plain": "                        email   user_id\n0          mkjones@gatech.edu   9987952\n1       mykek.jones@gmail.com  95829733\n2  michaelk.jones@outlook.com  87012218\n3             test1@GMAIL.COM  65768313\n4             test1@gmail.com  45591513",
      "text/html": "<div>\n<style scoped>\n    .dataframe tbody tr th:only-of-type {\n        vertical-align: middle;\n    }\n\n    .dataframe tbody tr th {\n        vertical-align: top;\n    }\n\n    .dataframe thead th {\n        text-align: right;\n    }\n</style>\n<table border=\"1\" class=\"dataframe\">\n  <thead>\n    <tr style=\"text-align: right;\">\n      <th></th>\n      <th>email</th>\n      <th>user_id</th>\n    </tr>\n  </thead>\n  <tbody>\n    <tr>\n      <th>0</th>\n      <td>mkjones@gatech.edu</td>\n      <td>9987952</td>\n    </tr>\n    <tr>\n      <th>1</th>\n      <td>mykek.jones@gmail.com</td>\n      <td>95829733</td>\n    </tr>\n    <tr>\n      <th>2</th>\n      <td>michaelk.jones@outlook.com</td>\n      <td>87012218</td>\n    </tr>\n    <tr>\n      <th>3</th>\n      <td>test1@GMAIL.COM</td>\n      <td>65768313</td>\n    </tr>\n    <tr>\n      <th>4</th>\n      <td>test1@gmail.com</td>\n      <td>45591513</td>\n    </tr>\n  </tbody>\n</table>\n</div>"
     },
     "execution_count": 42,
     "metadata": {},
     "output_type": "execute_result"
    }
   ],
   "source": [
    "pd.read_sql(f\"SELECT * FROM user\",conn)"
   ]
  },
  {
   "cell_type": "markdown",
   "source": [
    "Part 2.b: Zipcode\n",
    "user provided: zipcode\n",
    "output created: dataframe of distance in miles per institution"
   ],
   "metadata": {
    "collapsed": false
   }
  },
  {
   "cell_type": "code",
   "execution_count": 9,
   "id": "400f09ed-311f-47ab-8b55-9a032c7adf67",
   "metadata": {
    "execution": {
     "iopub.execute_input": "2023-04-01T19:49:14.097719Z",
     "iopub.status.busy": "2023-04-01T19:49:14.097719Z",
     "iopub.status.idle": "2023-04-01T19:49:14.654623Z",
     "shell.execute_reply": "2023-04-01T19:49:14.652621Z",
     "shell.execute_reply.started": "2023-04-01T19:49:14.097719Z"
    },
    "tags": []
   },
   "outputs": [],
   "source": [
    "geo = pd.read_sql(\"SELECT * FROM geo\",conn)"
   ]
  },
  {
   "cell_type": "code",
   "execution_count": 16,
   "id": "359547d1",
   "metadata": {},
   "outputs": [
    {
     "ename": "AttributeError",
     "evalue": "'DataFrame' object has no attribute 'printSchema'",
     "output_type": "error",
     "traceback": [
      "\u001B[1;31m---------------------------------------------------------------------------\u001B[0m",
      "\u001B[1;31mAttributeError\u001B[0m                            Traceback (most recent call last)",
      "Cell \u001B[1;32mIn[16], line 1\u001B[0m\n\u001B[1;32m----> 1\u001B[0m \u001B[43mgeo\u001B[49m\u001B[38;5;241;43m.\u001B[39;49m\u001B[43mprintSchema\u001B[49m()\n",
      "File \u001B[1;32m~\\PycharmProjects\\CSE6242Project\\venv\\Lib\\site-packages\\pandas\\core\\generic.py:5989\u001B[0m, in \u001B[0;36mNDFrame.__getattr__\u001B[1;34m(self, name)\u001B[0m\n\u001B[0;32m   5982\u001B[0m \u001B[38;5;28;01mif\u001B[39;00m (\n\u001B[0;32m   5983\u001B[0m     name \u001B[38;5;129;01mnot\u001B[39;00m \u001B[38;5;129;01min\u001B[39;00m \u001B[38;5;28mself\u001B[39m\u001B[38;5;241m.\u001B[39m_internal_names_set\n\u001B[0;32m   5984\u001B[0m     \u001B[38;5;129;01mand\u001B[39;00m name \u001B[38;5;129;01mnot\u001B[39;00m \u001B[38;5;129;01min\u001B[39;00m \u001B[38;5;28mself\u001B[39m\u001B[38;5;241m.\u001B[39m_metadata\n\u001B[0;32m   5985\u001B[0m     \u001B[38;5;129;01mand\u001B[39;00m name \u001B[38;5;129;01mnot\u001B[39;00m \u001B[38;5;129;01min\u001B[39;00m \u001B[38;5;28mself\u001B[39m\u001B[38;5;241m.\u001B[39m_accessors\n\u001B[0;32m   5986\u001B[0m     \u001B[38;5;129;01mand\u001B[39;00m \u001B[38;5;28mself\u001B[39m\u001B[38;5;241m.\u001B[39m_info_axis\u001B[38;5;241m.\u001B[39m_can_hold_identifiers_and_holds_name(name)\n\u001B[0;32m   5987\u001B[0m ):\n\u001B[0;32m   5988\u001B[0m     \u001B[38;5;28;01mreturn\u001B[39;00m \u001B[38;5;28mself\u001B[39m[name]\n\u001B[1;32m-> 5989\u001B[0m \u001B[38;5;28;01mreturn\u001B[39;00m \u001B[38;5;28;43mobject\u001B[39;49m\u001B[38;5;241;43m.\u001B[39;49m\u001B[38;5;21;43m__getattribute__\u001B[39;49m\u001B[43m(\u001B[49m\u001B[38;5;28;43mself\u001B[39;49m\u001B[43m,\u001B[49m\u001B[43m \u001B[49m\u001B[43mname\u001B[49m\u001B[43m)\u001B[49m\n",
      "\u001B[1;31mAttributeError\u001B[0m: 'DataFrame' object has no attribute 'printSchema'"
     ]
    }
   ],
   "source": [
    "geo.printSchema()"
   ]
  },
  {
   "cell_type": "code",
   "execution_count": 45,
   "id": "1dee087d-3c28-47d3-a8d3-a0c50be3ac6b",
   "metadata": {
    "execution": {
     "iopub.execute_input": "2023-04-01T19:49:15.643247Z",
     "iopub.status.busy": "2023-04-01T19:49:15.642245Z",
     "iopub.status.idle": "2023-04-01T19:49:15.650809Z",
     "shell.execute_reply": "2023-04-01T19:49:15.649837Z",
     "shell.execute_reply.started": "2023-04-01T19:49:15.643247Z"
    },
    "tags": []
   },
   "outputs": [],
   "source": [
    "input_zip = \"30315\""
   ]
  },
  {
   "cell_type": "code",
   "execution_count": 46,
   "id": "baab6175-83c5-4af4-86e0-81ef7635a4c3",
   "metadata": {
    "execution": {
     "iopub.execute_input": "2023-04-01T20:35:20.301277Z",
     "iopub.status.busy": "2023-04-01T20:35:20.300279Z",
     "iopub.status.idle": "2023-04-01T20:35:20.324988Z",
     "shell.execute_reply": "2023-04-01T20:35:20.323987Z",
     "shell.execute_reply.started": "2023-04-01T20:35:20.300279Z"
    },
    "tags": []
   },
   "outputs": [
    {
     "name": "stdout",
     "output_type": "stream",
     "text": [
      "lat, lon: (33.70312, -84.38272)\n"
     ]
    }
   ],
   "source": [
    "lat =float(list(geo[geo['zip']==input_zip]['lat'])[0])\n",
    "lon =float(list(geo[geo['zip']==input_zip]['lng'])[0])\n",
    "print(f\"lat, lon: ({lat}, {lon})\")"
   ]
  },
  {
   "cell_type": "code",
   "execution_count": 51,
   "id": "f0e10f44-c72e-40e3-8189-53dad4f5a6a9",
   "metadata": {
    "execution": {
     "iopub.execute_input": "2023-04-01T20:35:26.164856Z",
     "iopub.status.busy": "2023-04-01T20:35:26.164856Z",
     "iopub.status.idle": "2023-04-01T20:35:26.185382Z",
     "shell.execute_reply": "2023-04-01T20:35:26.184381Z",
     "shell.execute_reply.started": "2023-04-01T20:35:26.164856Z"
    },
    "tags": []
   },
   "outputs": [
    {
     "data": {
      "text/plain": "        UNITID   LATITUDE   LONGITUDE\n0       100654  34.783368  -86.568502\n1       100663  33.505697  -86.799345\n2       100690  32.362609   -86.17401\n3       100706  34.724557  -86.640449\n4       100724  32.364317  -86.295677\n...        ...        ...         ...\n6676  49576719   41.31559   -76.02235\n6677  49576720   39.92142   -76.71277\n6678  49576721    40.0466    -75.5302\n6679  49576722   40.19437   -76.72659\n6680  49576723   39.92248   -75.41419\n\n[6681 rows x 3 columns]",
      "text/html": "<div>\n<style scoped>\n    .dataframe tbody tr th:only-of-type {\n        vertical-align: middle;\n    }\n\n    .dataframe tbody tr th {\n        vertical-align: top;\n    }\n\n    .dataframe thead th {\n        text-align: right;\n    }\n</style>\n<table border=\"1\" class=\"dataframe\">\n  <thead>\n    <tr style=\"text-align: right;\">\n      <th></th>\n      <th>UNITID</th>\n      <th>LATITUDE</th>\n      <th>LONGITUDE</th>\n    </tr>\n  </thead>\n  <tbody>\n    <tr>\n      <th>0</th>\n      <td>100654</td>\n      <td>34.783368</td>\n      <td>-86.568502</td>\n    </tr>\n    <tr>\n      <th>1</th>\n      <td>100663</td>\n      <td>33.505697</td>\n      <td>-86.799345</td>\n    </tr>\n    <tr>\n      <th>2</th>\n      <td>100690</td>\n      <td>32.362609</td>\n      <td>-86.17401</td>\n    </tr>\n    <tr>\n      <th>3</th>\n      <td>100706</td>\n      <td>34.724557</td>\n      <td>-86.640449</td>\n    </tr>\n    <tr>\n      <th>4</th>\n      <td>100724</td>\n      <td>32.364317</td>\n      <td>-86.295677</td>\n    </tr>\n    <tr>\n      <th>...</th>\n      <td>...</td>\n      <td>...</td>\n      <td>...</td>\n    </tr>\n    <tr>\n      <th>6676</th>\n      <td>49576719</td>\n      <td>41.31559</td>\n      <td>-76.02235</td>\n    </tr>\n    <tr>\n      <th>6677</th>\n      <td>49576720</td>\n      <td>39.92142</td>\n      <td>-76.71277</td>\n    </tr>\n    <tr>\n      <th>6678</th>\n      <td>49576721</td>\n      <td>40.0466</td>\n      <td>-75.5302</td>\n    </tr>\n    <tr>\n      <th>6679</th>\n      <td>49576722</td>\n      <td>40.19437</td>\n      <td>-76.72659</td>\n    </tr>\n    <tr>\n      <th>6680</th>\n      <td>49576723</td>\n      <td>39.92248</td>\n      <td>-75.41419</td>\n    </tr>\n  </tbody>\n</table>\n<p>6681 rows × 3 columns</p>\n</div>"
     },
     "execution_count": 51,
     "metadata": {},
     "output_type": "execute_result"
    }
   ],
   "source": [
    "inst[[\"UNITID\",\"LATITUDE\",\"LONGITUDE\"]]"
   ]
  },
  {
   "cell_type": "code",
   "execution_count": 57,
   "outputs": [],
   "source": [
    "## Function to use to find the distance of each university in miles\n",
    "def inst_dist (lat,lon):\n",
    "    idx = inst.apply(lambda x: great_circle((x[\"LATITUDE\"], x[\"LONGITUDE\"]), (lat, lon)).miles, axis=1)\n",
    "    column_name = f\"{user_id}_DISTANCE_MI\"  # Adding user_id to the column title\n",
    "    return inst.loc[:, ['UNITID']].assign(**{column_name: idx})"
   ],
   "metadata": {
    "collapsed": false
   }
  },
  {
   "cell_type": "code",
   "execution_count": 59,
   "outputs": [],
   "source": [
    "def inst_dist (lat,lon):\n",
    "    idx = inst.apply(lambda x: great_circle((x[\"LATITUDE\"], x[\"LONGITUDE\"]), (lat, lon)).miles, axis=1)\n",
    "    column_name = f\"{user_id}_DISTANCE_MI\"  # Adding user_id to the column title\n",
    "    return inst.loc[:, ['UNITID']].assign(dist_miles = idx)"
   ],
   "metadata": {
    "collapsed": false
   }
  },
  {
   "cell_type": "code",
   "execution_count": 61,
   "id": "9e38ce79-7d6d-424f-b1f6-89686e179b27",
   "metadata": {
    "execution": {
     "iopub.execute_input": "2023-04-01T20:39:10.021760Z",
     "iopub.status.busy": "2023-04-01T20:39:10.020759Z",
     "iopub.status.idle": "2023-04-01T20:39:10.313370Z",
     "shell.execute_reply": "2023-04-01T20:39:10.312370Z",
     "shell.execute_reply.started": "2023-04-01T20:39:10.021760Z"
    },
    "tags": []
   },
   "outputs": [],
   "source": [
    "#Distances of each university to the input zip\n",
    "dist_temp_table = inst_dist(lat,lon)\n",
    "type(dist_temp_table)\n",
    "dist_temp_table\n",
    "inst = pd.merge(inst, dist_temp_table, on='UNITID')"
   ]
  },
  {
   "cell_type": "code",
   "execution_count": 5,
   "outputs": [
    {
     "data": {
      "text/plain": "        UNITID     OPEID  OPEID6   \n0       100654  00100200  001002  \\\n1       100663  00105200  001052   \n2       100690  02503400  025034   \n3       100706  00105500  001055   \n4       100724  00100500  001005   \n...        ...       ...     ...   \n6676  49576719  00332917  003329   \n6677  49576720  00332918  003329   \n6678  49576721  00332919  003329   \n6679  49576722  00332920  003329   \n6680  49576723  00332921  003329   \n\n                                                 INSTNM        CITY STABBR   \n0                              Alabama A & M University      Normal     AL  \\\n1                   University of Alabama at Birmingham  Birmingham     AL   \n2                                    Amridge University  Montgomery     AL   \n3                   University of Alabama in Huntsville  Huntsville     AL   \n4                              Alabama State University  Montgomery     AL   \n...                                                 ...         ...    ...   \n6676  Pennsylvania State University-Penn State Wilke...      Lehman     PA   \n6677      Pennsylvania State University-Penn State York        York     PA   \n6678  Pennsylvania State University-Penn State Great...     Malvern     PA   \n6679  Pennsylvania State University-Penn State Harri...  Middletown     PA   \n6680  Pennsylvania State University-Penn State Brand...       Media     PA   \n\n             ZIP                     INSTURL   \n0          35762               www.aamu.edu/  \\\n1     35294-0110        https://www.uab.edu/   \n2     36117-3553  www.amridgeuniversity.edu/   \n3          35899                www.uah.edu/   \n4     36104-0271              www.alasu.edu/   \n...          ...                         ...   \n6676  18627-0217        wilkesbarre.psu.edu/   \n6677  17403-3326               york.psu.edu/   \n6678  19355-1488        greatvalley.psu.edu/   \n6679  17057-4846         harrisburg.psu.edu/   \n6680  19063-5522         brandywine.psu.edu/   \n\n                                                 NPCURL HCM2  ...   \n0     www.aamu.edu/admissions-aid/tuition-fees/net-p...    0  ...  \\\n1     https://tcc.ruffalonl.com/University of Alabam...    0  ...   \n2                      www2.amridgeuniversity.edu:9091/    0  ...   \n3                                       finaid.uah.edu/    0  ...   \n4     www.alasu.edu/cost-aid/tuition-costs/net-price...    0  ...   \n...                                                 ...  ...  ...   \n6676                                               None    0  ...   \n6677                                               None    0  ...   \n6678                                               None    0  ...   \n6679                                               None    0  ...   \n6680                                               None    0  ...   \n\n     OMENRUP_PELL_NFT_POOLED_SUPP OMENRYP_PELL_FT_POOLED_SUPP   \n0                          0.2803                      0.0116  \\\n1                           0.211                      0.0149   \n2                           0.468                           0   \n3                           0.187                      0.0098   \n4                          0.2026                      0.0097   \n...                           ...                         ...   \n6676                         None                        None   \n6677                         None                        None   \n6678                         None                        None   \n6679                         None                        None   \n6680                         None                        None   \n\n     OMENRAP_PELL_FT_POOLED_SUPP OMAWDP8_PELL_FT_POOLED_SUPP   \n0                         0.3329                      0.2958  \\\n1                         0.2773                      0.5243   \n2                         0.2798                      0.2523   \n3                         0.3154                      0.4961   \n4                         0.3904                      0.3061   \n...                          ...                         ...   \n6676                        None                        None   \n6677                        None                        None   \n6678                        None                        None   \n6679                        None                        None   \n6680                        None                        None   \n\n     OMENRUP_PELL_FT_POOLED_SUPP OMENRYP_PELL_PT_POOLED_SUPP   \n0                         0.3597                      0.0056  \\\n1                         0.1835                      0.0211   \n2                         0.4679                           0   \n3                         0.1787                      0.0105   \n4                         0.2938                      0.0778   \n...                          ...                         ...   \n6676                        None                        None   \n6677                        None                        None   \n6678                        None                        None   \n6679                        None                        None   \n6680                        None                        None   \n\n     OMENRAP_PELL_PT_POOLED_SUPP OMAWDP8_PELL_PT_POOLED_SUPP   \n0                         0.3889                      0.1833  \\\n1                          0.277                      0.4354   \n2                          0.186                      0.4186   \n3                         0.3632                      0.3474   \n4                         0.4444                      0.1111   \n...                          ...                         ...   \n6676                        None                        None   \n6677                        None                        None   \n6678                        None                        None   \n6679                        None                        None   \n6680                        None                        None   \n\n     OMENRUP_PELL_PT_POOLED_SUPP GT_THRESHOLD_P6_SUPP  \n0                         0.4222               0.4606  \n1                         0.2665                0.659  \n2                         0.3953               0.5132  \n3                         0.2789                0.717  \n4                         0.3667                0.382  \n...                          ...                  ...  \n6676                        None                 None  \n6677                        None                 None  \n6678                        None                 None  \n6679                        None                 None  \n6680                        None                 None  \n\n[6681 rows x 174 columns]",
      "text/html": "<div>\n<style scoped>\n    .dataframe tbody tr th:only-of-type {\n        vertical-align: middle;\n    }\n\n    .dataframe tbody tr th {\n        vertical-align: top;\n    }\n\n    .dataframe thead th {\n        text-align: right;\n    }\n</style>\n<table border=\"1\" class=\"dataframe\">\n  <thead>\n    <tr style=\"text-align: right;\">\n      <th></th>\n      <th>UNITID</th>\n      <th>OPEID</th>\n      <th>OPEID6</th>\n      <th>INSTNM</th>\n      <th>CITY</th>\n      <th>STABBR</th>\n      <th>ZIP</th>\n      <th>INSTURL</th>\n      <th>NPCURL</th>\n      <th>HCM2</th>\n      <th>...</th>\n      <th>OMENRUP_PELL_NFT_POOLED_SUPP</th>\n      <th>OMENRYP_PELL_FT_POOLED_SUPP</th>\n      <th>OMENRAP_PELL_FT_POOLED_SUPP</th>\n      <th>OMAWDP8_PELL_FT_POOLED_SUPP</th>\n      <th>OMENRUP_PELL_FT_POOLED_SUPP</th>\n      <th>OMENRYP_PELL_PT_POOLED_SUPP</th>\n      <th>OMENRAP_PELL_PT_POOLED_SUPP</th>\n      <th>OMAWDP8_PELL_PT_POOLED_SUPP</th>\n      <th>OMENRUP_PELL_PT_POOLED_SUPP</th>\n      <th>GT_THRESHOLD_P6_SUPP</th>\n    </tr>\n  </thead>\n  <tbody>\n    <tr>\n      <th>0</th>\n      <td>100654</td>\n      <td>00100200</td>\n      <td>001002</td>\n      <td>Alabama A &amp; M University</td>\n      <td>Normal</td>\n      <td>AL</td>\n      <td>35762</td>\n      <td>www.aamu.edu/</td>\n      <td>www.aamu.edu/admissions-aid/tuition-fees/net-p...</td>\n      <td>0</td>\n      <td>...</td>\n      <td>0.2803</td>\n      <td>0.0116</td>\n      <td>0.3329</td>\n      <td>0.2958</td>\n      <td>0.3597</td>\n      <td>0.0056</td>\n      <td>0.3889</td>\n      <td>0.1833</td>\n      <td>0.4222</td>\n      <td>0.4606</td>\n    </tr>\n    <tr>\n      <th>1</th>\n      <td>100663</td>\n      <td>00105200</td>\n      <td>001052</td>\n      <td>University of Alabama at Birmingham</td>\n      <td>Birmingham</td>\n      <td>AL</td>\n      <td>35294-0110</td>\n      <td>https://www.uab.edu/</td>\n      <td>https://tcc.ruffalonl.com/University of Alabam...</td>\n      <td>0</td>\n      <td>...</td>\n      <td>0.211</td>\n      <td>0.0149</td>\n      <td>0.2773</td>\n      <td>0.5243</td>\n      <td>0.1835</td>\n      <td>0.0211</td>\n      <td>0.277</td>\n      <td>0.4354</td>\n      <td>0.2665</td>\n      <td>0.659</td>\n    </tr>\n    <tr>\n      <th>2</th>\n      <td>100690</td>\n      <td>02503400</td>\n      <td>025034</td>\n      <td>Amridge University</td>\n      <td>Montgomery</td>\n      <td>AL</td>\n      <td>36117-3553</td>\n      <td>www.amridgeuniversity.edu/</td>\n      <td>www2.amridgeuniversity.edu:9091/</td>\n      <td>0</td>\n      <td>...</td>\n      <td>0.468</td>\n      <td>0</td>\n      <td>0.2798</td>\n      <td>0.2523</td>\n      <td>0.4679</td>\n      <td>0</td>\n      <td>0.186</td>\n      <td>0.4186</td>\n      <td>0.3953</td>\n      <td>0.5132</td>\n    </tr>\n    <tr>\n      <th>3</th>\n      <td>100706</td>\n      <td>00105500</td>\n      <td>001055</td>\n      <td>University of Alabama in Huntsville</td>\n      <td>Huntsville</td>\n      <td>AL</td>\n      <td>35899</td>\n      <td>www.uah.edu/</td>\n      <td>finaid.uah.edu/</td>\n      <td>0</td>\n      <td>...</td>\n      <td>0.187</td>\n      <td>0.0098</td>\n      <td>0.3154</td>\n      <td>0.4961</td>\n      <td>0.1787</td>\n      <td>0.0105</td>\n      <td>0.3632</td>\n      <td>0.3474</td>\n      <td>0.2789</td>\n      <td>0.717</td>\n    </tr>\n    <tr>\n      <th>4</th>\n      <td>100724</td>\n      <td>00100500</td>\n      <td>001005</td>\n      <td>Alabama State University</td>\n      <td>Montgomery</td>\n      <td>AL</td>\n      <td>36104-0271</td>\n      <td>www.alasu.edu/</td>\n      <td>www.alasu.edu/cost-aid/tuition-costs/net-price...</td>\n      <td>0</td>\n      <td>...</td>\n      <td>0.2026</td>\n      <td>0.0097</td>\n      <td>0.3904</td>\n      <td>0.3061</td>\n      <td>0.2938</td>\n      <td>0.0778</td>\n      <td>0.4444</td>\n      <td>0.1111</td>\n      <td>0.3667</td>\n      <td>0.382</td>\n    </tr>\n    <tr>\n      <th>...</th>\n      <td>...</td>\n      <td>...</td>\n      <td>...</td>\n      <td>...</td>\n      <td>...</td>\n      <td>...</td>\n      <td>...</td>\n      <td>...</td>\n      <td>...</td>\n      <td>...</td>\n      <td>...</td>\n      <td>...</td>\n      <td>...</td>\n      <td>...</td>\n      <td>...</td>\n      <td>...</td>\n      <td>...</td>\n      <td>...</td>\n      <td>...</td>\n      <td>...</td>\n      <td>...</td>\n    </tr>\n    <tr>\n      <th>6676</th>\n      <td>49576719</td>\n      <td>00332917</td>\n      <td>003329</td>\n      <td>Pennsylvania State University-Penn State Wilke...</td>\n      <td>Lehman</td>\n      <td>PA</td>\n      <td>18627-0217</td>\n      <td>wilkesbarre.psu.edu/</td>\n      <td>None</td>\n      <td>0</td>\n      <td>...</td>\n      <td>None</td>\n      <td>None</td>\n      <td>None</td>\n      <td>None</td>\n      <td>None</td>\n      <td>None</td>\n      <td>None</td>\n      <td>None</td>\n      <td>None</td>\n      <td>None</td>\n    </tr>\n    <tr>\n      <th>6677</th>\n      <td>49576720</td>\n      <td>00332918</td>\n      <td>003329</td>\n      <td>Pennsylvania State University-Penn State York</td>\n      <td>York</td>\n      <td>PA</td>\n      <td>17403-3326</td>\n      <td>york.psu.edu/</td>\n      <td>None</td>\n      <td>0</td>\n      <td>...</td>\n      <td>None</td>\n      <td>None</td>\n      <td>None</td>\n      <td>None</td>\n      <td>None</td>\n      <td>None</td>\n      <td>None</td>\n      <td>None</td>\n      <td>None</td>\n      <td>None</td>\n    </tr>\n    <tr>\n      <th>6678</th>\n      <td>49576721</td>\n      <td>00332919</td>\n      <td>003329</td>\n      <td>Pennsylvania State University-Penn State Great...</td>\n      <td>Malvern</td>\n      <td>PA</td>\n      <td>19355-1488</td>\n      <td>greatvalley.psu.edu/</td>\n      <td>None</td>\n      <td>0</td>\n      <td>...</td>\n      <td>None</td>\n      <td>None</td>\n      <td>None</td>\n      <td>None</td>\n      <td>None</td>\n      <td>None</td>\n      <td>None</td>\n      <td>None</td>\n      <td>None</td>\n      <td>None</td>\n    </tr>\n    <tr>\n      <th>6679</th>\n      <td>49576722</td>\n      <td>00332920</td>\n      <td>003329</td>\n      <td>Pennsylvania State University-Penn State Harri...</td>\n      <td>Middletown</td>\n      <td>PA</td>\n      <td>17057-4846</td>\n      <td>harrisburg.psu.edu/</td>\n      <td>None</td>\n      <td>0</td>\n      <td>...</td>\n      <td>None</td>\n      <td>None</td>\n      <td>None</td>\n      <td>None</td>\n      <td>None</td>\n      <td>None</td>\n      <td>None</td>\n      <td>None</td>\n      <td>None</td>\n      <td>None</td>\n    </tr>\n    <tr>\n      <th>6680</th>\n      <td>49576723</td>\n      <td>00332921</td>\n      <td>003329</td>\n      <td>Pennsylvania State University-Penn State Brand...</td>\n      <td>Media</td>\n      <td>PA</td>\n      <td>19063-5522</td>\n      <td>brandywine.psu.edu/</td>\n      <td>None</td>\n      <td>0</td>\n      <td>...</td>\n      <td>None</td>\n      <td>None</td>\n      <td>None</td>\n      <td>None</td>\n      <td>None</td>\n      <td>None</td>\n      <td>None</td>\n      <td>None</td>\n      <td>None</td>\n      <td>None</td>\n    </tr>\n  </tbody>\n</table>\n<p>6681 rows × 174 columns</p>\n</div>"
     },
     "execution_count": 5,
     "metadata": {},
     "output_type": "execute_result"
    }
   ],
   "source": [
    "pd.read_sql(\"SELECT * FROM inst\",conn)"
   ],
   "metadata": {
    "collapsed": false
   }
  },
  {
   "cell_type": "code",
   "execution_count": 6,
   "outputs": [],
   "source": [
    "def transform_zip_to_dist_col(zipcode):\n",
    "    geo = pd.read_sql(\"SELECT * FROM geo\",conn)\n",
    "    inst = pd.read_sql(\"SELECT * FROM inst\",conn)\n",
    "    lat =float(list(geo[geo['zip']==zipcode]['lat'])[0])\n",
    "    lon =float(list(geo[geo['zip']==zipcode]['lng'])[0])\n",
    "    idx = inst.apply(lambda x: great_circle((x[\"LATITUDE\"], x[\"LONGITUDE\"]), (lat, lon)).miles, axis=1)\n",
    "    distDF = inst.loc[:, ['UNITID']].assign(dist_miles = idx)\n",
    "    inst = pd.merge(inst, distDF, on='UNITID')\n",
    "    return inst"
   ],
   "metadata": {
    "collapsed": false
   }
  },
  {
   "cell_type": "code",
   "execution_count": 7,
   "outputs": [
    {
     "data": {
      "text/plain": "        UNITID     OPEID  OPEID6   \n0       100654  00100200  001002  \\\n1       100663  00105200  001052   \n2       100690  02503400  025034   \n3       100706  00105500  001055   \n4       100724  00100500  001005   \n...        ...       ...     ...   \n6676  49576719  00332917  003329   \n6677  49576720  00332918  003329   \n6678  49576721  00332919  003329   \n6679  49576722  00332920  003329   \n6680  49576723  00332921  003329   \n\n                                                 INSTNM        CITY STABBR   \n0                              Alabama A & M University      Normal     AL  \\\n1                   University of Alabama at Birmingham  Birmingham     AL   \n2                                    Amridge University  Montgomery     AL   \n3                   University of Alabama in Huntsville  Huntsville     AL   \n4                              Alabama State University  Montgomery     AL   \n...                                                 ...         ...    ...   \n6676  Pennsylvania State University-Penn State Wilke...      Lehman     PA   \n6677      Pennsylvania State University-Penn State York        York     PA   \n6678  Pennsylvania State University-Penn State Great...     Malvern     PA   \n6679  Pennsylvania State University-Penn State Harri...  Middletown     PA   \n6680  Pennsylvania State University-Penn State Brand...       Media     PA   \n\n             ZIP                     INSTURL   \n0          35762               www.aamu.edu/  \\\n1     35294-0110        https://www.uab.edu/   \n2     36117-3553  www.amridgeuniversity.edu/   \n3          35899                www.uah.edu/   \n4     36104-0271              www.alasu.edu/   \n...          ...                         ...   \n6676  18627-0217        wilkesbarre.psu.edu/   \n6677  17403-3326               york.psu.edu/   \n6678  19355-1488        greatvalley.psu.edu/   \n6679  17057-4846         harrisburg.psu.edu/   \n6680  19063-5522         brandywine.psu.edu/   \n\n                                                 NPCURL HCM2  ...   \n0     www.aamu.edu/admissions-aid/tuition-fees/net-p...    0  ...  \\\n1     https://tcc.ruffalonl.com/University of Alabam...    0  ...   \n2                      www2.amridgeuniversity.edu:9091/    0  ...   \n3                                       finaid.uah.edu/    0  ...   \n4     www.alasu.edu/cost-aid/tuition-costs/net-price...    0  ...   \n...                                                 ...  ...  ...   \n6676                                               None    0  ...   \n6677                                               None    0  ...   \n6678                                               None    0  ...   \n6679                                               None    0  ...   \n6680                                               None    0  ...   \n\n     OMENRYP_PELL_FT_POOLED_SUPP OMENRAP_PELL_FT_POOLED_SUPP   \n0                         0.0116                      0.3329  \\\n1                         0.0149                      0.2773   \n2                              0                      0.2798   \n3                         0.0098                      0.3154   \n4                         0.0097                      0.3904   \n...                          ...                         ...   \n6676                        None                        None   \n6677                        None                        None   \n6678                        None                        None   \n6679                        None                        None   \n6680                        None                        None   \n\n     OMAWDP8_PELL_FT_POOLED_SUPP OMENRUP_PELL_FT_POOLED_SUPP   \n0                         0.2958                      0.3597  \\\n1                         0.5243                      0.1835   \n2                         0.2523                      0.4679   \n3                         0.4961                      0.1787   \n4                         0.3061                      0.2938   \n...                          ...                         ...   \n6676                        None                        None   \n6677                        None                        None   \n6678                        None                        None   \n6679                        None                        None   \n6680                        None                        None   \n\n     OMENRYP_PELL_PT_POOLED_SUPP OMENRAP_PELL_PT_POOLED_SUPP   \n0                         0.0056                      0.3889  \\\n1                         0.0211                       0.277   \n2                              0                       0.186   \n3                         0.0105                      0.3632   \n4                         0.0778                      0.4444   \n...                          ...                         ...   \n6676                        None                        None   \n6677                        None                        None   \n6678                        None                        None   \n6679                        None                        None   \n6680                        None                        None   \n\n     OMAWDP8_PELL_PT_POOLED_SUPP OMENRUP_PELL_PT_POOLED_SUPP   \n0                         0.1833                      0.4222  \\\n1                         0.4354                      0.2665   \n2                         0.4186                      0.3953   \n3                         0.3474                      0.2789   \n4                         0.1111                      0.3667   \n...                          ...                         ...   \n6676                        None                        None   \n6677                        None                        None   \n6678                        None                        None   \n6679                        None                        None   \n6680                        None                        None   \n\n     GT_THRESHOLD_P6_SUPP  dist_miles  \n0                  0.4606  147.593425  \n1                   0.659  156.540810  \n2                  0.5132  164.191256  \n3                   0.717  150.129854  \n4                   0.382  169.201972  \n...                   ...         ...  \n6676                 None  670.943595  \n6677                 None  577.729643  \n6678                 None  630.970517  \n6679                 None  590.104574  \n6680                 None  630.528504  \n\n[6681 rows x 175 columns]",
      "text/html": "<div>\n<style scoped>\n    .dataframe tbody tr th:only-of-type {\n        vertical-align: middle;\n    }\n\n    .dataframe tbody tr th {\n        vertical-align: top;\n    }\n\n    .dataframe thead th {\n        text-align: right;\n    }\n</style>\n<table border=\"1\" class=\"dataframe\">\n  <thead>\n    <tr style=\"text-align: right;\">\n      <th></th>\n      <th>UNITID</th>\n      <th>OPEID</th>\n      <th>OPEID6</th>\n      <th>INSTNM</th>\n      <th>CITY</th>\n      <th>STABBR</th>\n      <th>ZIP</th>\n      <th>INSTURL</th>\n      <th>NPCURL</th>\n      <th>HCM2</th>\n      <th>...</th>\n      <th>OMENRYP_PELL_FT_POOLED_SUPP</th>\n      <th>OMENRAP_PELL_FT_POOLED_SUPP</th>\n      <th>OMAWDP8_PELL_FT_POOLED_SUPP</th>\n      <th>OMENRUP_PELL_FT_POOLED_SUPP</th>\n      <th>OMENRYP_PELL_PT_POOLED_SUPP</th>\n      <th>OMENRAP_PELL_PT_POOLED_SUPP</th>\n      <th>OMAWDP8_PELL_PT_POOLED_SUPP</th>\n      <th>OMENRUP_PELL_PT_POOLED_SUPP</th>\n      <th>GT_THRESHOLD_P6_SUPP</th>\n      <th>dist_miles</th>\n    </tr>\n  </thead>\n  <tbody>\n    <tr>\n      <th>0</th>\n      <td>100654</td>\n      <td>00100200</td>\n      <td>001002</td>\n      <td>Alabama A &amp; M University</td>\n      <td>Normal</td>\n      <td>AL</td>\n      <td>35762</td>\n      <td>www.aamu.edu/</td>\n      <td>www.aamu.edu/admissions-aid/tuition-fees/net-p...</td>\n      <td>0</td>\n      <td>...</td>\n      <td>0.0116</td>\n      <td>0.3329</td>\n      <td>0.2958</td>\n      <td>0.3597</td>\n      <td>0.0056</td>\n      <td>0.3889</td>\n      <td>0.1833</td>\n      <td>0.4222</td>\n      <td>0.4606</td>\n      <td>147.593425</td>\n    </tr>\n    <tr>\n      <th>1</th>\n      <td>100663</td>\n      <td>00105200</td>\n      <td>001052</td>\n      <td>University of Alabama at Birmingham</td>\n      <td>Birmingham</td>\n      <td>AL</td>\n      <td>35294-0110</td>\n      <td>https://www.uab.edu/</td>\n      <td>https://tcc.ruffalonl.com/University of Alabam...</td>\n      <td>0</td>\n      <td>...</td>\n      <td>0.0149</td>\n      <td>0.2773</td>\n      <td>0.5243</td>\n      <td>0.1835</td>\n      <td>0.0211</td>\n      <td>0.277</td>\n      <td>0.4354</td>\n      <td>0.2665</td>\n      <td>0.659</td>\n      <td>156.540810</td>\n    </tr>\n    <tr>\n      <th>2</th>\n      <td>100690</td>\n      <td>02503400</td>\n      <td>025034</td>\n      <td>Amridge University</td>\n      <td>Montgomery</td>\n      <td>AL</td>\n      <td>36117-3553</td>\n      <td>www.amridgeuniversity.edu/</td>\n      <td>www2.amridgeuniversity.edu:9091/</td>\n      <td>0</td>\n      <td>...</td>\n      <td>0</td>\n      <td>0.2798</td>\n      <td>0.2523</td>\n      <td>0.4679</td>\n      <td>0</td>\n      <td>0.186</td>\n      <td>0.4186</td>\n      <td>0.3953</td>\n      <td>0.5132</td>\n      <td>164.191256</td>\n    </tr>\n    <tr>\n      <th>3</th>\n      <td>100706</td>\n      <td>00105500</td>\n      <td>001055</td>\n      <td>University of Alabama in Huntsville</td>\n      <td>Huntsville</td>\n      <td>AL</td>\n      <td>35899</td>\n      <td>www.uah.edu/</td>\n      <td>finaid.uah.edu/</td>\n      <td>0</td>\n      <td>...</td>\n      <td>0.0098</td>\n      <td>0.3154</td>\n      <td>0.4961</td>\n      <td>0.1787</td>\n      <td>0.0105</td>\n      <td>0.3632</td>\n      <td>0.3474</td>\n      <td>0.2789</td>\n      <td>0.717</td>\n      <td>150.129854</td>\n    </tr>\n    <tr>\n      <th>4</th>\n      <td>100724</td>\n      <td>00100500</td>\n      <td>001005</td>\n      <td>Alabama State University</td>\n      <td>Montgomery</td>\n      <td>AL</td>\n      <td>36104-0271</td>\n      <td>www.alasu.edu/</td>\n      <td>www.alasu.edu/cost-aid/tuition-costs/net-price...</td>\n      <td>0</td>\n      <td>...</td>\n      <td>0.0097</td>\n      <td>0.3904</td>\n      <td>0.3061</td>\n      <td>0.2938</td>\n      <td>0.0778</td>\n      <td>0.4444</td>\n      <td>0.1111</td>\n      <td>0.3667</td>\n      <td>0.382</td>\n      <td>169.201972</td>\n    </tr>\n    <tr>\n      <th>...</th>\n      <td>...</td>\n      <td>...</td>\n      <td>...</td>\n      <td>...</td>\n      <td>...</td>\n      <td>...</td>\n      <td>...</td>\n      <td>...</td>\n      <td>...</td>\n      <td>...</td>\n      <td>...</td>\n      <td>...</td>\n      <td>...</td>\n      <td>...</td>\n      <td>...</td>\n      <td>...</td>\n      <td>...</td>\n      <td>...</td>\n      <td>...</td>\n      <td>...</td>\n      <td>...</td>\n    </tr>\n    <tr>\n      <th>6676</th>\n      <td>49576719</td>\n      <td>00332917</td>\n      <td>003329</td>\n      <td>Pennsylvania State University-Penn State Wilke...</td>\n      <td>Lehman</td>\n      <td>PA</td>\n      <td>18627-0217</td>\n      <td>wilkesbarre.psu.edu/</td>\n      <td>None</td>\n      <td>0</td>\n      <td>...</td>\n      <td>None</td>\n      <td>None</td>\n      <td>None</td>\n      <td>None</td>\n      <td>None</td>\n      <td>None</td>\n      <td>None</td>\n      <td>None</td>\n      <td>None</td>\n      <td>670.943595</td>\n    </tr>\n    <tr>\n      <th>6677</th>\n      <td>49576720</td>\n      <td>00332918</td>\n      <td>003329</td>\n      <td>Pennsylvania State University-Penn State York</td>\n      <td>York</td>\n      <td>PA</td>\n      <td>17403-3326</td>\n      <td>york.psu.edu/</td>\n      <td>None</td>\n      <td>0</td>\n      <td>...</td>\n      <td>None</td>\n      <td>None</td>\n      <td>None</td>\n      <td>None</td>\n      <td>None</td>\n      <td>None</td>\n      <td>None</td>\n      <td>None</td>\n      <td>None</td>\n      <td>577.729643</td>\n    </tr>\n    <tr>\n      <th>6678</th>\n      <td>49576721</td>\n      <td>00332919</td>\n      <td>003329</td>\n      <td>Pennsylvania State University-Penn State Great...</td>\n      <td>Malvern</td>\n      <td>PA</td>\n      <td>19355-1488</td>\n      <td>greatvalley.psu.edu/</td>\n      <td>None</td>\n      <td>0</td>\n      <td>...</td>\n      <td>None</td>\n      <td>None</td>\n      <td>None</td>\n      <td>None</td>\n      <td>None</td>\n      <td>None</td>\n      <td>None</td>\n      <td>None</td>\n      <td>None</td>\n      <td>630.970517</td>\n    </tr>\n    <tr>\n      <th>6679</th>\n      <td>49576722</td>\n      <td>00332920</td>\n      <td>003329</td>\n      <td>Pennsylvania State University-Penn State Harri...</td>\n      <td>Middletown</td>\n      <td>PA</td>\n      <td>17057-4846</td>\n      <td>harrisburg.psu.edu/</td>\n      <td>None</td>\n      <td>0</td>\n      <td>...</td>\n      <td>None</td>\n      <td>None</td>\n      <td>None</td>\n      <td>None</td>\n      <td>None</td>\n      <td>None</td>\n      <td>None</td>\n      <td>None</td>\n      <td>None</td>\n      <td>590.104574</td>\n    </tr>\n    <tr>\n      <th>6680</th>\n      <td>49576723</td>\n      <td>00332921</td>\n      <td>003329</td>\n      <td>Pennsylvania State University-Penn State Brand...</td>\n      <td>Media</td>\n      <td>PA</td>\n      <td>19063-5522</td>\n      <td>brandywine.psu.edu/</td>\n      <td>None</td>\n      <td>0</td>\n      <td>...</td>\n      <td>None</td>\n      <td>None</td>\n      <td>None</td>\n      <td>None</td>\n      <td>None</td>\n      <td>None</td>\n      <td>None</td>\n      <td>None</td>\n      <td>None</td>\n      <td>630.528504</td>\n    </tr>\n  </tbody>\n</table>\n<p>6681 rows × 175 columns</p>\n</div>"
     },
     "execution_count": 7,
     "metadata": {},
     "output_type": "execute_result"
    }
   ],
   "source": [
    "test = transform_zip_to_dist_col('30097')\n",
    "test"
   ],
   "metadata": {
    "collapsed": false
   }
  },
  {
   "cell_type": "markdown",
   "source": [
    "Applying filters:"
   ],
   "metadata": {
    "collapsed": false
   }
  },
  {
   "cell_type": "markdown",
   "source": [],
   "metadata": {
    "collapsed": false
   }
  },
  {
   "cell_type": "code",
   "execution_count": 40,
   "outputs": [],
   "source": [
    "def filter_list(filter1, filter2):\n",
    "    l = list()\n",
    "    l.append(filter1)\n",
    "    l.append(filter2)\n",
    "    return l"
   ],
   "metadata": {
    "collapsed": false
   }
  },
  {
   "cell_type": "code",
   "execution_count": 41,
   "outputs": [
    {
     "data": {
      "text/plain": "['SATMT25', 'SATVR25']"
     },
     "execution_count": 41,
     "metadata": {},
     "output_type": "execute_result"
    }
   ],
   "source": [
    "filterList = filter_list('SATMT25','SATVR25')\n",
    "filterList"
   ],
   "metadata": {
    "collapsed": false
   }
  },
  {
   "cell_type": "code",
   "execution_count": 42,
   "outputs": [],
   "source": [
    "def filter_values(filter1,filter1input, filter2, filter2input):\n",
    "    filters_dict = {}\n",
    "    filters_dict[filter1] = filter1input\n",
    "    filters_dict[filter2] = filter2input\n",
    "    return filters_dict"
   ],
   "metadata": {
    "collapsed": false
   }
  },
  {
   "cell_type": "code",
   "execution_count": 52,
   "outputs": [
    {
     "data": {
      "text/plain": "{'SATMT25': '586', 'SATVR25': '789'}"
     },
     "execution_count": 52,
     "metadata": {},
     "output_type": "execute_result"
    }
   ],
   "source": [
    "filterValues = filter_values('SATMT25', '586', 'SATVR25', '789')\n",
    "filterValues"
   ],
   "metadata": {
    "collapsed": false
   }
  },
  {
   "cell_type": "code",
   "execution_count": 71,
   "outputs": [],
   "source": [
    "#stuck on getting argument df to work in format function\n",
    "def apply_filters(df, featuresDict, filterList, filterValues):\n",
    "    filterquery = \"\"\"\n",
    "    SELECT\n",
    "    {1},\n",
    "    {2},\n",
    "    {3}\n",
    "    FROM {0}\n",
    "    WHERE {4} <= {5}\n",
    "    AND {6} <= {7}\n",
    "    \"\"\".format(df,featuresDict['feature1'],featuresDict['feature2'],featuresDict['feature3'], filterList[0], filterValues[filterList[0]],filterList[1],  filterValues[filterList[1]])\n",
    "    return sqldf(filterquery,locals())"
   ],
   "metadata": {
    "collapsed": false
   }
  },
  {
   "cell_type": "code",
   "execution_count": 72,
   "outputs": [
    {
     "ename": "UFuncTypeError",
     "evalue": "ufunc 'add' did not contain a loop with signature matching types (dtype('<U1'), dtype('float64')) -> None",
     "output_type": "error",
     "traceback": [
      "\u001B[1;31m---------------------------------------------------------------------------\u001B[0m",
      "\u001B[1;31mUFuncTypeError\u001B[0m                            Traceback (most recent call last)",
      "Cell \u001B[1;32mIn[72], line 1\u001B[0m\n\u001B[1;32m----> 1\u001B[0m appliedfilters \u001B[38;5;241m=\u001B[39m \u001B[43mapply_filters\u001B[49m\u001B[43m(\u001B[49m\u001B[43mdf\u001B[49m\u001B[38;5;241;43m=\u001B[39;49m\u001B[43mtest\u001B[49m\u001B[43m,\u001B[49m\u001B[43mfeaturesDict\u001B[49m\u001B[43m \u001B[49m\u001B[38;5;241;43m=\u001B[39;49m\u001B[43m \u001B[49m\u001B[43mfeaturesDict\u001B[49m\u001B[43m,\u001B[49m\u001B[43mfilterList\u001B[49m\u001B[38;5;241;43m=\u001B[39;49m\u001B[43mfilterList\u001B[49m\u001B[43m,\u001B[49m\u001B[43mfilterValues\u001B[49m\u001B[38;5;241;43m=\u001B[39;49m\u001B[43mfilterValues\u001B[49m\u001B[43m)\u001B[49m\n\u001B[0;32m      2\u001B[0m appliedfilters\n",
      "Cell \u001B[1;32mIn[71], line 10\u001B[0m, in \u001B[0;36mapply_filters\u001B[1;34m(df, featuresDict, filterList, filterValues)\u001B[0m\n\u001B[0;32m      1\u001B[0m \u001B[38;5;28;01mdef\u001B[39;00m \u001B[38;5;21mapply_filters\u001B[39m(df, featuresDict, filterList, filterValues):\n\u001B[0;32m      2\u001B[0m     filterquery \u001B[38;5;241m=\u001B[39m \u001B[38;5;124m\"\"\"\u001B[39m\n\u001B[0;32m      3\u001B[0m \u001B[38;5;124m    SELECT\u001B[39m\n\u001B[0;32m      4\u001B[0m \u001B[38;5;124m    \u001B[39m\u001B[38;5;132;01m{1}\u001B[39;00m\u001B[38;5;124m,\u001B[39m\n\u001B[0;32m      5\u001B[0m \u001B[38;5;124m    \u001B[39m\u001B[38;5;132;01m{2}\u001B[39;00m\u001B[38;5;124m,\u001B[39m\n\u001B[0;32m      6\u001B[0m \u001B[38;5;124m    \u001B[39m\u001B[38;5;132;01m{3}\u001B[39;00m\n\u001B[0;32m      7\u001B[0m \u001B[38;5;124m    FROM \u001B[39m\u001B[38;5;132;01m{0}\u001B[39;00m\n\u001B[0;32m      8\u001B[0m \u001B[38;5;124m    WHERE \u001B[39m\u001B[38;5;132;01m{4}\u001B[39;00m\u001B[38;5;124m <= \u001B[39m\u001B[38;5;132;01m{5}\u001B[39;00m\n\u001B[0;32m      9\u001B[0m \u001B[38;5;124m    AND \u001B[39m\u001B[38;5;132;01m{6}\u001B[39;00m\u001B[38;5;124m <= \u001B[39m\u001B[38;5;132;01m{7}\u001B[39;00m\n\u001B[1;32m---> 10\u001B[0m \u001B[38;5;124m    \u001B[39m\u001B[38;5;124m\"\"\"\u001B[39m\u001B[38;5;241m.\u001B[39mformat(\u001B[38;5;124;43m\"\u001B[39;49m\u001B[38;5;124;43m'\u001B[39;49m\u001B[38;5;124;43m\"\u001B[39;49m\u001B[38;5;241;43m+\u001B[39;49m\u001B[43m \u001B[49m\u001B[43mdf\u001B[49m \u001B[38;5;241m+\u001B[39m \u001B[38;5;124m\"\u001B[39m\u001B[38;5;124m'\u001B[39m\u001B[38;5;124m\"\u001B[39m,featuresDict[\u001B[38;5;124m'\u001B[39m\u001B[38;5;124mfeature1\u001B[39m\u001B[38;5;124m'\u001B[39m],featuresDict[\u001B[38;5;124m'\u001B[39m\u001B[38;5;124mfeature2\u001B[39m\u001B[38;5;124m'\u001B[39m],featuresDict[\u001B[38;5;124m'\u001B[39m\u001B[38;5;124mfeature3\u001B[39m\u001B[38;5;124m'\u001B[39m], filterList[\u001B[38;5;241m0\u001B[39m], filterValues[filterList[\u001B[38;5;241m0\u001B[39m]],filterList[\u001B[38;5;241m1\u001B[39m],  filterValues[filterList[\u001B[38;5;241m1\u001B[39m]])\n\u001B[0;32m     11\u001B[0m     \u001B[38;5;28;01mreturn\u001B[39;00m sqldf(filterquery,\u001B[38;5;28mlocals\u001B[39m())\n",
      "File \u001B[1;32m~\\PycharmProjects\\CSE6242Project\\venv\\Lib\\site-packages\\pandas\\core\\ops\\common.py:81\u001B[0m, in \u001B[0;36m_unpack_zerodim_and_defer.<locals>.new_method\u001B[1;34m(self, other)\u001B[0m\n\u001B[0;32m     77\u001B[0m             \u001B[38;5;28;01mreturn\u001B[39;00m \u001B[38;5;28mNotImplemented\u001B[39m\n\u001B[0;32m     79\u001B[0m other \u001B[38;5;241m=\u001B[39m item_from_zerodim(other)\n\u001B[1;32m---> 81\u001B[0m \u001B[38;5;28;01mreturn\u001B[39;00m \u001B[43mmethod\u001B[49m\u001B[43m(\u001B[49m\u001B[38;5;28;43mself\u001B[39;49m\u001B[43m,\u001B[49m\u001B[43m \u001B[49m\u001B[43mother\u001B[49m\u001B[43m)\u001B[49m\n",
      "File \u001B[1;32m~\\PycharmProjects\\CSE6242Project\\venv\\Lib\\site-packages\\pandas\\core\\arraylike.py:190\u001B[0m, in \u001B[0;36mOpsMixin.__radd__\u001B[1;34m(self, other)\u001B[0m\n\u001B[0;32m    188\u001B[0m \u001B[38;5;129m@unpack_zerodim_and_defer\u001B[39m(\u001B[38;5;124m\"\u001B[39m\u001B[38;5;124m__radd__\u001B[39m\u001B[38;5;124m\"\u001B[39m)\n\u001B[0;32m    189\u001B[0m \u001B[38;5;28;01mdef\u001B[39;00m \u001B[38;5;21m__radd__\u001B[39m(\u001B[38;5;28mself\u001B[39m, other):\n\u001B[1;32m--> 190\u001B[0m     \u001B[38;5;28;01mreturn\u001B[39;00m \u001B[38;5;28;43mself\u001B[39;49m\u001B[38;5;241;43m.\u001B[39;49m\u001B[43m_arith_method\u001B[49m\u001B[43m(\u001B[49m\u001B[43mother\u001B[49m\u001B[43m,\u001B[49m\u001B[43m \u001B[49m\u001B[43mroperator\u001B[49m\u001B[38;5;241;43m.\u001B[39;49m\u001B[43mradd\u001B[49m\u001B[43m)\u001B[49m\n",
      "File \u001B[1;32m~\\PycharmProjects\\CSE6242Project\\venv\\Lib\\site-packages\\pandas\\core\\frame.py:7461\u001B[0m, in \u001B[0;36mDataFrame._arith_method\u001B[1;34m(self, other, op)\u001B[0m\n\u001B[0;32m   7457\u001B[0m other \u001B[38;5;241m=\u001B[39m ops\u001B[38;5;241m.\u001B[39mmaybe_prepare_scalar_for_op(other, (\u001B[38;5;28mself\u001B[39m\u001B[38;5;241m.\u001B[39mshape[axis],))\n\u001B[0;32m   7459\u001B[0m \u001B[38;5;28mself\u001B[39m, other \u001B[38;5;241m=\u001B[39m ops\u001B[38;5;241m.\u001B[39malign_method_FRAME(\u001B[38;5;28mself\u001B[39m, other, axis, flex\u001B[38;5;241m=\u001B[39m\u001B[38;5;28;01mTrue\u001B[39;00m, level\u001B[38;5;241m=\u001B[39m\u001B[38;5;28;01mNone\u001B[39;00m)\n\u001B[1;32m-> 7461\u001B[0m new_data \u001B[38;5;241m=\u001B[39m \u001B[38;5;28;43mself\u001B[39;49m\u001B[38;5;241;43m.\u001B[39;49m\u001B[43m_dispatch_frame_op\u001B[49m\u001B[43m(\u001B[49m\u001B[43mother\u001B[49m\u001B[43m,\u001B[49m\u001B[43m \u001B[49m\u001B[43mop\u001B[49m\u001B[43m,\u001B[49m\u001B[43m \u001B[49m\u001B[43maxis\u001B[49m\u001B[38;5;241;43m=\u001B[39;49m\u001B[43maxis\u001B[49m\u001B[43m)\u001B[49m\n\u001B[0;32m   7462\u001B[0m \u001B[38;5;28;01mreturn\u001B[39;00m \u001B[38;5;28mself\u001B[39m\u001B[38;5;241m.\u001B[39m_construct_result(new_data)\n",
      "File \u001B[1;32m~\\PycharmProjects\\CSE6242Project\\venv\\Lib\\site-packages\\pandas\\core\\frame.py:7488\u001B[0m, in \u001B[0;36mDataFrame._dispatch_frame_op\u001B[1;34m(self, right, func, axis)\u001B[0m\n\u001B[0;32m   7485\u001B[0m \u001B[38;5;28;01mif\u001B[39;00m \u001B[38;5;129;01mnot\u001B[39;00m is_list_like(right):\n\u001B[0;32m   7486\u001B[0m     \u001B[38;5;66;03m# i.e. scalar, faster than checking np.ndim(right) == 0\u001B[39;00m\n\u001B[0;32m   7487\u001B[0m     \u001B[38;5;28;01mwith\u001B[39;00m np\u001B[38;5;241m.\u001B[39merrstate(\u001B[38;5;28mall\u001B[39m\u001B[38;5;241m=\u001B[39m\u001B[38;5;124m\"\u001B[39m\u001B[38;5;124mignore\u001B[39m\u001B[38;5;124m\"\u001B[39m):\n\u001B[1;32m-> 7488\u001B[0m         bm \u001B[38;5;241m=\u001B[39m \u001B[38;5;28;43mself\u001B[39;49m\u001B[38;5;241;43m.\u001B[39;49m\u001B[43m_mgr\u001B[49m\u001B[38;5;241;43m.\u001B[39;49m\u001B[43mapply\u001B[49m\u001B[43m(\u001B[49m\u001B[43marray_op\u001B[49m\u001B[43m,\u001B[49m\u001B[43m \u001B[49m\u001B[43mright\u001B[49m\u001B[38;5;241;43m=\u001B[39;49m\u001B[43mright\u001B[49m\u001B[43m)\u001B[49m\n\u001B[0;32m   7489\u001B[0m     \u001B[38;5;28;01mreturn\u001B[39;00m \u001B[38;5;28mself\u001B[39m\u001B[38;5;241m.\u001B[39m_constructor(bm)\n\u001B[0;32m   7491\u001B[0m \u001B[38;5;28;01melif\u001B[39;00m \u001B[38;5;28misinstance\u001B[39m(right, DataFrame):\n",
      "File \u001B[1;32m~\\PycharmProjects\\CSE6242Project\\venv\\Lib\\site-packages\\pandas\\core\\internals\\managers.py:350\u001B[0m, in \u001B[0;36mBaseBlockManager.apply\u001B[1;34m(self, f, align_keys, **kwargs)\u001B[0m\n\u001B[0;32m    347\u001B[0m             kwargs[k] \u001B[38;5;241m=\u001B[39m obj[b\u001B[38;5;241m.\u001B[39mmgr_locs\u001B[38;5;241m.\u001B[39mindexer]\n\u001B[0;32m    349\u001B[0m \u001B[38;5;28;01mif\u001B[39;00m callable(f):\n\u001B[1;32m--> 350\u001B[0m     applied \u001B[38;5;241m=\u001B[39m \u001B[43mb\u001B[49m\u001B[38;5;241;43m.\u001B[39;49m\u001B[43mapply\u001B[49m\u001B[43m(\u001B[49m\u001B[43mf\u001B[49m\u001B[43m,\u001B[49m\u001B[43m \u001B[49m\u001B[38;5;241;43m*\u001B[39;49m\u001B[38;5;241;43m*\u001B[39;49m\u001B[43mkwargs\u001B[49m\u001B[43m)\u001B[49m\n\u001B[0;32m    351\u001B[0m \u001B[38;5;28;01melse\u001B[39;00m:\n\u001B[0;32m    352\u001B[0m     applied \u001B[38;5;241m=\u001B[39m \u001B[38;5;28mgetattr\u001B[39m(b, f)(\u001B[38;5;241m*\u001B[39m\u001B[38;5;241m*\u001B[39mkwargs)\n",
      "File \u001B[1;32m~\\PycharmProjects\\CSE6242Project\\venv\\Lib\\site-packages\\pandas\\core\\internals\\blocks.py:329\u001B[0m, in \u001B[0;36mBlock.apply\u001B[1;34m(self, func, **kwargs)\u001B[0m\n\u001B[0;32m    323\u001B[0m \u001B[38;5;129m@final\u001B[39m\n\u001B[0;32m    324\u001B[0m \u001B[38;5;28;01mdef\u001B[39;00m \u001B[38;5;21mapply\u001B[39m(\u001B[38;5;28mself\u001B[39m, func, \u001B[38;5;241m*\u001B[39m\u001B[38;5;241m*\u001B[39mkwargs) \u001B[38;5;241m-\u001B[39m\u001B[38;5;241m>\u001B[39m \u001B[38;5;28mlist\u001B[39m[Block]:\n\u001B[0;32m    325\u001B[0m \u001B[38;5;250m    \u001B[39m\u001B[38;5;124;03m\"\"\"\u001B[39;00m\n\u001B[0;32m    326\u001B[0m \u001B[38;5;124;03m    apply the function to my values; return a block if we are not\u001B[39;00m\n\u001B[0;32m    327\u001B[0m \u001B[38;5;124;03m    one\u001B[39;00m\n\u001B[0;32m    328\u001B[0m \u001B[38;5;124;03m    \"\"\"\u001B[39;00m\n\u001B[1;32m--> 329\u001B[0m     result \u001B[38;5;241m=\u001B[39m \u001B[43mfunc\u001B[49m\u001B[43m(\u001B[49m\u001B[38;5;28;43mself\u001B[39;49m\u001B[38;5;241;43m.\u001B[39;49m\u001B[43mvalues\u001B[49m\u001B[43m,\u001B[49m\u001B[43m \u001B[49m\u001B[38;5;241;43m*\u001B[39;49m\u001B[38;5;241;43m*\u001B[39;49m\u001B[43mkwargs\u001B[49m\u001B[43m)\u001B[49m\n\u001B[0;32m    331\u001B[0m     \u001B[38;5;28;01mreturn\u001B[39;00m \u001B[38;5;28mself\u001B[39m\u001B[38;5;241m.\u001B[39m_split_op_result(result)\n",
      "File \u001B[1;32m~\\PycharmProjects\\CSE6242Project\\venv\\Lib\\site-packages\\pandas\\core\\ops\\array_ops.py:225\u001B[0m, in \u001B[0;36marithmetic_op\u001B[1;34m(left, right, op)\u001B[0m\n\u001B[0;32m    221\u001B[0m     _bool_arith_check(op, left, right)\n\u001B[0;32m    223\u001B[0m     \u001B[38;5;66;03m# error: Argument 1 to \"_na_arithmetic_op\" has incompatible type\u001B[39;00m\n\u001B[0;32m    224\u001B[0m     \u001B[38;5;66;03m# \"Union[ExtensionArray, ndarray[Any, Any]]\"; expected \"ndarray[Any, Any]\"\u001B[39;00m\n\u001B[1;32m--> 225\u001B[0m     res_values \u001B[38;5;241m=\u001B[39m \u001B[43m_na_arithmetic_op\u001B[49m\u001B[43m(\u001B[49m\u001B[43mleft\u001B[49m\u001B[43m,\u001B[49m\u001B[43m \u001B[49m\u001B[43mright\u001B[49m\u001B[43m,\u001B[49m\u001B[43m \u001B[49m\u001B[43mop\u001B[49m\u001B[43m)\u001B[49m  \u001B[38;5;66;03m# type: ignore[arg-type]\u001B[39;00m\n\u001B[0;32m    227\u001B[0m \u001B[38;5;28;01mreturn\u001B[39;00m res_values\n",
      "File \u001B[1;32m~\\PycharmProjects\\CSE6242Project\\venv\\Lib\\site-packages\\pandas\\core\\ops\\array_ops.py:164\u001B[0m, in \u001B[0;36m_na_arithmetic_op\u001B[1;34m(left, right, op, is_cmp)\u001B[0m\n\u001B[0;32m    161\u001B[0m     func \u001B[38;5;241m=\u001B[39m partial(expressions\u001B[38;5;241m.\u001B[39mevaluate, op)\n\u001B[0;32m    163\u001B[0m \u001B[38;5;28;01mtry\u001B[39;00m:\n\u001B[1;32m--> 164\u001B[0m     result \u001B[38;5;241m=\u001B[39m \u001B[43mfunc\u001B[49m\u001B[43m(\u001B[49m\u001B[43mleft\u001B[49m\u001B[43m,\u001B[49m\u001B[43m \u001B[49m\u001B[43mright\u001B[49m\u001B[43m)\u001B[49m\n\u001B[0;32m    165\u001B[0m \u001B[38;5;28;01mexcept\u001B[39;00m \u001B[38;5;167;01mTypeError\u001B[39;00m:\n\u001B[0;32m    166\u001B[0m     \u001B[38;5;28;01mif\u001B[39;00m \u001B[38;5;129;01mnot\u001B[39;00m is_cmp \u001B[38;5;129;01mand\u001B[39;00m (is_object_dtype(left\u001B[38;5;241m.\u001B[39mdtype) \u001B[38;5;129;01mor\u001B[39;00m is_object_dtype(right)):\n\u001B[0;32m    167\u001B[0m         \u001B[38;5;66;03m# For object dtype, fallback to a masked operation (only operating\u001B[39;00m\n\u001B[0;32m    168\u001B[0m         \u001B[38;5;66;03m#  on the non-missing values)\u001B[39;00m\n\u001B[0;32m    169\u001B[0m         \u001B[38;5;66;03m# Don't do this for comparisons, as that will handle complex numbers\u001B[39;00m\n\u001B[0;32m    170\u001B[0m         \u001B[38;5;66;03m#  incorrectly, see GH#32047\u001B[39;00m\n",
      "File \u001B[1;32m~\\PycharmProjects\\CSE6242Project\\venv\\Lib\\site-packages\\pandas\\core\\roperator.py:11\u001B[0m, in \u001B[0;36mradd\u001B[1;34m(left, right)\u001B[0m\n\u001B[0;32m     10\u001B[0m \u001B[38;5;28;01mdef\u001B[39;00m \u001B[38;5;21mradd\u001B[39m(left, right):\n\u001B[1;32m---> 11\u001B[0m     \u001B[38;5;28;01mreturn\u001B[39;00m \u001B[43mright\u001B[49m\u001B[43m \u001B[49m\u001B[38;5;241;43m+\u001B[39;49m\u001B[43m \u001B[49m\u001B[43mleft\u001B[49m\n",
      "\u001B[1;31mUFuncTypeError\u001B[0m: ufunc 'add' did not contain a loop with signature matching types (dtype('<U1'), dtype('float64')) -> None"
     ]
    }
   ],
   "source": [
    "appliedfilters = apply_filters(df=test,featuresDict = featuresDict,filterList=filterList,filterValues=filterValues)\n",
    "appliedfilters"
   ],
   "metadata": {
    "collapsed": false
   }
  },
  {
   "cell_type": "code",
   "execution_count": 73,
   "outputs": [
    {
     "ename": "UFuncTypeError",
     "evalue": "ufunc 'add' did not contain a loop with signature matching types (dtype('<U1'), dtype('float64')) -> None",
     "output_type": "error",
     "traceback": [
      "\u001B[1;31m---------------------------------------------------------------------------\u001B[0m",
      "\u001B[1;31mUFuncTypeError\u001B[0m                            Traceback (most recent call last)",
      "Cell \u001B[1;32mIn[73], line 5\u001B[0m\n\u001B[0;32m      1\u001B[0m filterquery \u001B[38;5;241m=\u001B[39m \u001B[38;5;124m\"\"\"\u001B[39m\n\u001B[0;32m      2\u001B[0m \u001B[38;5;124mSELECT\u001B[39m\n\u001B[0;32m      3\u001B[0m \u001B[38;5;124mUNITID\u001B[39m\n\u001B[0;32m      4\u001B[0m \u001B[38;5;124mFROM \u001B[39m\u001B[38;5;132;01m{0}\u001B[39;00m\n\u001B[1;32m----> 5\u001B[0m \u001B[38;5;124m\"\"\"\u001B[39m\u001B[38;5;241m.\u001B[39mformat(\u001B[38;5;124;43m\"\u001B[39;49m\u001B[38;5;124;43m'\u001B[39;49m\u001B[38;5;124;43m\"\u001B[39;49m\u001B[43m \u001B[49m\u001B[38;5;241;43m+\u001B[39;49m\u001B[43m \u001B[49m\u001B[43mtest\u001B[49m\u001B[38;5;241m+\u001B[39m \u001B[38;5;124m\"\u001B[39m\u001B[38;5;124m'\u001B[39m\u001B[38;5;124m\"\u001B[39m)\n\u001B[0;32m      7\u001B[0m sqldf(filterquery,\u001B[38;5;28mlocals\u001B[39m())\n",
      "File \u001B[1;32m~\\PycharmProjects\\CSE6242Project\\venv\\Lib\\site-packages\\pandas\\core\\ops\\common.py:81\u001B[0m, in \u001B[0;36m_unpack_zerodim_and_defer.<locals>.new_method\u001B[1;34m(self, other)\u001B[0m\n\u001B[0;32m     77\u001B[0m             \u001B[38;5;28;01mreturn\u001B[39;00m \u001B[38;5;28mNotImplemented\u001B[39m\n\u001B[0;32m     79\u001B[0m other \u001B[38;5;241m=\u001B[39m item_from_zerodim(other)\n\u001B[1;32m---> 81\u001B[0m \u001B[38;5;28;01mreturn\u001B[39;00m \u001B[43mmethod\u001B[49m\u001B[43m(\u001B[49m\u001B[38;5;28;43mself\u001B[39;49m\u001B[43m,\u001B[49m\u001B[43m \u001B[49m\u001B[43mother\u001B[49m\u001B[43m)\u001B[49m\n",
      "File \u001B[1;32m~\\PycharmProjects\\CSE6242Project\\venv\\Lib\\site-packages\\pandas\\core\\arraylike.py:190\u001B[0m, in \u001B[0;36mOpsMixin.__radd__\u001B[1;34m(self, other)\u001B[0m\n\u001B[0;32m    188\u001B[0m \u001B[38;5;129m@unpack_zerodim_and_defer\u001B[39m(\u001B[38;5;124m\"\u001B[39m\u001B[38;5;124m__radd__\u001B[39m\u001B[38;5;124m\"\u001B[39m)\n\u001B[0;32m    189\u001B[0m \u001B[38;5;28;01mdef\u001B[39;00m \u001B[38;5;21m__radd__\u001B[39m(\u001B[38;5;28mself\u001B[39m, other):\n\u001B[1;32m--> 190\u001B[0m     \u001B[38;5;28;01mreturn\u001B[39;00m \u001B[38;5;28;43mself\u001B[39;49m\u001B[38;5;241;43m.\u001B[39;49m\u001B[43m_arith_method\u001B[49m\u001B[43m(\u001B[49m\u001B[43mother\u001B[49m\u001B[43m,\u001B[49m\u001B[43m \u001B[49m\u001B[43mroperator\u001B[49m\u001B[38;5;241;43m.\u001B[39;49m\u001B[43mradd\u001B[49m\u001B[43m)\u001B[49m\n",
      "File \u001B[1;32m~\\PycharmProjects\\CSE6242Project\\venv\\Lib\\site-packages\\pandas\\core\\frame.py:7461\u001B[0m, in \u001B[0;36mDataFrame._arith_method\u001B[1;34m(self, other, op)\u001B[0m\n\u001B[0;32m   7457\u001B[0m other \u001B[38;5;241m=\u001B[39m ops\u001B[38;5;241m.\u001B[39mmaybe_prepare_scalar_for_op(other, (\u001B[38;5;28mself\u001B[39m\u001B[38;5;241m.\u001B[39mshape[axis],))\n\u001B[0;32m   7459\u001B[0m \u001B[38;5;28mself\u001B[39m, other \u001B[38;5;241m=\u001B[39m ops\u001B[38;5;241m.\u001B[39malign_method_FRAME(\u001B[38;5;28mself\u001B[39m, other, axis, flex\u001B[38;5;241m=\u001B[39m\u001B[38;5;28;01mTrue\u001B[39;00m, level\u001B[38;5;241m=\u001B[39m\u001B[38;5;28;01mNone\u001B[39;00m)\n\u001B[1;32m-> 7461\u001B[0m new_data \u001B[38;5;241m=\u001B[39m \u001B[38;5;28;43mself\u001B[39;49m\u001B[38;5;241;43m.\u001B[39;49m\u001B[43m_dispatch_frame_op\u001B[49m\u001B[43m(\u001B[49m\u001B[43mother\u001B[49m\u001B[43m,\u001B[49m\u001B[43m \u001B[49m\u001B[43mop\u001B[49m\u001B[43m,\u001B[49m\u001B[43m \u001B[49m\u001B[43maxis\u001B[49m\u001B[38;5;241;43m=\u001B[39;49m\u001B[43maxis\u001B[49m\u001B[43m)\u001B[49m\n\u001B[0;32m   7462\u001B[0m \u001B[38;5;28;01mreturn\u001B[39;00m \u001B[38;5;28mself\u001B[39m\u001B[38;5;241m.\u001B[39m_construct_result(new_data)\n",
      "File \u001B[1;32m~\\PycharmProjects\\CSE6242Project\\venv\\Lib\\site-packages\\pandas\\core\\frame.py:7488\u001B[0m, in \u001B[0;36mDataFrame._dispatch_frame_op\u001B[1;34m(self, right, func, axis)\u001B[0m\n\u001B[0;32m   7485\u001B[0m \u001B[38;5;28;01mif\u001B[39;00m \u001B[38;5;129;01mnot\u001B[39;00m is_list_like(right):\n\u001B[0;32m   7486\u001B[0m     \u001B[38;5;66;03m# i.e. scalar, faster than checking np.ndim(right) == 0\u001B[39;00m\n\u001B[0;32m   7487\u001B[0m     \u001B[38;5;28;01mwith\u001B[39;00m np\u001B[38;5;241m.\u001B[39merrstate(\u001B[38;5;28mall\u001B[39m\u001B[38;5;241m=\u001B[39m\u001B[38;5;124m\"\u001B[39m\u001B[38;5;124mignore\u001B[39m\u001B[38;5;124m\"\u001B[39m):\n\u001B[1;32m-> 7488\u001B[0m         bm \u001B[38;5;241m=\u001B[39m \u001B[38;5;28;43mself\u001B[39;49m\u001B[38;5;241;43m.\u001B[39;49m\u001B[43m_mgr\u001B[49m\u001B[38;5;241;43m.\u001B[39;49m\u001B[43mapply\u001B[49m\u001B[43m(\u001B[49m\u001B[43marray_op\u001B[49m\u001B[43m,\u001B[49m\u001B[43m \u001B[49m\u001B[43mright\u001B[49m\u001B[38;5;241;43m=\u001B[39;49m\u001B[43mright\u001B[49m\u001B[43m)\u001B[49m\n\u001B[0;32m   7489\u001B[0m     \u001B[38;5;28;01mreturn\u001B[39;00m \u001B[38;5;28mself\u001B[39m\u001B[38;5;241m.\u001B[39m_constructor(bm)\n\u001B[0;32m   7491\u001B[0m \u001B[38;5;28;01melif\u001B[39;00m \u001B[38;5;28misinstance\u001B[39m(right, DataFrame):\n",
      "File \u001B[1;32m~\\PycharmProjects\\CSE6242Project\\venv\\Lib\\site-packages\\pandas\\core\\internals\\managers.py:350\u001B[0m, in \u001B[0;36mBaseBlockManager.apply\u001B[1;34m(self, f, align_keys, **kwargs)\u001B[0m\n\u001B[0;32m    347\u001B[0m             kwargs[k] \u001B[38;5;241m=\u001B[39m obj[b\u001B[38;5;241m.\u001B[39mmgr_locs\u001B[38;5;241m.\u001B[39mindexer]\n\u001B[0;32m    349\u001B[0m \u001B[38;5;28;01mif\u001B[39;00m callable(f):\n\u001B[1;32m--> 350\u001B[0m     applied \u001B[38;5;241m=\u001B[39m \u001B[43mb\u001B[49m\u001B[38;5;241;43m.\u001B[39;49m\u001B[43mapply\u001B[49m\u001B[43m(\u001B[49m\u001B[43mf\u001B[49m\u001B[43m,\u001B[49m\u001B[43m \u001B[49m\u001B[38;5;241;43m*\u001B[39;49m\u001B[38;5;241;43m*\u001B[39;49m\u001B[43mkwargs\u001B[49m\u001B[43m)\u001B[49m\n\u001B[0;32m    351\u001B[0m \u001B[38;5;28;01melse\u001B[39;00m:\n\u001B[0;32m    352\u001B[0m     applied \u001B[38;5;241m=\u001B[39m \u001B[38;5;28mgetattr\u001B[39m(b, f)(\u001B[38;5;241m*\u001B[39m\u001B[38;5;241m*\u001B[39mkwargs)\n",
      "File \u001B[1;32m~\\PycharmProjects\\CSE6242Project\\venv\\Lib\\site-packages\\pandas\\core\\internals\\blocks.py:329\u001B[0m, in \u001B[0;36mBlock.apply\u001B[1;34m(self, func, **kwargs)\u001B[0m\n\u001B[0;32m    323\u001B[0m \u001B[38;5;129m@final\u001B[39m\n\u001B[0;32m    324\u001B[0m \u001B[38;5;28;01mdef\u001B[39;00m \u001B[38;5;21mapply\u001B[39m(\u001B[38;5;28mself\u001B[39m, func, \u001B[38;5;241m*\u001B[39m\u001B[38;5;241m*\u001B[39mkwargs) \u001B[38;5;241m-\u001B[39m\u001B[38;5;241m>\u001B[39m \u001B[38;5;28mlist\u001B[39m[Block]:\n\u001B[0;32m    325\u001B[0m \u001B[38;5;250m    \u001B[39m\u001B[38;5;124;03m\"\"\"\u001B[39;00m\n\u001B[0;32m    326\u001B[0m \u001B[38;5;124;03m    apply the function to my values; return a block if we are not\u001B[39;00m\n\u001B[0;32m    327\u001B[0m \u001B[38;5;124;03m    one\u001B[39;00m\n\u001B[0;32m    328\u001B[0m \u001B[38;5;124;03m    \"\"\"\u001B[39;00m\n\u001B[1;32m--> 329\u001B[0m     result \u001B[38;5;241m=\u001B[39m \u001B[43mfunc\u001B[49m\u001B[43m(\u001B[49m\u001B[38;5;28;43mself\u001B[39;49m\u001B[38;5;241;43m.\u001B[39;49m\u001B[43mvalues\u001B[49m\u001B[43m,\u001B[49m\u001B[43m \u001B[49m\u001B[38;5;241;43m*\u001B[39;49m\u001B[38;5;241;43m*\u001B[39;49m\u001B[43mkwargs\u001B[49m\u001B[43m)\u001B[49m\n\u001B[0;32m    331\u001B[0m     \u001B[38;5;28;01mreturn\u001B[39;00m \u001B[38;5;28mself\u001B[39m\u001B[38;5;241m.\u001B[39m_split_op_result(result)\n",
      "File \u001B[1;32m~\\PycharmProjects\\CSE6242Project\\venv\\Lib\\site-packages\\pandas\\core\\ops\\array_ops.py:225\u001B[0m, in \u001B[0;36marithmetic_op\u001B[1;34m(left, right, op)\u001B[0m\n\u001B[0;32m    221\u001B[0m     _bool_arith_check(op, left, right)\n\u001B[0;32m    223\u001B[0m     \u001B[38;5;66;03m# error: Argument 1 to \"_na_arithmetic_op\" has incompatible type\u001B[39;00m\n\u001B[0;32m    224\u001B[0m     \u001B[38;5;66;03m# \"Union[ExtensionArray, ndarray[Any, Any]]\"; expected \"ndarray[Any, Any]\"\u001B[39;00m\n\u001B[1;32m--> 225\u001B[0m     res_values \u001B[38;5;241m=\u001B[39m \u001B[43m_na_arithmetic_op\u001B[49m\u001B[43m(\u001B[49m\u001B[43mleft\u001B[49m\u001B[43m,\u001B[49m\u001B[43m \u001B[49m\u001B[43mright\u001B[49m\u001B[43m,\u001B[49m\u001B[43m \u001B[49m\u001B[43mop\u001B[49m\u001B[43m)\u001B[49m  \u001B[38;5;66;03m# type: ignore[arg-type]\u001B[39;00m\n\u001B[0;32m    227\u001B[0m \u001B[38;5;28;01mreturn\u001B[39;00m res_values\n",
      "File \u001B[1;32m~\\PycharmProjects\\CSE6242Project\\venv\\Lib\\site-packages\\pandas\\core\\ops\\array_ops.py:164\u001B[0m, in \u001B[0;36m_na_arithmetic_op\u001B[1;34m(left, right, op, is_cmp)\u001B[0m\n\u001B[0;32m    161\u001B[0m     func \u001B[38;5;241m=\u001B[39m partial(expressions\u001B[38;5;241m.\u001B[39mevaluate, op)\n\u001B[0;32m    163\u001B[0m \u001B[38;5;28;01mtry\u001B[39;00m:\n\u001B[1;32m--> 164\u001B[0m     result \u001B[38;5;241m=\u001B[39m \u001B[43mfunc\u001B[49m\u001B[43m(\u001B[49m\u001B[43mleft\u001B[49m\u001B[43m,\u001B[49m\u001B[43m \u001B[49m\u001B[43mright\u001B[49m\u001B[43m)\u001B[49m\n\u001B[0;32m    165\u001B[0m \u001B[38;5;28;01mexcept\u001B[39;00m \u001B[38;5;167;01mTypeError\u001B[39;00m:\n\u001B[0;32m    166\u001B[0m     \u001B[38;5;28;01mif\u001B[39;00m \u001B[38;5;129;01mnot\u001B[39;00m is_cmp \u001B[38;5;129;01mand\u001B[39;00m (is_object_dtype(left\u001B[38;5;241m.\u001B[39mdtype) \u001B[38;5;129;01mor\u001B[39;00m is_object_dtype(right)):\n\u001B[0;32m    167\u001B[0m         \u001B[38;5;66;03m# For object dtype, fallback to a masked operation (only operating\u001B[39;00m\n\u001B[0;32m    168\u001B[0m         \u001B[38;5;66;03m#  on the non-missing values)\u001B[39;00m\n\u001B[0;32m    169\u001B[0m         \u001B[38;5;66;03m# Don't do this for comparisons, as that will handle complex numbers\u001B[39;00m\n\u001B[0;32m    170\u001B[0m         \u001B[38;5;66;03m#  incorrectly, see GH#32047\u001B[39;00m\n",
      "File \u001B[1;32m~\\PycharmProjects\\CSE6242Project\\venv\\Lib\\site-packages\\pandas\\core\\roperator.py:11\u001B[0m, in \u001B[0;36mradd\u001B[1;34m(left, right)\u001B[0m\n\u001B[0;32m     10\u001B[0m \u001B[38;5;28;01mdef\u001B[39;00m \u001B[38;5;21mradd\u001B[39m(left, right):\n\u001B[1;32m---> 11\u001B[0m     \u001B[38;5;28;01mreturn\u001B[39;00m \u001B[43mright\u001B[49m\u001B[43m \u001B[49m\u001B[38;5;241;43m+\u001B[39;49m\u001B[43m \u001B[49m\u001B[43mleft\u001B[49m\n",
      "\u001B[1;31mUFuncTypeError\u001B[0m: ufunc 'add' did not contain a loop with signature matching types (dtype('<U1'), dtype('float64')) -> None"
     ]
    }
   ],
   "source": [
    "\n",
    "    filterquery = \"\"\"\n",
    "    SELECT\n",
    "    UNITID\n",
    "    FROM {0}\n",
    "    \"\"\".format(\"'\" + test\n",
    "    sqldf(filterquery,locals())"
   ],
   "metadata": {
    "collapsed": false
   }
  },
  {
   "cell_type": "code",
   "execution_count": 64,
   "outputs": [
    {
     "data": {
      "text/plain": "        UNITID     OPEID  OPEID6   \n0       100654  00100200  001002  \\\n1       100663  00105200  001052   \n2       100690  02503400  025034   \n3       100706  00105500  001055   \n4       100724  00100500  001005   \n...        ...       ...     ...   \n6676  49576719  00332917  003329   \n6677  49576720  00332918  003329   \n6678  49576721  00332919  003329   \n6679  49576722  00332920  003329   \n6680  49576723  00332921  003329   \n\n                                                 INSTNM        CITY STABBR   \n0                              Alabama A & M University      Normal     AL  \\\n1                   University of Alabama at Birmingham  Birmingham     AL   \n2                                    Amridge University  Montgomery     AL   \n3                   University of Alabama in Huntsville  Huntsville     AL   \n4                              Alabama State University  Montgomery     AL   \n...                                                 ...         ...    ...   \n6676  Pennsylvania State University-Penn State Wilke...      Lehman     PA   \n6677      Pennsylvania State University-Penn State York        York     PA   \n6678  Pennsylvania State University-Penn State Great...     Malvern     PA   \n6679  Pennsylvania State University-Penn State Harri...  Middletown     PA   \n6680  Pennsylvania State University-Penn State Brand...       Media     PA   \n\n             ZIP                     INSTURL   \n0          35762               www.aamu.edu/  \\\n1     35294-0110        https://www.uab.edu/   \n2     36117-3553  www.amridgeuniversity.edu/   \n3          35899                www.uah.edu/   \n4     36104-0271              www.alasu.edu/   \n...          ...                         ...   \n6676  18627-0217        wilkesbarre.psu.edu/   \n6677  17403-3326               york.psu.edu/   \n6678  19355-1488        greatvalley.psu.edu/   \n6679  17057-4846         harrisburg.psu.edu/   \n6680  19063-5522         brandywine.psu.edu/   \n\n                                                 NPCURL HCM2  ...   \n0     www.aamu.edu/admissions-aid/tuition-fees/net-p...    0  ...  \\\n1     https://tcc.ruffalonl.com/University of Alabam...    0  ...   \n2                      www2.amridgeuniversity.edu:9091/    0  ...   \n3                                       finaid.uah.edu/    0  ...   \n4     www.alasu.edu/cost-aid/tuition-costs/net-price...    0  ...   \n...                                                 ...  ...  ...   \n6676                                               None    0  ...   \n6677                                               None    0  ...   \n6678                                               None    0  ...   \n6679                                               None    0  ...   \n6680                                               None    0  ...   \n\n     OMENRYP_PELL_FT_POOLED_SUPP OMENRAP_PELL_FT_POOLED_SUPP   \n0                         0.0116                      0.3329  \\\n1                         0.0149                      0.2773   \n2                              0                      0.2798   \n3                         0.0098                      0.3154   \n4                         0.0097                      0.3904   \n...                          ...                         ...   \n6676                        None                        None   \n6677                        None                        None   \n6678                        None                        None   \n6679                        None                        None   \n6680                        None                        None   \n\n     OMAWDP8_PELL_FT_POOLED_SUPP OMENRUP_PELL_FT_POOLED_SUPP   \n0                         0.2958                      0.3597  \\\n1                         0.5243                      0.1835   \n2                         0.2523                      0.4679   \n3                         0.4961                      0.1787   \n4                         0.3061                      0.2938   \n...                          ...                         ...   \n6676                        None                        None   \n6677                        None                        None   \n6678                        None                        None   \n6679                        None                        None   \n6680                        None                        None   \n\n     OMENRYP_PELL_PT_POOLED_SUPP OMENRAP_PELL_PT_POOLED_SUPP   \n0                         0.0056                      0.3889  \\\n1                         0.0211                       0.277   \n2                              0                       0.186   \n3                         0.0105                      0.3632   \n4                         0.0778                      0.4444   \n...                          ...                         ...   \n6676                        None                        None   \n6677                        None                        None   \n6678                        None                        None   \n6679                        None                        None   \n6680                        None                        None   \n\n     OMAWDP8_PELL_PT_POOLED_SUPP OMENRUP_PELL_PT_POOLED_SUPP   \n0                         0.1833                      0.4222  \\\n1                         0.4354                      0.2665   \n2                         0.4186                      0.3953   \n3                         0.3474                      0.2789   \n4                         0.1111                      0.3667   \n...                          ...                         ...   \n6676                        None                        None   \n6677                        None                        None   \n6678                        None                        None   \n6679                        None                        None   \n6680                        None                        None   \n\n     GT_THRESHOLD_P6_SUPP  dist_miles  \n0                  0.4606  147.593425  \n1                   0.659  156.540810  \n2                  0.5132  164.191256  \n3                   0.717  150.129854  \n4                   0.382  169.201972  \n...                   ...         ...  \n6676                 None  670.943595  \n6677                 None  577.729643  \n6678                 None  630.970517  \n6679                 None  590.104574  \n6680                 None  630.528504  \n\n[6681 rows x 175 columns]",
      "text/html": "<div>\n<style scoped>\n    .dataframe tbody tr th:only-of-type {\n        vertical-align: middle;\n    }\n\n    .dataframe tbody tr th {\n        vertical-align: top;\n    }\n\n    .dataframe thead th {\n        text-align: right;\n    }\n</style>\n<table border=\"1\" class=\"dataframe\">\n  <thead>\n    <tr style=\"text-align: right;\">\n      <th></th>\n      <th>UNITID</th>\n      <th>OPEID</th>\n      <th>OPEID6</th>\n      <th>INSTNM</th>\n      <th>CITY</th>\n      <th>STABBR</th>\n      <th>ZIP</th>\n      <th>INSTURL</th>\n      <th>NPCURL</th>\n      <th>HCM2</th>\n      <th>...</th>\n      <th>OMENRYP_PELL_FT_POOLED_SUPP</th>\n      <th>OMENRAP_PELL_FT_POOLED_SUPP</th>\n      <th>OMAWDP8_PELL_FT_POOLED_SUPP</th>\n      <th>OMENRUP_PELL_FT_POOLED_SUPP</th>\n      <th>OMENRYP_PELL_PT_POOLED_SUPP</th>\n      <th>OMENRAP_PELL_PT_POOLED_SUPP</th>\n      <th>OMAWDP8_PELL_PT_POOLED_SUPP</th>\n      <th>OMENRUP_PELL_PT_POOLED_SUPP</th>\n      <th>GT_THRESHOLD_P6_SUPP</th>\n      <th>dist_miles</th>\n    </tr>\n  </thead>\n  <tbody>\n    <tr>\n      <th>0</th>\n      <td>100654</td>\n      <td>00100200</td>\n      <td>001002</td>\n      <td>Alabama A &amp; M University</td>\n      <td>Normal</td>\n      <td>AL</td>\n      <td>35762</td>\n      <td>www.aamu.edu/</td>\n      <td>www.aamu.edu/admissions-aid/tuition-fees/net-p...</td>\n      <td>0</td>\n      <td>...</td>\n      <td>0.0116</td>\n      <td>0.3329</td>\n      <td>0.2958</td>\n      <td>0.3597</td>\n      <td>0.0056</td>\n      <td>0.3889</td>\n      <td>0.1833</td>\n      <td>0.4222</td>\n      <td>0.4606</td>\n      <td>147.593425</td>\n    </tr>\n    <tr>\n      <th>1</th>\n      <td>100663</td>\n      <td>00105200</td>\n      <td>001052</td>\n      <td>University of Alabama at Birmingham</td>\n      <td>Birmingham</td>\n      <td>AL</td>\n      <td>35294-0110</td>\n      <td>https://www.uab.edu/</td>\n      <td>https://tcc.ruffalonl.com/University of Alabam...</td>\n      <td>0</td>\n      <td>...</td>\n      <td>0.0149</td>\n      <td>0.2773</td>\n      <td>0.5243</td>\n      <td>0.1835</td>\n      <td>0.0211</td>\n      <td>0.277</td>\n      <td>0.4354</td>\n      <td>0.2665</td>\n      <td>0.659</td>\n      <td>156.540810</td>\n    </tr>\n    <tr>\n      <th>2</th>\n      <td>100690</td>\n      <td>02503400</td>\n      <td>025034</td>\n      <td>Amridge University</td>\n      <td>Montgomery</td>\n      <td>AL</td>\n      <td>36117-3553</td>\n      <td>www.amridgeuniversity.edu/</td>\n      <td>www2.amridgeuniversity.edu:9091/</td>\n      <td>0</td>\n      <td>...</td>\n      <td>0</td>\n      <td>0.2798</td>\n      <td>0.2523</td>\n      <td>0.4679</td>\n      <td>0</td>\n      <td>0.186</td>\n      <td>0.4186</td>\n      <td>0.3953</td>\n      <td>0.5132</td>\n      <td>164.191256</td>\n    </tr>\n    <tr>\n      <th>3</th>\n      <td>100706</td>\n      <td>00105500</td>\n      <td>001055</td>\n      <td>University of Alabama in Huntsville</td>\n      <td>Huntsville</td>\n      <td>AL</td>\n      <td>35899</td>\n      <td>www.uah.edu/</td>\n      <td>finaid.uah.edu/</td>\n      <td>0</td>\n      <td>...</td>\n      <td>0.0098</td>\n      <td>0.3154</td>\n      <td>0.4961</td>\n      <td>0.1787</td>\n      <td>0.0105</td>\n      <td>0.3632</td>\n      <td>0.3474</td>\n      <td>0.2789</td>\n      <td>0.717</td>\n      <td>150.129854</td>\n    </tr>\n    <tr>\n      <th>4</th>\n      <td>100724</td>\n      <td>00100500</td>\n      <td>001005</td>\n      <td>Alabama State University</td>\n      <td>Montgomery</td>\n      <td>AL</td>\n      <td>36104-0271</td>\n      <td>www.alasu.edu/</td>\n      <td>www.alasu.edu/cost-aid/tuition-costs/net-price...</td>\n      <td>0</td>\n      <td>...</td>\n      <td>0.0097</td>\n      <td>0.3904</td>\n      <td>0.3061</td>\n      <td>0.2938</td>\n      <td>0.0778</td>\n      <td>0.4444</td>\n      <td>0.1111</td>\n      <td>0.3667</td>\n      <td>0.382</td>\n      <td>169.201972</td>\n    </tr>\n    <tr>\n      <th>...</th>\n      <td>...</td>\n      <td>...</td>\n      <td>...</td>\n      <td>...</td>\n      <td>...</td>\n      <td>...</td>\n      <td>...</td>\n      <td>...</td>\n      <td>...</td>\n      <td>...</td>\n      <td>...</td>\n      <td>...</td>\n      <td>...</td>\n      <td>...</td>\n      <td>...</td>\n      <td>...</td>\n      <td>...</td>\n      <td>...</td>\n      <td>...</td>\n      <td>...</td>\n      <td>...</td>\n    </tr>\n    <tr>\n      <th>6676</th>\n      <td>49576719</td>\n      <td>00332917</td>\n      <td>003329</td>\n      <td>Pennsylvania State University-Penn State Wilke...</td>\n      <td>Lehman</td>\n      <td>PA</td>\n      <td>18627-0217</td>\n      <td>wilkesbarre.psu.edu/</td>\n      <td>None</td>\n      <td>0</td>\n      <td>...</td>\n      <td>None</td>\n      <td>None</td>\n      <td>None</td>\n      <td>None</td>\n      <td>None</td>\n      <td>None</td>\n      <td>None</td>\n      <td>None</td>\n      <td>None</td>\n      <td>670.943595</td>\n    </tr>\n    <tr>\n      <th>6677</th>\n      <td>49576720</td>\n      <td>00332918</td>\n      <td>003329</td>\n      <td>Pennsylvania State University-Penn State York</td>\n      <td>York</td>\n      <td>PA</td>\n      <td>17403-3326</td>\n      <td>york.psu.edu/</td>\n      <td>None</td>\n      <td>0</td>\n      <td>...</td>\n      <td>None</td>\n      <td>None</td>\n      <td>None</td>\n      <td>None</td>\n      <td>None</td>\n      <td>None</td>\n      <td>None</td>\n      <td>None</td>\n      <td>None</td>\n      <td>577.729643</td>\n    </tr>\n    <tr>\n      <th>6678</th>\n      <td>49576721</td>\n      <td>00332919</td>\n      <td>003329</td>\n      <td>Pennsylvania State University-Penn State Great...</td>\n      <td>Malvern</td>\n      <td>PA</td>\n      <td>19355-1488</td>\n      <td>greatvalley.psu.edu/</td>\n      <td>None</td>\n      <td>0</td>\n      <td>...</td>\n      <td>None</td>\n      <td>None</td>\n      <td>None</td>\n      <td>None</td>\n      <td>None</td>\n      <td>None</td>\n      <td>None</td>\n      <td>None</td>\n      <td>None</td>\n      <td>630.970517</td>\n    </tr>\n    <tr>\n      <th>6679</th>\n      <td>49576722</td>\n      <td>00332920</td>\n      <td>003329</td>\n      <td>Pennsylvania State University-Penn State Harri...</td>\n      <td>Middletown</td>\n      <td>PA</td>\n      <td>17057-4846</td>\n      <td>harrisburg.psu.edu/</td>\n      <td>None</td>\n      <td>0</td>\n      <td>...</td>\n      <td>None</td>\n      <td>None</td>\n      <td>None</td>\n      <td>None</td>\n      <td>None</td>\n      <td>None</td>\n      <td>None</td>\n      <td>None</td>\n      <td>None</td>\n      <td>590.104574</td>\n    </tr>\n    <tr>\n      <th>6680</th>\n      <td>49576723</td>\n      <td>00332921</td>\n      <td>003329</td>\n      <td>Pennsylvania State University-Penn State Brand...</td>\n      <td>Media</td>\n      <td>PA</td>\n      <td>19063-5522</td>\n      <td>brandywine.psu.edu/</td>\n      <td>None</td>\n      <td>0</td>\n      <td>...</td>\n      <td>None</td>\n      <td>None</td>\n      <td>None</td>\n      <td>None</td>\n      <td>None</td>\n      <td>None</td>\n      <td>None</td>\n      <td>None</td>\n      <td>None</td>\n      <td>630.528504</td>\n    </tr>\n  </tbody>\n</table>\n<p>6681 rows × 175 columns</p>\n</div>"
     },
     "execution_count": 64,
     "metadata": {},
     "output_type": "execute_result"
    }
   ],
   "source": [
    "test"
   ],
   "metadata": {
    "collapsed": false
   }
  },
  {
   "cell_type": "markdown",
   "source": [
    "Normalizing Features"
   ],
   "metadata": {
    "collapsed": false
   }
  },
  {
   "cell_type": "markdown",
   "source": [
    "creating features dict"
   ],
   "metadata": {
    "collapsed": false
   }
  },
  {
   "cell_type": "code",
   "execution_count": 45,
   "outputs": [],
   "source": [
    "def features_dict(feature1, feature2, feature3):\n",
    "    featuresDict = {}\n",
    "    featuresDict['feature1']= feature1\n",
    "    featuresDict['feature2']= feature2\n",
    "    featuresDict['feature3']= feature3\n",
    "    return featuresDict"
   ],
   "metadata": {
    "collapsed": false
   }
  },
  {
   "cell_type": "code",
   "execution_count": 46,
   "outputs": [],
   "source": [
    "featuresDict = features_dict('OMENRUP_PELL_NFT_POOLED_SUPP', 'OMENRYP_PELL_FT_POOLED_SUPP', 'OMENRAP_PELL_FT_POOLED_SUPP')"
   ],
   "metadata": {
    "collapsed": false
   }
  },
  {
   "cell_type": "markdown",
   "source": [
    "Applying Ranking Algo"
   ],
   "metadata": {
    "collapsed": false
   }
  },
  {
   "cell_type": "markdown",
   "source": [
    "grabbing feature columns"
   ],
   "metadata": {
    "collapsed": false
   }
  },
  {
   "cell_type": "code",
   "execution_count": null,
   "outputs": [],
   "source": [
    "featuresQuery = \"\"\"\n",
    "SELECT\n",
    "UNITID, {}, {}, {}\n",
    "FROM inst\n",
    "\"\"\".format(featuresDict['x1'],featuresDict['x2'],featuresDict['x3'])"
   ],
   "metadata": {
    "collapsed": false
   }
  },
  {
   "cell_type": "code",
   "execution_count": null,
   "outputs": [],
   "source": [
    "featuresdf2 = pd.read_sql(featuresQuery,conn)"
   ],
   "metadata": {
    "collapsed": false
   }
  },
  {
   "cell_type": "code",
   "execution_count": null,
   "outputs": [],
   "source": [
    "test = pd.merge(featuresDF, dist_temp_table, on='UNITID')\n",
    "test"
   ],
   "metadata": {
    "collapsed": false
   }
  },
  {
   "cell_type": "markdown",
   "source": [
    "Normalizing each feature"
   ],
   "metadata": {
    "collapsed": false
   }
  },
  {
   "cell_type": "markdown",
   "source": [
    "part 1: find each feature's length"
   ],
   "metadata": {
    "collapsed": false
   }
  },
  {
   "cell_type": "code",
   "execution_count": null,
   "outputs": [],
   "source": [
    "maxQuery = \"\"\"\n",
    "SELECT max({0}) x1FeatureLength, max({1}) x2FeatureLength, max({2}) x3FeatureLength\n",
    "FROM inst\n",
    "where {0} not like 'PrivacySuppressed' and {1} not like 'PrivacySuppressed' and {2} not like 'PrivacySuppressed'\n",
    "\"\"\".format(featuresDict['x1'],featuresDict['x2'],featuresDict['x3'])"
   ],
   "metadata": {
    "collapsed": false
   }
  },
  {
   "cell_type": "code",
   "execution_count": null,
   "outputs": [],
   "source": [
    "featureLengthDF = sqldf(maxQuery,locals())"
   ],
   "metadata": {
    "collapsed": false
   }
  },
  {
   "cell_type": "code",
   "execution_count": null,
   "outputs": [],
   "source": [
    "featureLengths = featureLengthDF.loc[0]"
   ],
   "metadata": {
    "collapsed": false
   }
  },
  {
   "cell_type": "code",
   "execution_count": null,
   "outputs": [],
   "source": [
    "x1FeatureLength = float(test['x1FeatureLength'])\n",
    "x2FeatureLength = float(test['x2FeatureLength'])\n",
    "x3FeatureLength = float(test['x3FeatureLength'])"
   ],
   "metadata": {
    "collapsed": false
   }
  },
  {
   "cell_type": "markdown",
   "source": [
    "part 2: applying length to normalize each feature"
   ],
   "metadata": {
    "collapsed": false
   }
  },
  {
   "cell_type": "code",
   "execution_count": null,
   "outputs": [],
   "source": [
    "normalizedQuery = \"\"\"\n",
    "SELECT\n",
    "{0}/{3} feature1normalized,\n",
    "{1}/{4} feature2normalized,\n",
    "{2}/{5} feature3normalized\n",
    "FROM inst\n",
    "\"\"\".format(featuresDict['x1'],featuresDict['x2'],featuresDict['x3'], x1FeatureLength, x2FeatureLength, x3FeatureLength)"
   ],
   "metadata": {
    "collapsed": false
   }
  },
  {
   "cell_type": "code",
   "execution_count": null,
   "outputs": [],
   "source": [
    "normalizedDF = sqldf(normalizedQuery,locals())\n",
    "normalizedDF"
   ],
   "metadata": {
    "collapsed": false
   }
  },
  {
   "cell_type": "markdown",
   "source": [
    "multiplying preferences to feature"
   ],
   "metadata": {
    "collapsed": false
   }
  },
  {
   "cell_type": "code",
   "execution_count": null,
   "outputs": [],
   "source": [
    "prefVector = np.array([0.3,0.2,0.5])"
   ],
   "metadata": {
    "collapsed": false
   }
  },
  {
   "cell_type": "code",
   "execution_count": null,
   "outputs": [],
   "source": [
    "normalizedMatrix = normalizedDF.values"
   ],
   "metadata": {
    "collapsed": false
   }
  },
  {
   "cell_type": "code",
   "execution_count": null,
   "outputs": [],
   "source": [
    "normalizedMatrix"
   ],
   "metadata": {
    "collapsed": false
   }
  },
  {
   "cell_type": "code",
   "execution_count": null,
   "outputs": [],
   "source": [
    "ratingScore = np.dot(normalizedMatrix, prefVector)"
   ],
   "metadata": {
    "collapsed": false
   }
  },
  {
   "cell_type": "code",
   "execution_count": null,
   "outputs": [],
   "source": [
    "baseDF['Rating'] = ratingScore"
   ],
   "metadata": {
    "collapsed": false
   }
  },
  {
   "cell_type": "code",
   "execution_count": null,
   "outputs": [],
   "source": [
    "testQuery = \"\"\"\n",
    "SELECT count(*)\n",
    "FROM baseDF\n",
    "where rating is not NULL\n",
    "\"\"\""
   ],
   "metadata": {
    "collapsed": false
   }
  },
  {
   "cell_type": "code",
   "execution_count": null,
   "outputs": [],
   "source": [
    "output = sqldf(testQuery,locals())\n",
    "output"
   ],
   "metadata": {
    "collapsed": false
   }
  },
  {
   "cell_type": "markdown",
   "source": [
    "apply filters"
   ],
   "metadata": {
    "collapsed": false
   }
  }
 ],
 "metadata": {
  "kernelspec": {
   "display_name": "Python 3 (ipykernel)",
   "language": "python",
   "name": "python3"
  },
  "language_info": {
   "codemirror_mode": {
    "name": "ipython",
    "version": 3
   },
   "file_extension": ".py",
   "mimetype": "text/x-python",
   "name": "python",
   "nbconvert_exporter": "python",
   "pygments_lexer": "ipython3",
   "version": "3.9.13"
  }
 },
 "nbformat": 4,
 "nbformat_minor": 5
}
