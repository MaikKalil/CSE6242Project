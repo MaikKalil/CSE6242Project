{
 "cells": [
  {
   "cell_type": "code",
   "execution_count": 1,
   "id": "5d40e8ce-b382-4baf-8f49-ff0b83cd0196",
   "metadata": {
    "execution": {
     "iopub.execute_input": "2023-04-03T22:21:40.699765Z",
     "iopub.status.busy": "2023-04-03T22:21:40.699765Z",
     "iopub.status.idle": "2023-04-03T22:21:42.357102Z",
     "shell.execute_reply": "2023-04-03T22:21:42.353974Z",
     "shell.execute_reply.started": "2023-04-03T22:21:40.699765Z"
    },
    "tags": []
   },
   "outputs": [],
   "source": [
    "import sqlite3\n",
    "import pandas as pd\n",
    "import numpy as np\n",
    "import hashlib\n",
    "from pandasql import sqldf\n",
    "from geopy.distance import great_circle"
   ]
  },
  {
   "cell_type": "markdown",
   "source": [
    "Part 1. Establishing Database"
   ],
   "metadata": {
    "collapsed": false
   }
  },
  {
   "cell_type": "code",
   "execution_count": 5,
   "outputs": [],
   "source": [
    "conn = sqlite3.connect(\"cs.db\")"
   ],
   "metadata": {
    "collapsed": false
   }
  },
  {
   "cell_type": "code",
   "execution_count": 6,
   "outputs": [],
   "source": [
    "cur = conn.cursor()"
   ],
   "metadata": {
    "collapsed": false
   }
  },
  {
   "cell_type": "code",
   "execution_count": 7,
   "outputs": [
    {
     "data": {
      "text/plain": "     name\n0  fields\n1     geo\n2    inst\n3    user\n4   relig",
      "text/html": "<div>\n<style scoped>\n    .dataframe tbody tr th:only-of-type {\n        vertical-align: middle;\n    }\n\n    .dataframe tbody tr th {\n        vertical-align: top;\n    }\n\n    .dataframe thead th {\n        text-align: right;\n    }\n</style>\n<table border=\"1\" class=\"dataframe\">\n  <thead>\n    <tr style=\"text-align: right;\">\n      <th></th>\n      <th>name</th>\n    </tr>\n  </thead>\n  <tbody>\n    <tr>\n      <th>0</th>\n      <td>fields</td>\n    </tr>\n    <tr>\n      <th>1</th>\n      <td>geo</td>\n    </tr>\n    <tr>\n      <th>2</th>\n      <td>inst</td>\n    </tr>\n    <tr>\n      <th>3</th>\n      <td>user</td>\n    </tr>\n    <tr>\n      <th>4</th>\n      <td>relig</td>\n    </tr>\n  </tbody>\n</table>\n</div>"
     },
     "execution_count": 7,
     "metadata": {},
     "output_type": "execute_result"
    }
   ],
   "source": [
    "#Tables on db\n",
    "pd.read_sql(\"SELECT name FROM sqlite_master WHERE type='table'\",conn)"
   ],
   "metadata": {
    "collapsed": false
   }
  },
  {
   "cell_type": "code",
   "execution_count": 50,
   "outputs": [],
   "source": [
    "#inst = pd.read_sql(\"SELECT * FROM inst\",conn)"
   ],
   "metadata": {
    "collapsed": false
   }
  },
  {
   "cell_type": "code",
   "execution_count": 31,
   "outputs": [],
   "source": [
    "#conn.close()"
   ],
   "metadata": {
    "collapsed": false
   }
  },
  {
   "cell_type": "markdown",
   "source": [
    "Define Features and Filters"
   ],
   "metadata": {
    "collapsed": false
   }
  },
  {
   "cell_type": "code",
   "execution_count": 21,
   "outputs": [],
   "source": [
    "def features_dict(feature1, feature2, feature3):\n",
    "    featuresDict = {}\n",
    "    featuresDict['feature1']= feature1\n",
    "    featuresDict['feature2']= feature2\n",
    "    featuresDict['feature3']= feature3\n",
    "    return featuresDict"
   ],
   "metadata": {
    "collapsed": false
   }
  },
  {
   "cell_type": "code",
   "execution_count": 22,
   "outputs": [],
   "source": [
    "featuresDict = features_dict('OMENRUP_PELL_NFT_POOLED_SUPP', 'OMENRYP_PELL_FT_POOLED_SUPP', 'OMENRAP_PELL_FT_POOLED_SUPP')"
   ],
   "metadata": {
    "collapsed": false
   }
  },
  {
   "cell_type": "code",
   "execution_count": 10,
   "outputs": [],
   "source": [
    "def filter_list(filter1, filter2):\n",
    "    l = list()\n",
    "    l.append(filter1)\n",
    "    l.append(filter2)\n",
    "    return l"
   ],
   "metadata": {
    "collapsed": false
   }
  },
  {
   "cell_type": "code",
   "execution_count": 11,
   "outputs": [
    {
     "data": {
      "text/plain": "['SATMT25', 'SATVR25']"
     },
     "execution_count": 11,
     "metadata": {},
     "output_type": "execute_result"
    }
   ],
   "source": [
    "filterList = filter_list('SATMT25','SATVR25')\n",
    "filterList"
   ],
   "metadata": {
    "collapsed": false
   }
  },
  {
   "cell_type": "code",
   "execution_count": 12,
   "outputs": [],
   "source": [
    "def filter_values(filter1,filter1input, filter2, filter2input):\n",
    "    filters_dict = {}\n",
    "    filters_dict[filter1] = filter1input\n",
    "    filters_dict[filter2] = filter2input\n",
    "    return filters_dict"
   ],
   "metadata": {
    "collapsed": false
   }
  },
  {
   "cell_type": "code",
   "execution_count": 13,
   "outputs": [
    {
     "data": {
      "text/plain": "{'SATMT25': '586', 'SATVR25': '789'}"
     },
     "execution_count": 13,
     "metadata": {},
     "output_type": "execute_result"
    }
   ],
   "source": [
    "filterValues = filter_values('SATMT25', '586', 'SATVR25', '789')\n",
    "filterValues"
   ],
   "metadata": {
    "collapsed": false
   }
  },
  {
   "cell_type": "markdown",
   "source": [
    "Part 2. User Inputs"
   ],
   "metadata": {
    "collapsed": false
   }
  },
  {
   "cell_type": "markdown",
   "source": [
    "Part 2a. Preferences:\n",
    "Input provided: Importance from scale 1 to 10\n",
    "Output created: Allocation Percentage"
   ],
   "metadata": {
    "collapsed": false
   }
  },
  {
   "cell_type": "code",
   "execution_count": 18,
   "outputs": [
    {
     "data": {
      "text/plain": "array([0.26666667, 0.33333333, 0.4       ])"
     },
     "execution_count": 18,
     "metadata": {},
     "output_type": "execute_result"
    }
   ],
   "source": [
    "#a, b, c represents importance user provides for each preference\n",
    "#must be in same order as they are called in normalized matrix\n",
    "f1weight=4\n",
    "f2weight=5\n",
    "f3weight=6\n",
    "raw_weights = np.array([f1weight, f2weight, f3weight])\n",
    "sum_weights = np.sum(raw_weights)\n",
    "perc_weights = raw_weights/sum_weights\n",
    "perc_weights"
   ],
   "metadata": {
    "collapsed": false
   }
  },
  {
   "cell_type": "markdown",
   "source": [
    "Part 2b. User ID Creation\n",
    "Input provided: email\n",
    "Output created: 1) user_id 2) inserts user_id and email into \"user\" table\n",
    "Method: function (user_id_generator)"
   ],
   "metadata": {
    "collapsed": false
   }
  },
  {
   "cell_type": "code",
   "execution_count": 33,
   "outputs": [],
   "source": [
    "#Scenario 1 Testing\n",
    "email = 'mkjones@gatech.edu'\n",
    "user_id = int(hashlib.sha256(email.encode('utf-8')).hexdigest(), 16) % 10**8 # generate a unique numeric ID"
   ],
   "metadata": {
    "collapsed": false
   }
  },
  {
   "cell_type": "code",
   "execution_count": 34,
   "outputs": [
    {
     "data": {
      "text/plain": "9987952"
     },
     "execution_count": 34,
     "metadata": {},
     "output_type": "execute_result"
    }
   ],
   "source": [
    "user_id"
   ],
   "metadata": {
    "collapsed": false
   }
  },
  {
   "cell_type": "code",
   "execution_count": 35,
   "outputs": [
    {
     "data": {
      "text/plain": "80449489"
     },
     "execution_count": 35,
     "metadata": {},
     "output_type": "execute_result"
    }
   ],
   "source": [
    "#Scenario #2\n",
    "#trying different email\n",
    "email2 = 'michaelk.Jones@outlook.com'\n",
    "user_id3 = int(hashlib.sha256(email2.encode('utf-8')).hexdigest(), 16) % 10**8 # generate a unique numeric ID\n",
    "user_id3"
   ],
   "metadata": {
    "collapsed": false
   }
  },
  {
   "cell_type": "code",
   "execution_count": 36,
   "outputs": [
    {
     "data": {
      "text/plain": "87012218"
     },
     "execution_count": 36,
     "metadata": {},
     "output_type": "execute_result"
    }
   ],
   "source": [
    "#Scenario 3\n",
    "#trying same email as scenario 2 but with all lowercase\n",
    "email3 = 'michaelk.jones@outlook.com'\n",
    "user_id4 = int(hashlib.sha256(email3.encode('utf-8')).hexdigest(), 16) % 10**8 # generate a unique numeric ID\n",
    "user_id4"
   ],
   "metadata": {
    "collapsed": false
   }
  },
  {
   "cell_type": "code",
   "execution_count": 37,
   "outputs": [
    {
     "data": {
      "text/plain": "87012218"
     },
     "execution_count": 37,
     "metadata": {},
     "output_type": "execute_result"
    }
   ],
   "source": [
    "#Scenario 4\n",
    "#same email as scenario 2 but added lower to have negate capitalization effects\n",
    "email2 = 'michaelk.Jones@outlook.com'\n",
    "user_id5 = int(hashlib.sha256(email2.lower().encode('utf-8')).hexdigest(), 16) % 10**8 # generate a unique numeric ID\n",
    "user_id5"
   ],
   "metadata": {
    "collapsed": false
   }
  },
  {
   "cell_type": "code",
   "execution_count": 38,
   "outputs": [],
   "source": [
    "def user_id_generator(email):\n",
    "    id = int(hashlib.sha256(email.lower().encode('utf-8')).hexdigest(), 16) % 10**8 # generate a unique numeric ID\n",
    "    return id"
   ],
   "metadata": {
    "collapsed": false
   }
  },
  {
   "cell_type": "code",
   "execution_count": 39,
   "outputs": [
    {
     "data": {
      "text/plain": "83932234"
     },
     "execution_count": 39,
     "metadata": {},
     "output_type": "execute_result"
    }
   ],
   "source": [
    "#test case of function\n",
    "user_id_generator(email = 'test123@outlook.com')"
   ],
   "metadata": {
    "collapsed": false
   }
  },
  {
   "cell_type": "code",
   "execution_count": 40,
   "outputs": [],
   "source": [
    "email = 'test123@outlook.com'\n",
    "user_id = user_id_generator(email = 'test123@outlook.com')"
   ],
   "metadata": {
    "collapsed": false
   }
  },
  {
   "cell_type": "markdown",
   "source": [
    "if pd.read_sql(f\"SELECT * FROM user WHERE user_id ={user_id}\",conn).empty:\n",
    "    cur.execute(f\"INSERT INTO user values('{email}',{user_id})\")\n",
    "else:\n",
    "    print(\"Email exists\")"
   ],
   "metadata": {
    "collapsed": false
   }
  },
  {
   "cell_type": "code",
   "execution_count": 42,
   "outputs": [
    {
     "data": {
      "text/plain": "                        email   user_id\n0          mkjones@gatech.edu   9987952\n1       mykek.jones@gmail.com  95829733\n2  michaelk.jones@outlook.com  87012218\n3             test1@GMAIL.COM  65768313\n4             test1@gmail.com  45591513",
      "text/html": "<div>\n<style scoped>\n    .dataframe tbody tr th:only-of-type {\n        vertical-align: middle;\n    }\n\n    .dataframe tbody tr th {\n        vertical-align: top;\n    }\n\n    .dataframe thead th {\n        text-align: right;\n    }\n</style>\n<table border=\"1\" class=\"dataframe\">\n  <thead>\n    <tr style=\"text-align: right;\">\n      <th></th>\n      <th>email</th>\n      <th>user_id</th>\n    </tr>\n  </thead>\n  <tbody>\n    <tr>\n      <th>0</th>\n      <td>mkjones@gatech.edu</td>\n      <td>9987952</td>\n    </tr>\n    <tr>\n      <th>1</th>\n      <td>mykek.jones@gmail.com</td>\n      <td>95829733</td>\n    </tr>\n    <tr>\n      <th>2</th>\n      <td>michaelk.jones@outlook.com</td>\n      <td>87012218</td>\n    </tr>\n    <tr>\n      <th>3</th>\n      <td>test1@GMAIL.COM</td>\n      <td>65768313</td>\n    </tr>\n    <tr>\n      <th>4</th>\n      <td>test1@gmail.com</td>\n      <td>45591513</td>\n    </tr>\n  </tbody>\n</table>\n</div>"
     },
     "execution_count": 42,
     "metadata": {},
     "output_type": "execute_result"
    }
   ],
   "source": [
    "pd.read_sql(f\"SELECT * FROM user\",conn)"
   ],
   "metadata": {
    "collapsed": false
   }
  },
  {
   "cell_type": "markdown",
   "source": [
    "Part 2.c: Zipcode\n",
    "user provided: zipcode\n",
    "output created: temp dataframe of distance in miles per institution"
   ],
   "metadata": {
    "collapsed": false
   }
  },
  {
   "cell_type": "code",
   "execution_count": 9,
   "outputs": [],
   "source": [
    "geo = pd.read_sql(\"SELECT * FROM geo\",conn)"
   ],
   "metadata": {
    "collapsed": false
   }
  },
  {
   "cell_type": "code",
   "execution_count": 16,
   "outputs": [
    {
     "ename": "AttributeError",
     "evalue": "'DataFrame' object has no attribute 'printSchema'",
     "output_type": "error",
     "traceback": [
      "\u001B[1;31m---------------------------------------------------------------------------\u001B[0m",
      "\u001B[1;31mAttributeError\u001B[0m                            Traceback (most recent call last)",
      "Cell \u001B[1;32mIn[16], line 1\u001B[0m\n\u001B[1;32m----> 1\u001B[0m \u001B[43mgeo\u001B[49m\u001B[38;5;241;43m.\u001B[39;49m\u001B[43mprintSchema\u001B[49m()\n",
      "File \u001B[1;32m~\\PycharmProjects\\CSE6242Project\\venv\\Lib\\site-packages\\pandas\\core\\generic.py:5989\u001B[0m, in \u001B[0;36mNDFrame.__getattr__\u001B[1;34m(self, name)\u001B[0m\n\u001B[0;32m   5982\u001B[0m \u001B[38;5;28;01mif\u001B[39;00m (\n\u001B[0;32m   5983\u001B[0m     name \u001B[38;5;129;01mnot\u001B[39;00m \u001B[38;5;129;01min\u001B[39;00m \u001B[38;5;28mself\u001B[39m\u001B[38;5;241m.\u001B[39m_internal_names_set\n\u001B[0;32m   5984\u001B[0m     \u001B[38;5;129;01mand\u001B[39;00m name \u001B[38;5;129;01mnot\u001B[39;00m \u001B[38;5;129;01min\u001B[39;00m \u001B[38;5;28mself\u001B[39m\u001B[38;5;241m.\u001B[39m_metadata\n\u001B[0;32m   5985\u001B[0m     \u001B[38;5;129;01mand\u001B[39;00m name \u001B[38;5;129;01mnot\u001B[39;00m \u001B[38;5;129;01min\u001B[39;00m \u001B[38;5;28mself\u001B[39m\u001B[38;5;241m.\u001B[39m_accessors\n\u001B[0;32m   5986\u001B[0m     \u001B[38;5;129;01mand\u001B[39;00m \u001B[38;5;28mself\u001B[39m\u001B[38;5;241m.\u001B[39m_info_axis\u001B[38;5;241m.\u001B[39m_can_hold_identifiers_and_holds_name(name)\n\u001B[0;32m   5987\u001B[0m ):\n\u001B[0;32m   5988\u001B[0m     \u001B[38;5;28;01mreturn\u001B[39;00m \u001B[38;5;28mself\u001B[39m[name]\n\u001B[1;32m-> 5989\u001B[0m \u001B[38;5;28;01mreturn\u001B[39;00m \u001B[38;5;28;43mobject\u001B[39;49m\u001B[38;5;241;43m.\u001B[39;49m\u001B[38;5;21;43m__getattribute__\u001B[39;49m\u001B[43m(\u001B[49m\u001B[38;5;28;43mself\u001B[39;49m\u001B[43m,\u001B[49m\u001B[43m \u001B[49m\u001B[43mname\u001B[49m\u001B[43m)\u001B[49m\n",
      "\u001B[1;31mAttributeError\u001B[0m: 'DataFrame' object has no attribute 'printSchema'"
     ]
    }
   ],
   "source": [
    "geo.printSchema()"
   ],
   "metadata": {
    "collapsed": false
   }
  },
  {
   "cell_type": "code",
   "execution_count": 45,
   "outputs": [],
   "source": [
    "input_zip = \"30315\""
   ],
   "metadata": {
    "collapsed": false
   }
  },
  {
   "cell_type": "code",
   "execution_count": 46,
   "outputs": [
    {
     "name": "stdout",
     "output_type": "stream",
     "text": [
      "lat, lon: (33.70312, -84.38272)\n"
     ]
    }
   ],
   "source": [
    "lat =float(list(geo[geo['zip']==input_zip]['lat'])[0])\n",
    "lon =float(list(geo[geo['zip']==input_zip]['lng'])[0])\n",
    "print(f\"lat, lon: ({lat}, {lon})\")"
   ],
   "metadata": {
    "collapsed": false
   }
  },
  {
   "cell_type": "code",
   "execution_count": 51,
   "outputs": [
    {
     "data": {
      "text/plain": "        UNITID   LATITUDE   LONGITUDE\n0       100654  34.783368  -86.568502\n1       100663  33.505697  -86.799345\n2       100690  32.362609   -86.17401\n3       100706  34.724557  -86.640449\n4       100724  32.364317  -86.295677\n...        ...        ...         ...\n6676  49576719   41.31559   -76.02235\n6677  49576720   39.92142   -76.71277\n6678  49576721    40.0466    -75.5302\n6679  49576722   40.19437   -76.72659\n6680  49576723   39.92248   -75.41419\n\n[6681 rows x 3 columns]",
      "text/html": "<div>\n<style scoped>\n    .dataframe tbody tr th:only-of-type {\n        vertical-align: middle;\n    }\n\n    .dataframe tbody tr th {\n        vertical-align: top;\n    }\n\n    .dataframe thead th {\n        text-align: right;\n    }\n</style>\n<table border=\"1\" class=\"dataframe\">\n  <thead>\n    <tr style=\"text-align: right;\">\n      <th></th>\n      <th>UNITID</th>\n      <th>LATITUDE</th>\n      <th>LONGITUDE</th>\n    </tr>\n  </thead>\n  <tbody>\n    <tr>\n      <th>0</th>\n      <td>100654</td>\n      <td>34.783368</td>\n      <td>-86.568502</td>\n    </tr>\n    <tr>\n      <th>1</th>\n      <td>100663</td>\n      <td>33.505697</td>\n      <td>-86.799345</td>\n    </tr>\n    <tr>\n      <th>2</th>\n      <td>100690</td>\n      <td>32.362609</td>\n      <td>-86.17401</td>\n    </tr>\n    <tr>\n      <th>3</th>\n      <td>100706</td>\n      <td>34.724557</td>\n      <td>-86.640449</td>\n    </tr>\n    <tr>\n      <th>4</th>\n      <td>100724</td>\n      <td>32.364317</td>\n      <td>-86.295677</td>\n    </tr>\n    <tr>\n      <th>...</th>\n      <td>...</td>\n      <td>...</td>\n      <td>...</td>\n    </tr>\n    <tr>\n      <th>6676</th>\n      <td>49576719</td>\n      <td>41.31559</td>\n      <td>-76.02235</td>\n    </tr>\n    <tr>\n      <th>6677</th>\n      <td>49576720</td>\n      <td>39.92142</td>\n      <td>-76.71277</td>\n    </tr>\n    <tr>\n      <th>6678</th>\n      <td>49576721</td>\n      <td>40.0466</td>\n      <td>-75.5302</td>\n    </tr>\n    <tr>\n      <th>6679</th>\n      <td>49576722</td>\n      <td>40.19437</td>\n      <td>-76.72659</td>\n    </tr>\n    <tr>\n      <th>6680</th>\n      <td>49576723</td>\n      <td>39.92248</td>\n      <td>-75.41419</td>\n    </tr>\n  </tbody>\n</table>\n<p>6681 rows × 3 columns</p>\n</div>"
     },
     "execution_count": 51,
     "metadata": {},
     "output_type": "execute_result"
    }
   ],
   "source": [
    "inst[[\"UNITID\",\"LATITUDE\",\"LONGITUDE\"]]"
   ],
   "metadata": {
    "collapsed": false
   }
  },
  {
   "cell_type": "code",
   "execution_count": 57,
   "outputs": [],
   "source": [
    "## Function to use to find the distance of each university in miles\n",
    "def inst_dist (lat,lon):\n",
    "    idx = inst.apply(lambda x: great_circle((x[\"LATITUDE\"], x[\"LONGITUDE\"]), (lat, lon)).miles, axis=1)\n",
    "    column_name = f\"{user_id}_DISTANCE_MI\"  # Adding user_id to the column title\n",
    "    return inst.loc[:, ['UNITID']].assign(**{column_name: idx})"
   ],
   "metadata": {
    "collapsed": false
   }
  },
  {
   "cell_type": "code",
   "execution_count": 59,
   "outputs": [],
   "source": [
    "def inst_dist (lat,lon):\n",
    "    idx = inst.apply(lambda x: great_circle((x[\"LATITUDE\"], x[\"LONGITUDE\"]), (lat, lon)).miles, axis=1)\n",
    "    column_name = f\"{user_id}_DISTANCE_MI\"  # Adding user_id to the column title\n",
    "    return inst.loc[:, ['UNITID']].assign(dist_miles = idx)"
   ],
   "metadata": {
    "collapsed": false
   }
  },
  {
   "cell_type": "code",
   "execution_count": 61,
   "outputs": [],
   "source": [
    "#Distances of each university to the input zip\n",
    "dist_temp_table = inst_dist(lat,lon)\n",
    "type(dist_temp_table)\n",
    "dist_temp_table\n",
    "inst = pd.merge(inst, dist_temp_table, on='UNITID')"
   ],
   "metadata": {
    "collapsed": false
   }
  },
  {
   "cell_type": "code",
   "execution_count": 5,
   "outputs": [
    {
     "data": {
      "text/plain": "        UNITID     OPEID  OPEID6   \n0       100654  00100200  001002  \\\n1       100663  00105200  001052   \n2       100690  02503400  025034   \n3       100706  00105500  001055   \n4       100724  00100500  001005   \n...        ...       ...     ...   \n6676  49576719  00332917  003329   \n6677  49576720  00332918  003329   \n6678  49576721  00332919  003329   \n6679  49576722  00332920  003329   \n6680  49576723  00332921  003329   \n\n                                                 INSTNM        CITY STABBR   \n0                              Alabama A & M University      Normal     AL  \\\n1                   University of Alabama at Birmingham  Birmingham     AL   \n2                                    Amridge University  Montgomery     AL   \n3                   University of Alabama in Huntsville  Huntsville     AL   \n4                              Alabama State University  Montgomery     AL   \n...                                                 ...         ...    ...   \n6676  Pennsylvania State University-Penn State Wilke...      Lehman     PA   \n6677      Pennsylvania State University-Penn State York        York     PA   \n6678  Pennsylvania State University-Penn State Great...     Malvern     PA   \n6679  Pennsylvania State University-Penn State Harri...  Middletown     PA   \n6680  Pennsylvania State University-Penn State Brand...       Media     PA   \n\n             ZIP                     INSTURL   \n0          35762               www.aamu.edu/  \\\n1     35294-0110        https://www.uab.edu/   \n2     36117-3553  www.amridgeuniversity.edu/   \n3          35899                www.uah.edu/   \n4     36104-0271              www.alasu.edu/   \n...          ...                         ...   \n6676  18627-0217        wilkesbarre.psu.edu/   \n6677  17403-3326               york.psu.edu/   \n6678  19355-1488        greatvalley.psu.edu/   \n6679  17057-4846         harrisburg.psu.edu/   \n6680  19063-5522         brandywine.psu.edu/   \n\n                                                 NPCURL HCM2  ...   \n0     www.aamu.edu/admissions-aid/tuition-fees/net-p...    0  ...  \\\n1     https://tcc.ruffalonl.com/University of Alabam...    0  ...   \n2                      www2.amridgeuniversity.edu:9091/    0  ...   \n3                                       finaid.uah.edu/    0  ...   \n4     www.alasu.edu/cost-aid/tuition-costs/net-price...    0  ...   \n...                                                 ...  ...  ...   \n6676                                               None    0  ...   \n6677                                               None    0  ...   \n6678                                               None    0  ...   \n6679                                               None    0  ...   \n6680                                               None    0  ...   \n\n     OMENRUP_PELL_NFT_POOLED_SUPP OMENRYP_PELL_FT_POOLED_SUPP   \n0                          0.2803                      0.0116  \\\n1                           0.211                      0.0149   \n2                           0.468                           0   \n3                           0.187                      0.0098   \n4                          0.2026                      0.0097   \n...                           ...                         ...   \n6676                         None                        None   \n6677                         None                        None   \n6678                         None                        None   \n6679                         None                        None   \n6680                         None                        None   \n\n     OMENRAP_PELL_FT_POOLED_SUPP OMAWDP8_PELL_FT_POOLED_SUPP   \n0                         0.3329                      0.2958  \\\n1                         0.2773                      0.5243   \n2                         0.2798                      0.2523   \n3                         0.3154                      0.4961   \n4                         0.3904                      0.3061   \n...                          ...                         ...   \n6676                        None                        None   \n6677                        None                        None   \n6678                        None                        None   \n6679                        None                        None   \n6680                        None                        None   \n\n     OMENRUP_PELL_FT_POOLED_SUPP OMENRYP_PELL_PT_POOLED_SUPP   \n0                         0.3597                      0.0056  \\\n1                         0.1835                      0.0211   \n2                         0.4679                           0   \n3                         0.1787                      0.0105   \n4                         0.2938                      0.0778   \n...                          ...                         ...   \n6676                        None                        None   \n6677                        None                        None   \n6678                        None                        None   \n6679                        None                        None   \n6680                        None                        None   \n\n     OMENRAP_PELL_PT_POOLED_SUPP OMAWDP8_PELL_PT_POOLED_SUPP   \n0                         0.3889                      0.1833  \\\n1                          0.277                      0.4354   \n2                          0.186                      0.4186   \n3                         0.3632                      0.3474   \n4                         0.4444                      0.1111   \n...                          ...                         ...   \n6676                        None                        None   \n6677                        None                        None   \n6678                        None                        None   \n6679                        None                        None   \n6680                        None                        None   \n\n     OMENRUP_PELL_PT_POOLED_SUPP GT_THRESHOLD_P6_SUPP  \n0                         0.4222               0.4606  \n1                         0.2665                0.659  \n2                         0.3953               0.5132  \n3                         0.2789                0.717  \n4                         0.3667                0.382  \n...                          ...                  ...  \n6676                        None                 None  \n6677                        None                 None  \n6678                        None                 None  \n6679                        None                 None  \n6680                        None                 None  \n\n[6681 rows x 174 columns]",
      "text/html": "<div>\n<style scoped>\n    .dataframe tbody tr th:only-of-type {\n        vertical-align: middle;\n    }\n\n    .dataframe tbody tr th {\n        vertical-align: top;\n    }\n\n    .dataframe thead th {\n        text-align: right;\n    }\n</style>\n<table border=\"1\" class=\"dataframe\">\n  <thead>\n    <tr style=\"text-align: right;\">\n      <th></th>\n      <th>UNITID</th>\n      <th>OPEID</th>\n      <th>OPEID6</th>\n      <th>INSTNM</th>\n      <th>CITY</th>\n      <th>STABBR</th>\n      <th>ZIP</th>\n      <th>INSTURL</th>\n      <th>NPCURL</th>\n      <th>HCM2</th>\n      <th>...</th>\n      <th>OMENRUP_PELL_NFT_POOLED_SUPP</th>\n      <th>OMENRYP_PELL_FT_POOLED_SUPP</th>\n      <th>OMENRAP_PELL_FT_POOLED_SUPP</th>\n      <th>OMAWDP8_PELL_FT_POOLED_SUPP</th>\n      <th>OMENRUP_PELL_FT_POOLED_SUPP</th>\n      <th>OMENRYP_PELL_PT_POOLED_SUPP</th>\n      <th>OMENRAP_PELL_PT_POOLED_SUPP</th>\n      <th>OMAWDP8_PELL_PT_POOLED_SUPP</th>\n      <th>OMENRUP_PELL_PT_POOLED_SUPP</th>\n      <th>GT_THRESHOLD_P6_SUPP</th>\n    </tr>\n  </thead>\n  <tbody>\n    <tr>\n      <th>0</th>\n      <td>100654</td>\n      <td>00100200</td>\n      <td>001002</td>\n      <td>Alabama A &amp; M University</td>\n      <td>Normal</td>\n      <td>AL</td>\n      <td>35762</td>\n      <td>www.aamu.edu/</td>\n      <td>www.aamu.edu/admissions-aid/tuition-fees/net-p...</td>\n      <td>0</td>\n      <td>...</td>\n      <td>0.2803</td>\n      <td>0.0116</td>\n      <td>0.3329</td>\n      <td>0.2958</td>\n      <td>0.3597</td>\n      <td>0.0056</td>\n      <td>0.3889</td>\n      <td>0.1833</td>\n      <td>0.4222</td>\n      <td>0.4606</td>\n    </tr>\n    <tr>\n      <th>1</th>\n      <td>100663</td>\n      <td>00105200</td>\n      <td>001052</td>\n      <td>University of Alabama at Birmingham</td>\n      <td>Birmingham</td>\n      <td>AL</td>\n      <td>35294-0110</td>\n      <td>https://www.uab.edu/</td>\n      <td>https://tcc.ruffalonl.com/University of Alabam...</td>\n      <td>0</td>\n      <td>...</td>\n      <td>0.211</td>\n      <td>0.0149</td>\n      <td>0.2773</td>\n      <td>0.5243</td>\n      <td>0.1835</td>\n      <td>0.0211</td>\n      <td>0.277</td>\n      <td>0.4354</td>\n      <td>0.2665</td>\n      <td>0.659</td>\n    </tr>\n    <tr>\n      <th>2</th>\n      <td>100690</td>\n      <td>02503400</td>\n      <td>025034</td>\n      <td>Amridge University</td>\n      <td>Montgomery</td>\n      <td>AL</td>\n      <td>36117-3553</td>\n      <td>www.amridgeuniversity.edu/</td>\n      <td>www2.amridgeuniversity.edu:9091/</td>\n      <td>0</td>\n      <td>...</td>\n      <td>0.468</td>\n      <td>0</td>\n      <td>0.2798</td>\n      <td>0.2523</td>\n      <td>0.4679</td>\n      <td>0</td>\n      <td>0.186</td>\n      <td>0.4186</td>\n      <td>0.3953</td>\n      <td>0.5132</td>\n    </tr>\n    <tr>\n      <th>3</th>\n      <td>100706</td>\n      <td>00105500</td>\n      <td>001055</td>\n      <td>University of Alabama in Huntsville</td>\n      <td>Huntsville</td>\n      <td>AL</td>\n      <td>35899</td>\n      <td>www.uah.edu/</td>\n      <td>finaid.uah.edu/</td>\n      <td>0</td>\n      <td>...</td>\n      <td>0.187</td>\n      <td>0.0098</td>\n      <td>0.3154</td>\n      <td>0.4961</td>\n      <td>0.1787</td>\n      <td>0.0105</td>\n      <td>0.3632</td>\n      <td>0.3474</td>\n      <td>0.2789</td>\n      <td>0.717</td>\n    </tr>\n    <tr>\n      <th>4</th>\n      <td>100724</td>\n      <td>00100500</td>\n      <td>001005</td>\n      <td>Alabama State University</td>\n      <td>Montgomery</td>\n      <td>AL</td>\n      <td>36104-0271</td>\n      <td>www.alasu.edu/</td>\n      <td>www.alasu.edu/cost-aid/tuition-costs/net-price...</td>\n      <td>0</td>\n      <td>...</td>\n      <td>0.2026</td>\n      <td>0.0097</td>\n      <td>0.3904</td>\n      <td>0.3061</td>\n      <td>0.2938</td>\n      <td>0.0778</td>\n      <td>0.4444</td>\n      <td>0.1111</td>\n      <td>0.3667</td>\n      <td>0.382</td>\n    </tr>\n    <tr>\n      <th>...</th>\n      <td>...</td>\n      <td>...</td>\n      <td>...</td>\n      <td>...</td>\n      <td>...</td>\n      <td>...</td>\n      <td>...</td>\n      <td>...</td>\n      <td>...</td>\n      <td>...</td>\n      <td>...</td>\n      <td>...</td>\n      <td>...</td>\n      <td>...</td>\n      <td>...</td>\n      <td>...</td>\n      <td>...</td>\n      <td>...</td>\n      <td>...</td>\n      <td>...</td>\n      <td>...</td>\n    </tr>\n    <tr>\n      <th>6676</th>\n      <td>49576719</td>\n      <td>00332917</td>\n      <td>003329</td>\n      <td>Pennsylvania State University-Penn State Wilke...</td>\n      <td>Lehman</td>\n      <td>PA</td>\n      <td>18627-0217</td>\n      <td>wilkesbarre.psu.edu/</td>\n      <td>None</td>\n      <td>0</td>\n      <td>...</td>\n      <td>None</td>\n      <td>None</td>\n      <td>None</td>\n      <td>None</td>\n      <td>None</td>\n      <td>None</td>\n      <td>None</td>\n      <td>None</td>\n      <td>None</td>\n      <td>None</td>\n    </tr>\n    <tr>\n      <th>6677</th>\n      <td>49576720</td>\n      <td>00332918</td>\n      <td>003329</td>\n      <td>Pennsylvania State University-Penn State York</td>\n      <td>York</td>\n      <td>PA</td>\n      <td>17403-3326</td>\n      <td>york.psu.edu/</td>\n      <td>None</td>\n      <td>0</td>\n      <td>...</td>\n      <td>None</td>\n      <td>None</td>\n      <td>None</td>\n      <td>None</td>\n      <td>None</td>\n      <td>None</td>\n      <td>None</td>\n      <td>None</td>\n      <td>None</td>\n      <td>None</td>\n    </tr>\n    <tr>\n      <th>6678</th>\n      <td>49576721</td>\n      <td>00332919</td>\n      <td>003329</td>\n      <td>Pennsylvania State University-Penn State Great...</td>\n      <td>Malvern</td>\n      <td>PA</td>\n      <td>19355-1488</td>\n      <td>greatvalley.psu.edu/</td>\n      <td>None</td>\n      <td>0</td>\n      <td>...</td>\n      <td>None</td>\n      <td>None</td>\n      <td>None</td>\n      <td>None</td>\n      <td>None</td>\n      <td>None</td>\n      <td>None</td>\n      <td>None</td>\n      <td>None</td>\n      <td>None</td>\n    </tr>\n    <tr>\n      <th>6679</th>\n      <td>49576722</td>\n      <td>00332920</td>\n      <td>003329</td>\n      <td>Pennsylvania State University-Penn State Harri...</td>\n      <td>Middletown</td>\n      <td>PA</td>\n      <td>17057-4846</td>\n      <td>harrisburg.psu.edu/</td>\n      <td>None</td>\n      <td>0</td>\n      <td>...</td>\n      <td>None</td>\n      <td>None</td>\n      <td>None</td>\n      <td>None</td>\n      <td>None</td>\n      <td>None</td>\n      <td>None</td>\n      <td>None</td>\n      <td>None</td>\n      <td>None</td>\n    </tr>\n    <tr>\n      <th>6680</th>\n      <td>49576723</td>\n      <td>00332921</td>\n      <td>003329</td>\n      <td>Pennsylvania State University-Penn State Brand...</td>\n      <td>Media</td>\n      <td>PA</td>\n      <td>19063-5522</td>\n      <td>brandywine.psu.edu/</td>\n      <td>None</td>\n      <td>0</td>\n      <td>...</td>\n      <td>None</td>\n      <td>None</td>\n      <td>None</td>\n      <td>None</td>\n      <td>None</td>\n      <td>None</td>\n      <td>None</td>\n      <td>None</td>\n      <td>None</td>\n      <td>None</td>\n    </tr>\n  </tbody>\n</table>\n<p>6681 rows × 174 columns</p>\n</div>"
     },
     "execution_count": 5,
     "metadata": {},
     "output_type": "execute_result"
    }
   ],
   "source": [
    "pd.read_sql(\"SELECT * FROM inst\",conn)"
   ],
   "metadata": {
    "collapsed": false
   }
  },
  {
   "cell_type": "code",
   "execution_count": 119,
   "outputs": [],
   "source": [
    "def transform_zip_to_dist_col(zipcode):\n",
    "    geo = pd.read_sql(\"SELECT * FROM geo\",conn)\n",
    "    inst = pd.read_sql(\"SELECT * FROM inst\",conn)\n",
    "    lat =float(list(geo[geo['zip']==zipcode]['lat'])[0])\n",
    "    lon =float(list(geo[geo['zip']==zipcode]['lng'])[0])\n",
    "    idx = inst.apply(lambda x: great_circle((x[\"LATITUDE\"], x[\"LONGITUDE\"]), (lat, lon)).miles, axis=1)\n",
    "    distDF = inst.loc[:, ['UNITID']].assign(dist_miles = idx)\n",
    "    inst = pd.merge(inst, distDF, on='UNITID')\n",
    "    return inst"
   ],
   "metadata": {
    "collapsed": false
   }
  },
  {
   "cell_type": "code",
   "execution_count": 120,
   "outputs": [
    {
     "data": {
      "text/plain": "        UNITID     OPEID  OPEID6   \n0       100654  00100200  001002  \\\n1       100663  00105200  001052   \n2       100690  02503400  025034   \n3       100706  00105500  001055   \n4       100724  00100500  001005   \n...        ...       ...     ...   \n6676  49576719  00332917  003329   \n6677  49576720  00332918  003329   \n6678  49576721  00332919  003329   \n6679  49576722  00332920  003329   \n6680  49576723  00332921  003329   \n\n                                                 INSTNM        CITY STABBR   \n0                              Alabama A & M University      Normal     AL  \\\n1                   University of Alabama at Birmingham  Birmingham     AL   \n2                                    Amridge University  Montgomery     AL   \n3                   University of Alabama in Huntsville  Huntsville     AL   \n4                              Alabama State University  Montgomery     AL   \n...                                                 ...         ...    ...   \n6676  Pennsylvania State University-Penn State Wilke...      Lehman     PA   \n6677      Pennsylvania State University-Penn State York        York     PA   \n6678  Pennsylvania State University-Penn State Great...     Malvern     PA   \n6679  Pennsylvania State University-Penn State Harri...  Middletown     PA   \n6680  Pennsylvania State University-Penn State Brand...       Media     PA   \n\n             ZIP                     INSTURL   \n0          35762               www.aamu.edu/  \\\n1     35294-0110        https://www.uab.edu/   \n2     36117-3553  www.amridgeuniversity.edu/   \n3          35899                www.uah.edu/   \n4     36104-0271              www.alasu.edu/   \n...          ...                         ...   \n6676  18627-0217        wilkesbarre.psu.edu/   \n6677  17403-3326               york.psu.edu/   \n6678  19355-1488        greatvalley.psu.edu/   \n6679  17057-4846         harrisburg.psu.edu/   \n6680  19063-5522         brandywine.psu.edu/   \n\n                                                 NPCURL HCM2  ...   \n0     www.aamu.edu/admissions-aid/tuition-fees/net-p...    0  ...  \\\n1     https://tcc.ruffalonl.com/University of Alabam...    0  ...   \n2                      www2.amridgeuniversity.edu:9091/    0  ...   \n3                                       finaid.uah.edu/    0  ...   \n4     www.alasu.edu/cost-aid/tuition-costs/net-price...    0  ...   \n...                                                 ...  ...  ...   \n6676                                               None    0  ...   \n6677                                               None    0  ...   \n6678                                               None    0  ...   \n6679                                               None    0  ...   \n6680                                               None    0  ...   \n\n     OMENRYP_PELL_FT_POOLED_SUPP OMENRAP_PELL_FT_POOLED_SUPP   \n0                         0.0116                      0.3329  \\\n1                         0.0149                      0.2773   \n2                              0                      0.2798   \n3                         0.0098                      0.3154   \n4                         0.0097                      0.3904   \n...                          ...                         ...   \n6676                        None                        None   \n6677                        None                        None   \n6678                        None                        None   \n6679                        None                        None   \n6680                        None                        None   \n\n     OMAWDP8_PELL_FT_POOLED_SUPP OMENRUP_PELL_FT_POOLED_SUPP   \n0                         0.2958                      0.3597  \\\n1                         0.5243                      0.1835   \n2                         0.2523                      0.4679   \n3                         0.4961                      0.1787   \n4                         0.3061                      0.2938   \n...                          ...                         ...   \n6676                        None                        None   \n6677                        None                        None   \n6678                        None                        None   \n6679                        None                        None   \n6680                        None                        None   \n\n     OMENRYP_PELL_PT_POOLED_SUPP OMENRAP_PELL_PT_POOLED_SUPP   \n0                         0.0056                      0.3889  \\\n1                         0.0211                       0.277   \n2                              0                       0.186   \n3                         0.0105                      0.3632   \n4                         0.0778                      0.4444   \n...                          ...                         ...   \n6676                        None                        None   \n6677                        None                        None   \n6678                        None                        None   \n6679                        None                        None   \n6680                        None                        None   \n\n     OMAWDP8_PELL_PT_POOLED_SUPP OMENRUP_PELL_PT_POOLED_SUPP   \n0                         0.1833                      0.4222  \\\n1                         0.4354                      0.2665   \n2                         0.4186                      0.3953   \n3                         0.3474                      0.2789   \n4                         0.1111                      0.3667   \n...                          ...                         ...   \n6676                        None                        None   \n6677                        None                        None   \n6678                        None                        None   \n6679                        None                        None   \n6680                        None                        None   \n\n     GT_THRESHOLD_P6_SUPP  dist_miles  \n0                  0.4606  147.593425  \n1                   0.659  156.540810  \n2                  0.5132  164.191256  \n3                   0.717  150.129854  \n4                   0.382  169.201972  \n...                   ...         ...  \n6676                 None  670.943595  \n6677                 None  577.729643  \n6678                 None  630.970517  \n6679                 None  590.104574  \n6680                 None  630.528504  \n\n[6681 rows x 175 columns]",
      "text/html": "<div>\n<style scoped>\n    .dataframe tbody tr th:only-of-type {\n        vertical-align: middle;\n    }\n\n    .dataframe tbody tr th {\n        vertical-align: top;\n    }\n\n    .dataframe thead th {\n        text-align: right;\n    }\n</style>\n<table border=\"1\" class=\"dataframe\">\n  <thead>\n    <tr style=\"text-align: right;\">\n      <th></th>\n      <th>UNITID</th>\n      <th>OPEID</th>\n      <th>OPEID6</th>\n      <th>INSTNM</th>\n      <th>CITY</th>\n      <th>STABBR</th>\n      <th>ZIP</th>\n      <th>INSTURL</th>\n      <th>NPCURL</th>\n      <th>HCM2</th>\n      <th>...</th>\n      <th>OMENRYP_PELL_FT_POOLED_SUPP</th>\n      <th>OMENRAP_PELL_FT_POOLED_SUPP</th>\n      <th>OMAWDP8_PELL_FT_POOLED_SUPP</th>\n      <th>OMENRUP_PELL_FT_POOLED_SUPP</th>\n      <th>OMENRYP_PELL_PT_POOLED_SUPP</th>\n      <th>OMENRAP_PELL_PT_POOLED_SUPP</th>\n      <th>OMAWDP8_PELL_PT_POOLED_SUPP</th>\n      <th>OMENRUP_PELL_PT_POOLED_SUPP</th>\n      <th>GT_THRESHOLD_P6_SUPP</th>\n      <th>dist_miles</th>\n    </tr>\n  </thead>\n  <tbody>\n    <tr>\n      <th>0</th>\n      <td>100654</td>\n      <td>00100200</td>\n      <td>001002</td>\n      <td>Alabama A &amp; M University</td>\n      <td>Normal</td>\n      <td>AL</td>\n      <td>35762</td>\n      <td>www.aamu.edu/</td>\n      <td>www.aamu.edu/admissions-aid/tuition-fees/net-p...</td>\n      <td>0</td>\n      <td>...</td>\n      <td>0.0116</td>\n      <td>0.3329</td>\n      <td>0.2958</td>\n      <td>0.3597</td>\n      <td>0.0056</td>\n      <td>0.3889</td>\n      <td>0.1833</td>\n      <td>0.4222</td>\n      <td>0.4606</td>\n      <td>147.593425</td>\n    </tr>\n    <tr>\n      <th>1</th>\n      <td>100663</td>\n      <td>00105200</td>\n      <td>001052</td>\n      <td>University of Alabama at Birmingham</td>\n      <td>Birmingham</td>\n      <td>AL</td>\n      <td>35294-0110</td>\n      <td>https://www.uab.edu/</td>\n      <td>https://tcc.ruffalonl.com/University of Alabam...</td>\n      <td>0</td>\n      <td>...</td>\n      <td>0.0149</td>\n      <td>0.2773</td>\n      <td>0.5243</td>\n      <td>0.1835</td>\n      <td>0.0211</td>\n      <td>0.277</td>\n      <td>0.4354</td>\n      <td>0.2665</td>\n      <td>0.659</td>\n      <td>156.540810</td>\n    </tr>\n    <tr>\n      <th>2</th>\n      <td>100690</td>\n      <td>02503400</td>\n      <td>025034</td>\n      <td>Amridge University</td>\n      <td>Montgomery</td>\n      <td>AL</td>\n      <td>36117-3553</td>\n      <td>www.amridgeuniversity.edu/</td>\n      <td>www2.amridgeuniversity.edu:9091/</td>\n      <td>0</td>\n      <td>...</td>\n      <td>0</td>\n      <td>0.2798</td>\n      <td>0.2523</td>\n      <td>0.4679</td>\n      <td>0</td>\n      <td>0.186</td>\n      <td>0.4186</td>\n      <td>0.3953</td>\n      <td>0.5132</td>\n      <td>164.191256</td>\n    </tr>\n    <tr>\n      <th>3</th>\n      <td>100706</td>\n      <td>00105500</td>\n      <td>001055</td>\n      <td>University of Alabama in Huntsville</td>\n      <td>Huntsville</td>\n      <td>AL</td>\n      <td>35899</td>\n      <td>www.uah.edu/</td>\n      <td>finaid.uah.edu/</td>\n      <td>0</td>\n      <td>...</td>\n      <td>0.0098</td>\n      <td>0.3154</td>\n      <td>0.4961</td>\n      <td>0.1787</td>\n      <td>0.0105</td>\n      <td>0.3632</td>\n      <td>0.3474</td>\n      <td>0.2789</td>\n      <td>0.717</td>\n      <td>150.129854</td>\n    </tr>\n    <tr>\n      <th>4</th>\n      <td>100724</td>\n      <td>00100500</td>\n      <td>001005</td>\n      <td>Alabama State University</td>\n      <td>Montgomery</td>\n      <td>AL</td>\n      <td>36104-0271</td>\n      <td>www.alasu.edu/</td>\n      <td>www.alasu.edu/cost-aid/tuition-costs/net-price...</td>\n      <td>0</td>\n      <td>...</td>\n      <td>0.0097</td>\n      <td>0.3904</td>\n      <td>0.3061</td>\n      <td>0.2938</td>\n      <td>0.0778</td>\n      <td>0.4444</td>\n      <td>0.1111</td>\n      <td>0.3667</td>\n      <td>0.382</td>\n      <td>169.201972</td>\n    </tr>\n    <tr>\n      <th>...</th>\n      <td>...</td>\n      <td>...</td>\n      <td>...</td>\n      <td>...</td>\n      <td>...</td>\n      <td>...</td>\n      <td>...</td>\n      <td>...</td>\n      <td>...</td>\n      <td>...</td>\n      <td>...</td>\n      <td>...</td>\n      <td>...</td>\n      <td>...</td>\n      <td>...</td>\n      <td>...</td>\n      <td>...</td>\n      <td>...</td>\n      <td>...</td>\n      <td>...</td>\n      <td>...</td>\n    </tr>\n    <tr>\n      <th>6676</th>\n      <td>49576719</td>\n      <td>00332917</td>\n      <td>003329</td>\n      <td>Pennsylvania State University-Penn State Wilke...</td>\n      <td>Lehman</td>\n      <td>PA</td>\n      <td>18627-0217</td>\n      <td>wilkesbarre.psu.edu/</td>\n      <td>None</td>\n      <td>0</td>\n      <td>...</td>\n      <td>None</td>\n      <td>None</td>\n      <td>None</td>\n      <td>None</td>\n      <td>None</td>\n      <td>None</td>\n      <td>None</td>\n      <td>None</td>\n      <td>None</td>\n      <td>670.943595</td>\n    </tr>\n    <tr>\n      <th>6677</th>\n      <td>49576720</td>\n      <td>00332918</td>\n      <td>003329</td>\n      <td>Pennsylvania State University-Penn State York</td>\n      <td>York</td>\n      <td>PA</td>\n      <td>17403-3326</td>\n      <td>york.psu.edu/</td>\n      <td>None</td>\n      <td>0</td>\n      <td>...</td>\n      <td>None</td>\n      <td>None</td>\n      <td>None</td>\n      <td>None</td>\n      <td>None</td>\n      <td>None</td>\n      <td>None</td>\n      <td>None</td>\n      <td>None</td>\n      <td>577.729643</td>\n    </tr>\n    <tr>\n      <th>6678</th>\n      <td>49576721</td>\n      <td>00332919</td>\n      <td>003329</td>\n      <td>Pennsylvania State University-Penn State Great...</td>\n      <td>Malvern</td>\n      <td>PA</td>\n      <td>19355-1488</td>\n      <td>greatvalley.psu.edu/</td>\n      <td>None</td>\n      <td>0</td>\n      <td>...</td>\n      <td>None</td>\n      <td>None</td>\n      <td>None</td>\n      <td>None</td>\n      <td>None</td>\n      <td>None</td>\n      <td>None</td>\n      <td>None</td>\n      <td>None</td>\n      <td>630.970517</td>\n    </tr>\n    <tr>\n      <th>6679</th>\n      <td>49576722</td>\n      <td>00332920</td>\n      <td>003329</td>\n      <td>Pennsylvania State University-Penn State Harri...</td>\n      <td>Middletown</td>\n      <td>PA</td>\n      <td>17057-4846</td>\n      <td>harrisburg.psu.edu/</td>\n      <td>None</td>\n      <td>0</td>\n      <td>...</td>\n      <td>None</td>\n      <td>None</td>\n      <td>None</td>\n      <td>None</td>\n      <td>None</td>\n      <td>None</td>\n      <td>None</td>\n      <td>None</td>\n      <td>None</td>\n      <td>590.104574</td>\n    </tr>\n    <tr>\n      <th>6680</th>\n      <td>49576723</td>\n      <td>00332921</td>\n      <td>003329</td>\n      <td>Pennsylvania State University-Penn State Brand...</td>\n      <td>Media</td>\n      <td>PA</td>\n      <td>19063-5522</td>\n      <td>brandywine.psu.edu/</td>\n      <td>None</td>\n      <td>0</td>\n      <td>...</td>\n      <td>None</td>\n      <td>None</td>\n      <td>None</td>\n      <td>None</td>\n      <td>None</td>\n      <td>None</td>\n      <td>None</td>\n      <td>None</td>\n      <td>None</td>\n      <td>630.528504</td>\n    </tr>\n  </tbody>\n</table>\n<p>6681 rows × 175 columns</p>\n</div>"
     },
     "execution_count": 120,
     "metadata": {},
     "output_type": "execute_result"
    }
   ],
   "source": [
    "test = transform_zip_to_dist_col('30097')\n",
    "test"
   ],
   "metadata": {
    "collapsed": false
   }
  },
  {
   "cell_type": "markdown",
   "source": [
    "Applying filters:"
   ],
   "metadata": {
    "collapsed": false
   }
  },
  {
   "cell_type": "markdown",
   "source": [],
   "metadata": {
    "collapsed": false
   }
  },
  {
   "cell_type": "code",
   "execution_count": null,
   "outputs": [],
   "source": [
    ".set_index('UNITID', inplace=True)"
   ],
   "metadata": {
    "collapsed": false
   }
  },
  {
   "cell_type": "code",
   "execution_count": 121,
   "outputs": [],
   "source": [
    "#decided to call table directly\n",
    "def apply_filters_and_features(featuresDict, filterList, filterValues):\n",
    "    filterquery = \"\"\"\n",
    "    SELECT\n",
    "    UNITID,\n",
    "    {0},\n",
    "    {1},\n",
    "    {2}\n",
    "    FROM test\n",
    "    WHERE {3} <= {4}\n",
    "    AND {5} <= {6}\n",
    "    \"\"\".format(featuresDict['feature1'],featuresDict['feature2'],featuresDict['feature3'], filterList[0], filterValues[filterList[0]],filterList[1],  filterValues[filterList[1]])\n",
    "    return sqldf(filterquery,globals())"
   ],
   "metadata": {
    "collapsed": false
   }
  },
  {
   "cell_type": "code",
   "execution_count": 122,
   "outputs": [],
   "source": [
    "appliedffs = apply_filters_and_features(featuresDict = featuresDict,filterList=filterList,filterValues=filterValues)"
   ],
   "metadata": {
    "collapsed": false
   }
  },
  {
   "cell_type": "code",
   "execution_count": 71,
   "outputs": [],
   "source": [
    "#stuck on getting argument df to work in format function\n",
    "def apply_filters(df, featuresDict, filterList, filterValues):\n",
    "    filterquery = \"\"\"\n",
    "    SELECT\n",
    "    {1},\n",
    "    {2},\n",
    "    {3}\n",
    "    FROM {0}\n",
    "    WHERE {4} <= {5}\n",
    "    AND {6} <= {7}\n",
    "    \"\"\".format(df,featuresDict['feature1'],featuresDict['feature2'],featuresDict['feature3'], filterList[0], filterValues[filterList[0]],filterList[1],  filterValues[filterList[1]])\n",
    "    return sqldf(filterquery,locals())"
   ],
   "metadata": {
    "collapsed": false
   }
  },
  {
   "cell_type": "code",
   "execution_count": 85,
   "outputs": [],
   "source": [
    "#stuck on getting argument df to work in format function\n",
    "def apply_filters(df, featuresDict, filterList, filterValues):\n",
    "    filterquery = \"\"\"\n",
    "    SELECT\n",
    "    {1},\n",
    "    {2},\n",
    "    {3}\n",
    "    FROM {0}\n",
    "    WHERE {4} <= {5}\n",
    "    AND {6} <= {7}\n",
    "    \"\"\".format(df, featuresDict['feature1'],featuresDict['feature2'],featuresDict['feature3'], filterList[0], filterValues[filterList[0]],filterList[1],  filterValues[filterList[1]])\n",
    "    return sqldf(filterquery,globals())"
   ],
   "metadata": {
    "collapsed": false
   }
  },
  {
   "cell_type": "code",
   "execution_count": 65,
   "outputs": [],
   "source": [
    "#stuck on getting argument df to work in format function\n",
    "def apply_filters(df, featuresDict, filterList, filterValues):\n",
    "    filterquery = f\"\"\"\n",
    "    SELECT\n",
    "    {featuresDict['feature1']},\n",
    "    {featuresDict['feature2']},\n",
    "    {featuresDict['feature3']}\n",
    "    FROM {df}\n",
    "    WHERE {filterList[0]} <= {filterValues[filterList[0]]}\n",
    "    AND {filterList[1]} <= {filterValues[filterList[1]]}\n",
    "    \"\"\"\n",
    "    return sqldf(filterquery,globals())"
   ],
   "metadata": {
    "collapsed": false
   }
  },
  {
   "cell_type": "code",
   "execution_count": 66,
   "outputs": [
    {
     "ename": "PandaSQLException",
     "evalue": "(sqlite3.OperationalError) near \"OPEID6\": syntax error\n[SQL: \n    SELECT\n    OMENRUP_PELL_NFT_POOLED_SUPP,\n    OMENRYP_PELL_FT_POOLED_SUPP,\n    OMENRAP_PELL_FT_POOLED_SUPP\n    FROM         UNITID     OPEID  OPEID6   \n0       100654  00100200  001002  \\\n1       100663  00105200  001052   \n2       100690  02503400  025034   \n3       100706  00105500  001055   \n4       100724  00100500  001005   \n...        ...       ...     ...   \n6676  49576719  00332917  003329   \n6677  49576720  00332918  003329   \n6678  49576721  00332919  003329   \n6679  49576722  00332920  003329   \n6680  49576723  00332921  003329   \n\n                                                 INSTNM        CITY STABBR   \n0                              Alabama A & M University      Normal     AL  \\\n1                   University of Alabama at Birmingham  Birmingham     AL   \n2                                    Amridge University  Montgomery     AL   \n3                   University of Alabama in Huntsville  Huntsville     AL   \n4                              Alabama State University  Montgomery     AL   \n...                                                 ...         ...    ...   \n6676  Pennsylvania State University-Penn State Wilke...      Lehman     PA   \n6677      Pennsylvania State University-Penn State York        York     PA   \n6678  Pennsylvania State University-Penn State Great...     Malvern     PA   \n6679  Pennsylvania State University-Penn State Harri...  Middletown     PA   \n6680  Pennsylvania State University-Penn State Brand...       Media     PA   \n\n             ZIP                     INSTURL   \n0          35762               www.aamu.edu/  \\\n1     35294-0110        https://www.uab.edu/   \n2     36117-3553  www.amridgeuniversity.edu/   \n3          35899                www.uah.edu/   \n4     36104-0271              www.alasu.edu/   \n...          ...                         ...   \n6676  18627-0217        wilkesbarre.psu.edu/   \n6677  17403-3326               york.psu.edu/   \n6678  19355-1488        greatvalley.psu.edu/   \n6679  17057-4846         harrisburg.psu.edu/   \n6680  19063-5522         brandywine.psu.edu/   \n\n                                                 NPCURL HCM2  ...   \n0     www.aamu.edu/admissions-aid/tuition-fees/net-p...    0  ...  \\\n1     https://tcc.ruffalonl.com/University of Alabam...    0  ...   \n2                      www2.amridgeuniversity.edu:9091/    0  ...   \n3                                       finaid.uah.edu/    0  ...   \n4     www.alasu.edu/cost-aid/tuition-costs/net-price...    0  ...   \n...                                                 ...  ...  ...   \n6676                                               None    0  ...   \n6677                                               None    0  ...   \n6678                                               None    0  ...   \n6679                                               None    0  ...   \n6680                                               None    0  ...   \n\n     OMENRYP_PELL_FT_POOLED_SUPP OMENRAP_PELL_FT_POOLED_SUPP   \n0                         0.0116                      0.3329  \\\n1                         0.0149                      0.2773   \n2                              0                      0.2798   \n3                         0.0098                      0.3154   \n4                         0.0097                      0.3904   \n...                          ...                         ...   \n6676                        None                        None   \n6677                        None                        None   \n6678                        None                        None   \n6679                        None                        None   \n6680                        None                        None   \n\n     OMAWDP8_PELL_FT_POOLED_SUPP OMENRUP_PELL_FT_POOLED_SUPP   \n0                         0.2958                      0.3597  \\\n1                         0.5243                      0.1835   \n2                         0.2523                      0.4679   \n3                         0.4961                      0.1787   \n4                         0.3061                      0.2938   \n...                          ...                         ...   \n6676                        None                        None   \n6677                        None                        None   \n6678                        None                        None   \n6679                        None                        None   \n6680                        None                        None   \n\n     OMENRYP_PELL_PT_POOLED_SUPP OMENRAP_PELL_PT_POOLED_SUPP   \n0                         0.0056                      0.3889  \\\n1                         0.0211                       0.277   \n2                              0                       0.186   \n3                         0.0105                      0.3632   \n4                         0.0778                      0.4444   \n...                          ...                         ...   \n6676                        None                        None   \n6677                        None                        None   \n6678                        None                        None   \n6679                        None                        None   \n6680                        None                        None   \n\n     OMAWDP8_PELL_PT_POOLED_SUPP OMENRUP_PELL_PT_POOLED_SUPP   \n0                         0.1833                      0.4222  \\\n1                         0.4354                      0.2665   \n2                         0.4186                      0.3953   \n3                         0.3474                      0.2789   \n4                         0.1111                      0.3667   \n...                          ...                         ...   \n6676                        None                        None   \n6677                        None                        None   \n6678                        None                        None   \n6679                        None                        None   \n6680                        None                        None   \n\n     GT_THRESHOLD_P6_SUPP  dist_miles  \n0                  0.4606  147.593425  \n1                   0.659  156.540810  \n2                  0.5132  164.191256  \n3                   0.717  150.129854  \n4                   0.382  169.201972  \n...                   ...         ...  \n6676                 None  670.943595  \n6677                 None  577.729643  \n6678                 None  630.970517  \n6679                 None  590.104574  \n6680                 None  630.528504  \n\n[6681 rows x 175 columns]\n    WHERE SATMT25 <= 586\n    AND SATVR25 <= 789\n    ]\n(Background on this error at: https://sqlalche.me/e/20/e3q8)",
     "output_type": "error",
     "traceback": [
      "\u001B[1;31m---------------------------------------------------------------------------\u001B[0m",
      "\u001B[1;31mOperationalError\u001B[0m                          Traceback (most recent call last)",
      "File \u001B[1;32m~\\PycharmProjects\\CSE6242Project\\venv\\Lib\\site-packages\\sqlalchemy\\engine\\base.py:1964\u001B[0m, in \u001B[0;36mConnection._exec_single_context\u001B[1;34m(self, dialect, context, statement, parameters)\u001B[0m\n\u001B[0;32m   1963\u001B[0m     \u001B[38;5;28;01mif\u001B[39;00m \u001B[38;5;129;01mnot\u001B[39;00m evt_handled:\n\u001B[1;32m-> 1964\u001B[0m         \u001B[38;5;28;43mself\u001B[39;49m\u001B[38;5;241;43m.\u001B[39;49m\u001B[43mdialect\u001B[49m\u001B[38;5;241;43m.\u001B[39;49m\u001B[43mdo_execute\u001B[49m\u001B[43m(\u001B[49m\n\u001B[0;32m   1965\u001B[0m \u001B[43m            \u001B[49m\u001B[43mcursor\u001B[49m\u001B[43m,\u001B[49m\u001B[43m \u001B[49m\u001B[43mstr_statement\u001B[49m\u001B[43m,\u001B[49m\u001B[43m \u001B[49m\u001B[43meffective_parameters\u001B[49m\u001B[43m,\u001B[49m\u001B[43m \u001B[49m\u001B[43mcontext\u001B[49m\n\u001B[0;32m   1966\u001B[0m \u001B[43m        \u001B[49m\u001B[43m)\u001B[49m\n\u001B[0;32m   1968\u001B[0m \u001B[38;5;28;01mif\u001B[39;00m \u001B[38;5;28mself\u001B[39m\u001B[38;5;241m.\u001B[39m_has_events \u001B[38;5;129;01mor\u001B[39;00m \u001B[38;5;28mself\u001B[39m\u001B[38;5;241m.\u001B[39mengine\u001B[38;5;241m.\u001B[39m_has_events:\n",
      "File \u001B[1;32m~\\PycharmProjects\\CSE6242Project\\venv\\Lib\\site-packages\\sqlalchemy\\engine\\default.py:748\u001B[0m, in \u001B[0;36mDefaultDialect.do_execute\u001B[1;34m(self, cursor, statement, parameters, context)\u001B[0m\n\u001B[0;32m    747\u001B[0m \u001B[38;5;28;01mdef\u001B[39;00m \u001B[38;5;21mdo_execute\u001B[39m(\u001B[38;5;28mself\u001B[39m, cursor, statement, parameters, context\u001B[38;5;241m=\u001B[39m\u001B[38;5;28;01mNone\u001B[39;00m):\n\u001B[1;32m--> 748\u001B[0m     cursor\u001B[38;5;241m.\u001B[39mexecute(statement, parameters)\n",
      "\u001B[1;31mOperationalError\u001B[0m: near \"OPEID6\": syntax error",
      "\nThe above exception was the direct cause of the following exception:\n",
      "\u001B[1;31mOperationalError\u001B[0m                          Traceback (most recent call last)",
      "File \u001B[1;32m~\\PycharmProjects\\CSE6242Project\\venv\\Lib\\site-packages\\pandasql\\sqldf.py:61\u001B[0m, in \u001B[0;36mPandaSQL.__call__\u001B[1;34m(self, query, env)\u001B[0m\n\u001B[0;32m     60\u001B[0m \u001B[38;5;28;01mtry\u001B[39;00m:\n\u001B[1;32m---> 61\u001B[0m     result \u001B[38;5;241m=\u001B[39m \u001B[43mread_sql\u001B[49m\u001B[43m(\u001B[49m\u001B[43mquery\u001B[49m\u001B[43m,\u001B[49m\u001B[43m \u001B[49m\u001B[43mconn\u001B[49m\u001B[43m)\u001B[49m\n\u001B[0;32m     62\u001B[0m \u001B[38;5;28;01mexcept\u001B[39;00m DatabaseError \u001B[38;5;28;01mas\u001B[39;00m ex:\n",
      "File \u001B[1;32m~\\PycharmProjects\\CSE6242Project\\venv\\Lib\\site-packages\\pandas\\io\\sql.py:661\u001B[0m, in \u001B[0;36mread_sql\u001B[1;34m(sql, con, index_col, coerce_float, params, parse_dates, columns, chunksize, dtype_backend, dtype)\u001B[0m\n\u001B[0;32m    660\u001B[0m \u001B[38;5;28;01melse\u001B[39;00m:\n\u001B[1;32m--> 661\u001B[0m     \u001B[38;5;28;01mreturn\u001B[39;00m \u001B[43mpandas_sql\u001B[49m\u001B[38;5;241;43m.\u001B[39;49m\u001B[43mread_query\u001B[49m\u001B[43m(\u001B[49m\n\u001B[0;32m    662\u001B[0m \u001B[43m        \u001B[49m\u001B[43msql\u001B[49m\u001B[43m,\u001B[49m\n\u001B[0;32m    663\u001B[0m \u001B[43m        \u001B[49m\u001B[43mindex_col\u001B[49m\u001B[38;5;241;43m=\u001B[39;49m\u001B[43mindex_col\u001B[49m\u001B[43m,\u001B[49m\n\u001B[0;32m    664\u001B[0m \u001B[43m        \u001B[49m\u001B[43mparams\u001B[49m\u001B[38;5;241;43m=\u001B[39;49m\u001B[43mparams\u001B[49m\u001B[43m,\u001B[49m\n\u001B[0;32m    665\u001B[0m \u001B[43m        \u001B[49m\u001B[43mcoerce_float\u001B[49m\u001B[38;5;241;43m=\u001B[39;49m\u001B[43mcoerce_float\u001B[49m\u001B[43m,\u001B[49m\n\u001B[0;32m    666\u001B[0m \u001B[43m        \u001B[49m\u001B[43mparse_dates\u001B[49m\u001B[38;5;241;43m=\u001B[39;49m\u001B[43mparse_dates\u001B[49m\u001B[43m,\u001B[49m\n\u001B[0;32m    667\u001B[0m \u001B[43m        \u001B[49m\u001B[43mchunksize\u001B[49m\u001B[38;5;241;43m=\u001B[39;49m\u001B[43mchunksize\u001B[49m\u001B[43m,\u001B[49m\n\u001B[0;32m    668\u001B[0m \u001B[43m        \u001B[49m\u001B[43mdtype_backend\u001B[49m\u001B[38;5;241;43m=\u001B[39;49m\u001B[43mdtype_backend\u001B[49m\u001B[43m,\u001B[49m\n\u001B[0;32m    669\u001B[0m \u001B[43m        \u001B[49m\u001B[43mdtype\u001B[49m\u001B[38;5;241;43m=\u001B[39;49m\u001B[43mdtype\u001B[49m\u001B[43m,\u001B[49m\n\u001B[0;32m    670\u001B[0m \u001B[43m    \u001B[49m\u001B[43m)\u001B[49m\n",
      "File \u001B[1;32m~\\PycharmProjects\\CSE6242Project\\venv\\Lib\\site-packages\\pandas\\io\\sql.py:1736\u001B[0m, in \u001B[0;36mSQLDatabase.read_query\u001B[1;34m(self, sql, index_col, coerce_float, parse_dates, params, chunksize, dtype, dtype_backend)\u001B[0m\n\u001B[0;32m   1690\u001B[0m \u001B[38;5;250m\u001B[39m\u001B[38;5;124;03m\"\"\"\u001B[39;00m\n\u001B[0;32m   1691\u001B[0m \u001B[38;5;124;03mRead SQL query into a DataFrame.\u001B[39;00m\n\u001B[0;32m   1692\u001B[0m \n\u001B[1;32m   (...)\u001B[0m\n\u001B[0;32m   1734\u001B[0m \n\u001B[0;32m   1735\u001B[0m \u001B[38;5;124;03m\"\"\"\u001B[39;00m\n\u001B[1;32m-> 1736\u001B[0m result \u001B[38;5;241m=\u001B[39m \u001B[38;5;28;43mself\u001B[39;49m\u001B[38;5;241;43m.\u001B[39;49m\u001B[43mexecute\u001B[49m\u001B[43m(\u001B[49m\u001B[43msql\u001B[49m\u001B[43m,\u001B[49m\u001B[43m \u001B[49m\u001B[43mparams\u001B[49m\u001B[43m)\u001B[49m\n\u001B[0;32m   1737\u001B[0m columns \u001B[38;5;241m=\u001B[39m result\u001B[38;5;241m.\u001B[39mkeys()\n",
      "File \u001B[1;32m~\\PycharmProjects\\CSE6242Project\\venv\\Lib\\site-packages\\pandas\\io\\sql.py:1560\u001B[0m, in \u001B[0;36mSQLDatabase.execute\u001B[1;34m(self, sql, params)\u001B[0m\n\u001B[0;32m   1559\u001B[0m \u001B[38;5;28;01mif\u001B[39;00m \u001B[38;5;28misinstance\u001B[39m(sql, \u001B[38;5;28mstr\u001B[39m):\n\u001B[1;32m-> 1560\u001B[0m     \u001B[38;5;28;01mreturn\u001B[39;00m \u001B[38;5;28;43mself\u001B[39;49m\u001B[38;5;241;43m.\u001B[39;49m\u001B[43mcon\u001B[49m\u001B[38;5;241;43m.\u001B[39;49m\u001B[43mexec_driver_sql\u001B[49m\u001B[43m(\u001B[49m\u001B[43msql\u001B[49m\u001B[43m,\u001B[49m\u001B[43m \u001B[49m\u001B[38;5;241;43m*\u001B[39;49m\u001B[43margs\u001B[49m\u001B[43m)\u001B[49m\n\u001B[0;32m   1561\u001B[0m \u001B[38;5;28;01mreturn\u001B[39;00m \u001B[38;5;28mself\u001B[39m\u001B[38;5;241m.\u001B[39mcon\u001B[38;5;241m.\u001B[39mexecute(sql, \u001B[38;5;241m*\u001B[39margs)\n",
      "File \u001B[1;32m~\\PycharmProjects\\CSE6242Project\\venv\\Lib\\site-packages\\sqlalchemy\\engine\\base.py:1772\u001B[0m, in \u001B[0;36mConnection.exec_driver_sql\u001B[1;34m(self, statement, parameters, execution_options)\u001B[0m\n\u001B[0;32m   1771\u001B[0m dialect \u001B[38;5;241m=\u001B[39m \u001B[38;5;28mself\u001B[39m\u001B[38;5;241m.\u001B[39mdialect\n\u001B[1;32m-> 1772\u001B[0m ret \u001B[38;5;241m=\u001B[39m \u001B[38;5;28;43mself\u001B[39;49m\u001B[38;5;241;43m.\u001B[39;49m\u001B[43m_execute_context\u001B[49m\u001B[43m(\u001B[49m\n\u001B[0;32m   1773\u001B[0m \u001B[43m    \u001B[49m\u001B[43mdialect\u001B[49m\u001B[43m,\u001B[49m\n\u001B[0;32m   1774\u001B[0m \u001B[43m    \u001B[49m\u001B[43mdialect\u001B[49m\u001B[38;5;241;43m.\u001B[39;49m\u001B[43mexecution_ctx_cls\u001B[49m\u001B[38;5;241;43m.\u001B[39;49m\u001B[43m_init_statement\u001B[49m\u001B[43m,\u001B[49m\n\u001B[0;32m   1775\u001B[0m \u001B[43m    \u001B[49m\u001B[43mstatement\u001B[49m\u001B[43m,\u001B[49m\n\u001B[0;32m   1776\u001B[0m \u001B[43m    \u001B[49m\u001B[38;5;28;43;01mNone\u001B[39;49;00m\u001B[43m,\u001B[49m\n\u001B[0;32m   1777\u001B[0m \u001B[43m    \u001B[49m\u001B[43mexecution_options\u001B[49m\u001B[43m,\u001B[49m\n\u001B[0;32m   1778\u001B[0m \u001B[43m    \u001B[49m\u001B[43mstatement\u001B[49m\u001B[43m,\u001B[49m\n\u001B[0;32m   1779\u001B[0m \u001B[43m    \u001B[49m\u001B[43mdistilled_parameters\u001B[49m\u001B[43m,\u001B[49m\n\u001B[0;32m   1780\u001B[0m \u001B[43m\u001B[49m\u001B[43m)\u001B[49m\n\u001B[0;32m   1782\u001B[0m \u001B[38;5;28;01mreturn\u001B[39;00m ret\n",
      "File \u001B[1;32m~\\PycharmProjects\\CSE6242Project\\venv\\Lib\\site-packages\\sqlalchemy\\engine\\base.py:1842\u001B[0m, in \u001B[0;36mConnection._execute_context\u001B[1;34m(self, dialect, constructor, statement, parameters, execution_options, *args, **kw)\u001B[0m\n\u001B[0;32m   1841\u001B[0m \u001B[38;5;28;01melse\u001B[39;00m:\n\u001B[1;32m-> 1842\u001B[0m     \u001B[38;5;28;01mreturn\u001B[39;00m \u001B[38;5;28;43mself\u001B[39;49m\u001B[38;5;241;43m.\u001B[39;49m\u001B[43m_exec_single_context\u001B[49m\u001B[43m(\u001B[49m\n\u001B[0;32m   1843\u001B[0m \u001B[43m        \u001B[49m\u001B[43mdialect\u001B[49m\u001B[43m,\u001B[49m\u001B[43m \u001B[49m\u001B[43mcontext\u001B[49m\u001B[43m,\u001B[49m\u001B[43m \u001B[49m\u001B[43mstatement\u001B[49m\u001B[43m,\u001B[49m\u001B[43m \u001B[49m\u001B[43mparameters\u001B[49m\n\u001B[0;32m   1844\u001B[0m \u001B[43m    \u001B[49m\u001B[43m)\u001B[49m\n",
      "File \u001B[1;32m~\\PycharmProjects\\CSE6242Project\\venv\\Lib\\site-packages\\sqlalchemy\\engine\\base.py:1983\u001B[0m, in \u001B[0;36mConnection._exec_single_context\u001B[1;34m(self, dialect, context, statement, parameters)\u001B[0m\n\u001B[0;32m   1982\u001B[0m \u001B[38;5;28;01mexcept\u001B[39;00m \u001B[38;5;167;01mBaseException\u001B[39;00m \u001B[38;5;28;01mas\u001B[39;00m e:\n\u001B[1;32m-> 1983\u001B[0m     \u001B[38;5;28;43mself\u001B[39;49m\u001B[38;5;241;43m.\u001B[39;49m\u001B[43m_handle_dbapi_exception\u001B[49m\u001B[43m(\u001B[49m\n\u001B[0;32m   1984\u001B[0m \u001B[43m        \u001B[49m\u001B[43me\u001B[49m\u001B[43m,\u001B[49m\u001B[43m \u001B[49m\u001B[43mstr_statement\u001B[49m\u001B[43m,\u001B[49m\u001B[43m \u001B[49m\u001B[43meffective_parameters\u001B[49m\u001B[43m,\u001B[49m\u001B[43m \u001B[49m\u001B[43mcursor\u001B[49m\u001B[43m,\u001B[49m\u001B[43m \u001B[49m\u001B[43mcontext\u001B[49m\n\u001B[0;32m   1985\u001B[0m \u001B[43m    \u001B[49m\u001B[43m)\u001B[49m\n\u001B[0;32m   1987\u001B[0m \u001B[38;5;28;01mreturn\u001B[39;00m result\n",
      "File \u001B[1;32m~\\PycharmProjects\\CSE6242Project\\venv\\Lib\\site-packages\\sqlalchemy\\engine\\base.py:2326\u001B[0m, in \u001B[0;36mConnection._handle_dbapi_exception\u001B[1;34m(self, e, statement, parameters, cursor, context, is_sub_exec)\u001B[0m\n\u001B[0;32m   2325\u001B[0m     \u001B[38;5;28;01massert\u001B[39;00m sqlalchemy_exception \u001B[38;5;129;01mis\u001B[39;00m \u001B[38;5;129;01mnot\u001B[39;00m \u001B[38;5;28;01mNone\u001B[39;00m\n\u001B[1;32m-> 2326\u001B[0m     \u001B[38;5;28;01mraise\u001B[39;00m sqlalchemy_exception\u001B[38;5;241m.\u001B[39mwith_traceback(exc_info[\u001B[38;5;241m2\u001B[39m]) \u001B[38;5;28;01mfrom\u001B[39;00m \u001B[38;5;21;01me\u001B[39;00m\n\u001B[0;32m   2327\u001B[0m \u001B[38;5;28;01melse\u001B[39;00m:\n",
      "File \u001B[1;32m~\\PycharmProjects\\CSE6242Project\\venv\\Lib\\site-packages\\sqlalchemy\\engine\\base.py:1964\u001B[0m, in \u001B[0;36mConnection._exec_single_context\u001B[1;34m(self, dialect, context, statement, parameters)\u001B[0m\n\u001B[0;32m   1963\u001B[0m     \u001B[38;5;28;01mif\u001B[39;00m \u001B[38;5;129;01mnot\u001B[39;00m evt_handled:\n\u001B[1;32m-> 1964\u001B[0m         \u001B[38;5;28;43mself\u001B[39;49m\u001B[38;5;241;43m.\u001B[39;49m\u001B[43mdialect\u001B[49m\u001B[38;5;241;43m.\u001B[39;49m\u001B[43mdo_execute\u001B[49m\u001B[43m(\u001B[49m\n\u001B[0;32m   1965\u001B[0m \u001B[43m            \u001B[49m\u001B[43mcursor\u001B[49m\u001B[43m,\u001B[49m\u001B[43m \u001B[49m\u001B[43mstr_statement\u001B[49m\u001B[43m,\u001B[49m\u001B[43m \u001B[49m\u001B[43meffective_parameters\u001B[49m\u001B[43m,\u001B[49m\u001B[43m \u001B[49m\u001B[43mcontext\u001B[49m\n\u001B[0;32m   1966\u001B[0m \u001B[43m        \u001B[49m\u001B[43m)\u001B[49m\n\u001B[0;32m   1968\u001B[0m \u001B[38;5;28;01mif\u001B[39;00m \u001B[38;5;28mself\u001B[39m\u001B[38;5;241m.\u001B[39m_has_events \u001B[38;5;129;01mor\u001B[39;00m \u001B[38;5;28mself\u001B[39m\u001B[38;5;241m.\u001B[39mengine\u001B[38;5;241m.\u001B[39m_has_events:\n",
      "File \u001B[1;32m~\\PycharmProjects\\CSE6242Project\\venv\\Lib\\site-packages\\sqlalchemy\\engine\\default.py:748\u001B[0m, in \u001B[0;36mDefaultDialect.do_execute\u001B[1;34m(self, cursor, statement, parameters, context)\u001B[0m\n\u001B[0;32m    747\u001B[0m \u001B[38;5;28;01mdef\u001B[39;00m \u001B[38;5;21mdo_execute\u001B[39m(\u001B[38;5;28mself\u001B[39m, cursor, statement, parameters, context\u001B[38;5;241m=\u001B[39m\u001B[38;5;28;01mNone\u001B[39;00m):\n\u001B[1;32m--> 748\u001B[0m     cursor\u001B[38;5;241m.\u001B[39mexecute(statement, parameters)\n",
      "\u001B[1;31mOperationalError\u001B[0m: (sqlite3.OperationalError) near \"OPEID6\": syntax error\n[SQL: \n    SELECT\n    OMENRUP_PELL_NFT_POOLED_SUPP,\n    OMENRYP_PELL_FT_POOLED_SUPP,\n    OMENRAP_PELL_FT_POOLED_SUPP\n    FROM         UNITID     OPEID  OPEID6   \n0       100654  00100200  001002  \\\n1       100663  00105200  001052   \n2       100690  02503400  025034   \n3       100706  00105500  001055   \n4       100724  00100500  001005   \n...        ...       ...     ...   \n6676  49576719  00332917  003329   \n6677  49576720  00332918  003329   \n6678  49576721  00332919  003329   \n6679  49576722  00332920  003329   \n6680  49576723  00332921  003329   \n\n                                                 INSTNM        CITY STABBR   \n0                              Alabama A & M University      Normal     AL  \\\n1                   University of Alabama at Birmingham  Birmingham     AL   \n2                                    Amridge University  Montgomery     AL   \n3                   University of Alabama in Huntsville  Huntsville     AL   \n4                              Alabama State University  Montgomery     AL   \n...                                                 ...         ...    ...   \n6676  Pennsylvania State University-Penn State Wilke...      Lehman     PA   \n6677      Pennsylvania State University-Penn State York        York     PA   \n6678  Pennsylvania State University-Penn State Great...     Malvern     PA   \n6679  Pennsylvania State University-Penn State Harri...  Middletown     PA   \n6680  Pennsylvania State University-Penn State Brand...       Media     PA   \n\n             ZIP                     INSTURL   \n0          35762               www.aamu.edu/  \\\n1     35294-0110        https://www.uab.edu/   \n2     36117-3553  www.amridgeuniversity.edu/   \n3          35899                www.uah.edu/   \n4     36104-0271              www.alasu.edu/   \n...          ...                         ...   \n6676  18627-0217        wilkesbarre.psu.edu/   \n6677  17403-3326               york.psu.edu/   \n6678  19355-1488        greatvalley.psu.edu/   \n6679  17057-4846         harrisburg.psu.edu/   \n6680  19063-5522         brandywine.psu.edu/   \n\n                                                 NPCURL HCM2  ...   \n0     www.aamu.edu/admissions-aid/tuition-fees/net-p...    0  ...  \\\n1     https://tcc.ruffalonl.com/University of Alabam...    0  ...   \n2                      www2.amridgeuniversity.edu:9091/    0  ...   \n3                                       finaid.uah.edu/    0  ...   \n4     www.alasu.edu/cost-aid/tuition-costs/net-price...    0  ...   \n...                                                 ...  ...  ...   \n6676                                               None    0  ...   \n6677                                               None    0  ...   \n6678                                               None    0  ...   \n6679                                               None    0  ...   \n6680                                               None    0  ...   \n\n     OMENRYP_PELL_FT_POOLED_SUPP OMENRAP_PELL_FT_POOLED_SUPP   \n0                         0.0116                      0.3329  \\\n1                         0.0149                      0.2773   \n2                              0                      0.2798   \n3                         0.0098                      0.3154   \n4                         0.0097                      0.3904   \n...                          ...                         ...   \n6676                        None                        None   \n6677                        None                        None   \n6678                        None                        None   \n6679                        None                        None   \n6680                        None                        None   \n\n     OMAWDP8_PELL_FT_POOLED_SUPP OMENRUP_PELL_FT_POOLED_SUPP   \n0                         0.2958                      0.3597  \\\n1                         0.5243                      0.1835   \n2                         0.2523                      0.4679   \n3                         0.4961                      0.1787   \n4                         0.3061                      0.2938   \n...                          ...                         ...   \n6676                        None                        None   \n6677                        None                        None   \n6678                        None                        None   \n6679                        None                        None   \n6680                        None                        None   \n\n     OMENRYP_PELL_PT_POOLED_SUPP OMENRAP_PELL_PT_POOLED_SUPP   \n0                         0.0056                      0.3889  \\\n1                         0.0211                       0.277   \n2                              0                       0.186   \n3                         0.0105                      0.3632   \n4                         0.0778                      0.4444   \n...                          ...                         ...   \n6676                        None                        None   \n6677                        None                        None   \n6678                        None                        None   \n6679                        None                        None   \n6680                        None                        None   \n\n     OMAWDP8_PELL_PT_POOLED_SUPP OMENRUP_PELL_PT_POOLED_SUPP   \n0                         0.1833                      0.4222  \\\n1                         0.4354                      0.2665   \n2                         0.4186                      0.3953   \n3                         0.3474                      0.2789   \n4                         0.1111                      0.3667   \n...                          ...                         ...   \n6676                        None                        None   \n6677                        None                        None   \n6678                        None                        None   \n6679                        None                        None   \n6680                        None                        None   \n\n     GT_THRESHOLD_P6_SUPP  dist_miles  \n0                  0.4606  147.593425  \n1                   0.659  156.540810  \n2                  0.5132  164.191256  \n3                   0.717  150.129854  \n4                   0.382  169.201972  \n...                   ...         ...  \n6676                 None  670.943595  \n6677                 None  577.729643  \n6678                 None  630.970517  \n6679                 None  590.104574  \n6680                 None  630.528504  \n\n[6681 rows x 175 columns]\n    WHERE SATMT25 <= 586\n    AND SATVR25 <= 789\n    ]\n(Background on this error at: https://sqlalche.me/e/20/e3q8)",
      "\nDuring handling of the above exception, another exception occurred:\n",
      "\u001B[1;31mPandaSQLException\u001B[0m                         Traceback (most recent call last)",
      "Cell \u001B[1;32mIn[66], line 1\u001B[0m\n\u001B[1;32m----> 1\u001B[0m appliedfilters \u001B[38;5;241m=\u001B[39m \u001B[43mapply_filters\u001B[49m\u001B[43m(\u001B[49m\u001B[43mdf\u001B[49m\u001B[43m \u001B[49m\u001B[38;5;241;43m=\u001B[39;49m\u001B[43m \u001B[49m\u001B[43mtest\u001B[49m\u001B[43m,\u001B[49m\u001B[43m \u001B[49m\u001B[43mfeaturesDict\u001B[49m\u001B[43m \u001B[49m\u001B[38;5;241;43m=\u001B[39;49m\u001B[43m \u001B[49m\u001B[43mfeaturesDict\u001B[49m\u001B[43m,\u001B[49m\u001B[43mfilterList\u001B[49m\u001B[38;5;241;43m=\u001B[39;49m\u001B[43mfilterList\u001B[49m\u001B[43m,\u001B[49m\u001B[43mfilterValues\u001B[49m\u001B[38;5;241;43m=\u001B[39;49m\u001B[43mfilterValues\u001B[49m\u001B[43m)\u001B[49m\n\u001B[0;32m      2\u001B[0m appliedfilters\n",
      "Cell \u001B[1;32mIn[65], line 12\u001B[0m, in \u001B[0;36mapply_filters\u001B[1;34m(df, featuresDict, filterList, filterValues)\u001B[0m\n\u001B[0;32m      2\u001B[0m \u001B[38;5;28;01mdef\u001B[39;00m \u001B[38;5;21mapply_filters\u001B[39m(df, featuresDict, filterList, filterValues):\n\u001B[0;32m      3\u001B[0m     filterquery \u001B[38;5;241m=\u001B[39m \u001B[38;5;124mf\u001B[39m\u001B[38;5;124m\"\"\"\u001B[39m\n\u001B[0;32m      4\u001B[0m \u001B[38;5;124m    SELECT\u001B[39m\n\u001B[0;32m      5\u001B[0m \u001B[38;5;124m    \u001B[39m\u001B[38;5;132;01m{\u001B[39;00mfeaturesDict[\u001B[38;5;124m'\u001B[39m\u001B[38;5;124mfeature1\u001B[39m\u001B[38;5;124m'\u001B[39m]\u001B[38;5;132;01m}\u001B[39;00m\u001B[38;5;124m,\u001B[39m\n\u001B[1;32m   (...)\u001B[0m\n\u001B[0;32m     10\u001B[0m \u001B[38;5;124m    AND \u001B[39m\u001B[38;5;132;01m{\u001B[39;00mfilterList[\u001B[38;5;241m1\u001B[39m]\u001B[38;5;132;01m}\u001B[39;00m\u001B[38;5;124m <= \u001B[39m\u001B[38;5;132;01m{\u001B[39;00mfilterValues[filterList[\u001B[38;5;241m1\u001B[39m]]\u001B[38;5;132;01m}\u001B[39;00m\n\u001B[0;32m     11\u001B[0m \u001B[38;5;124m    \u001B[39m\u001B[38;5;124m\"\"\"\u001B[39m\n\u001B[1;32m---> 12\u001B[0m     \u001B[38;5;28;01mreturn\u001B[39;00m \u001B[43msqldf\u001B[49m\u001B[43m(\u001B[49m\u001B[43mfilterquery\u001B[49m\u001B[43m,\u001B[49m\u001B[38;5;28;43mglobals\u001B[39;49m\u001B[43m(\u001B[49m\u001B[43m)\u001B[49m\u001B[43m)\u001B[49m\n",
      "File \u001B[1;32m~\\PycharmProjects\\CSE6242Project\\venv\\Lib\\site-packages\\pandasql\\sqldf.py:156\u001B[0m, in \u001B[0;36msqldf\u001B[1;34m(query, env, db_uri)\u001B[0m\n\u001B[0;32m    124\u001B[0m \u001B[38;5;28;01mdef\u001B[39;00m \u001B[38;5;21msqldf\u001B[39m(query, env\u001B[38;5;241m=\u001B[39m\u001B[38;5;28;01mNone\u001B[39;00m, db_uri\u001B[38;5;241m=\u001B[39m\u001B[38;5;124m'\u001B[39m\u001B[38;5;124msqlite:///:memory:\u001B[39m\u001B[38;5;124m'\u001B[39m):\n\u001B[0;32m    125\u001B[0m \u001B[38;5;250m    \u001B[39m\u001B[38;5;124;03m\"\"\"\u001B[39;00m\n\u001B[0;32m    126\u001B[0m \u001B[38;5;124;03m    Query pandas data frames using sql syntax\u001B[39;00m\n\u001B[0;32m    127\u001B[0m \u001B[38;5;124;03m    This function is meant for backward compatibility only. New users are encouraged to use the PandaSQL class.\u001B[39;00m\n\u001B[1;32m   (...)\u001B[0m\n\u001B[0;32m    154\u001B[0m \u001B[38;5;124;03m    >>> sqldf(\"select avg(x) from df;\", locals())\u001B[39;00m\n\u001B[0;32m    155\u001B[0m \u001B[38;5;124;03m    \"\"\"\u001B[39;00m\n\u001B[1;32m--> 156\u001B[0m     \u001B[38;5;28;01mreturn\u001B[39;00m \u001B[43mPandaSQL\u001B[49m\u001B[43m(\u001B[49m\u001B[43mdb_uri\u001B[49m\u001B[43m)\u001B[49m\u001B[43m(\u001B[49m\u001B[43mquery\u001B[49m\u001B[43m,\u001B[49m\u001B[43m \u001B[49m\u001B[43menv\u001B[49m\u001B[43m)\u001B[49m\n",
      "File \u001B[1;32m~\\PycharmProjects\\CSE6242Project\\venv\\Lib\\site-packages\\pandasql\\sqldf.py:63\u001B[0m, in \u001B[0;36mPandaSQL.__call__\u001B[1;34m(self, query, env)\u001B[0m\n\u001B[0;32m     61\u001B[0m     result \u001B[38;5;241m=\u001B[39m read_sql(query, conn)\n\u001B[0;32m     62\u001B[0m \u001B[38;5;28;01mexcept\u001B[39;00m DatabaseError \u001B[38;5;28;01mas\u001B[39;00m ex:\n\u001B[1;32m---> 63\u001B[0m     \u001B[38;5;28;01mraise\u001B[39;00m PandaSQLException(ex)\n\u001B[0;32m     64\u001B[0m \u001B[38;5;28;01mexcept\u001B[39;00m ResourceClosedError:\n\u001B[0;32m     65\u001B[0m     \u001B[38;5;66;03m# query returns nothing\u001B[39;00m\n\u001B[0;32m     66\u001B[0m     result \u001B[38;5;241m=\u001B[39m \u001B[38;5;28;01mNone\u001B[39;00m\n",
      "\u001B[1;31mPandaSQLException\u001B[0m: (sqlite3.OperationalError) near \"OPEID6\": syntax error\n[SQL: \n    SELECT\n    OMENRUP_PELL_NFT_POOLED_SUPP,\n    OMENRYP_PELL_FT_POOLED_SUPP,\n    OMENRAP_PELL_FT_POOLED_SUPP\n    FROM         UNITID     OPEID  OPEID6   \n0       100654  00100200  001002  \\\n1       100663  00105200  001052   \n2       100690  02503400  025034   \n3       100706  00105500  001055   \n4       100724  00100500  001005   \n...        ...       ...     ...   \n6676  49576719  00332917  003329   \n6677  49576720  00332918  003329   \n6678  49576721  00332919  003329   \n6679  49576722  00332920  003329   \n6680  49576723  00332921  003329   \n\n                                                 INSTNM        CITY STABBR   \n0                              Alabama A & M University      Normal     AL  \\\n1                   University of Alabama at Birmingham  Birmingham     AL   \n2                                    Amridge University  Montgomery     AL   \n3                   University of Alabama in Huntsville  Huntsville     AL   \n4                              Alabama State University  Montgomery     AL   \n...                                                 ...         ...    ...   \n6676  Pennsylvania State University-Penn State Wilke...      Lehman     PA   \n6677      Pennsylvania State University-Penn State York        York     PA   \n6678  Pennsylvania State University-Penn State Great...     Malvern     PA   \n6679  Pennsylvania State University-Penn State Harri...  Middletown     PA   \n6680  Pennsylvania State University-Penn State Brand...       Media     PA   \n\n             ZIP                     INSTURL   \n0          35762               www.aamu.edu/  \\\n1     35294-0110        https://www.uab.edu/   \n2     36117-3553  www.amridgeuniversity.edu/   \n3          35899                www.uah.edu/   \n4     36104-0271              www.alasu.edu/   \n...          ...                         ...   \n6676  18627-0217        wilkesbarre.psu.edu/   \n6677  17403-3326               york.psu.edu/   \n6678  19355-1488        greatvalley.psu.edu/   \n6679  17057-4846         harrisburg.psu.edu/   \n6680  19063-5522         brandywine.psu.edu/   \n\n                                                 NPCURL HCM2  ...   \n0     www.aamu.edu/admissions-aid/tuition-fees/net-p...    0  ...  \\\n1     https://tcc.ruffalonl.com/University of Alabam...    0  ...   \n2                      www2.amridgeuniversity.edu:9091/    0  ...   \n3                                       finaid.uah.edu/    0  ...   \n4     www.alasu.edu/cost-aid/tuition-costs/net-price...    0  ...   \n...                                                 ...  ...  ...   \n6676                                               None    0  ...   \n6677                                               None    0  ...   \n6678                                               None    0  ...   \n6679                                               None    0  ...   \n6680                                               None    0  ...   \n\n     OMENRYP_PELL_FT_POOLED_SUPP OMENRAP_PELL_FT_POOLED_SUPP   \n0                         0.0116                      0.3329  \\\n1                         0.0149                      0.2773   \n2                              0                      0.2798   \n3                         0.0098                      0.3154   \n4                         0.0097                      0.3904   \n...                          ...                         ...   \n6676                        None                        None   \n6677                        None                        None   \n6678                        None                        None   \n6679                        None                        None   \n6680                        None                        None   \n\n     OMAWDP8_PELL_FT_POOLED_SUPP OMENRUP_PELL_FT_POOLED_SUPP   \n0                         0.2958                      0.3597  \\\n1                         0.5243                      0.1835   \n2                         0.2523                      0.4679   \n3                         0.4961                      0.1787   \n4                         0.3061                      0.2938   \n...                          ...                         ...   \n6676                        None                        None   \n6677                        None                        None   \n6678                        None                        None   \n6679                        None                        None   \n6680                        None                        None   \n\n     OMENRYP_PELL_PT_POOLED_SUPP OMENRAP_PELL_PT_POOLED_SUPP   \n0                         0.0056                      0.3889  \\\n1                         0.0211                       0.277   \n2                              0                       0.186   \n3                         0.0105                      0.3632   \n4                         0.0778                      0.4444   \n...                          ...                         ...   \n6676                        None                        None   \n6677                        None                        None   \n6678                        None                        None   \n6679                        None                        None   \n6680                        None                        None   \n\n     OMAWDP8_PELL_PT_POOLED_SUPP OMENRUP_PELL_PT_POOLED_SUPP   \n0                         0.1833                      0.4222  \\\n1                         0.4354                      0.2665   \n2                         0.4186                      0.3953   \n3                         0.3474                      0.2789   \n4                         0.1111                      0.3667   \n...                          ...                         ...   \n6676                        None                        None   \n6677                        None                        None   \n6678                        None                        None   \n6679                        None                        None   \n6680                        None                        None   \n\n     GT_THRESHOLD_P6_SUPP  dist_miles  \n0                  0.4606  147.593425  \n1                   0.659  156.540810  \n2                  0.5132  164.191256  \n3                   0.717  150.129854  \n4                   0.382  169.201972  \n...                   ...         ...  \n6676                 None  670.943595  \n6677                 None  577.729643  \n6678                 None  630.970517  \n6679                 None  590.104574  \n6680                 None  630.528504  \n\n[6681 rows x 175 columns]\n    WHERE SATMT25 <= 586\n    AND SATVR25 <= 789\n    ]\n(Background on this error at: https://sqlalche.me/e/20/e3q8)"
     ]
    }
   ],
   "source": [
    "appliedfilters = apply_filters(df = test, featuresDict = featuresDict,filterList=filterList,filterValues=filterValues)\n",
    "appliedfilters"
   ],
   "metadata": {
    "collapsed": false
   }
  },
  {
   "cell_type": "markdown",
   "source": [
    "Normalizing Features"
   ],
   "metadata": {
    "collapsed": false
   }
  },
  {
   "cell_type": "markdown",
   "source": [
    "part 1: find each feature's length"
   ],
   "metadata": {
    "collapsed": false
   }
  },
  {
   "cell_type": "code",
   "execution_count": 32,
   "outputs": [],
   "source": [
    "maxQuery = \"\"\"\n",
    "SELECT max({0}) x1FeatureLength, max({1}) x2FeatureLength, max({2}) x3FeatureLength\n",
    "FROM appliedffs\n",
    "where {0} not like 'PrivacySuppressed' and {1} not like 'PrivacySuppressed' and {2} not like 'PrivacySuppressed'\n",
    "\"\"\".format(featuresDict['feature1'],featuresDict['feature2'],featuresDict['feature3'])"
   ],
   "metadata": {
    "collapsed": false
   }
  },
  {
   "cell_type": "code",
   "execution_count": 45,
   "outputs": [
    {
     "data": {
      "text/plain": "x1FeatureLength    0.8871\nx2FeatureLength     0.241\nx3FeatureLength    0.5972\nName: 0, dtype: object"
     },
     "execution_count": 45,
     "metadata": {},
     "output_type": "execute_result"
    }
   ],
   "source": [
    "featureLengths = sqldf(maxQuery,locals()).loc[0]\n",
    "featureLengths"
   ],
   "metadata": {
    "collapsed": false
   }
  },
  {
   "cell_type": "code",
   "execution_count": 46,
   "outputs": [],
   "source": [
    "x1FeatureLength = float(featureLengths['x1FeatureLength'])\n",
    "x2FeatureLength = float(featureLengths['x2FeatureLength'])\n",
    "x3FeatureLength = float(featureLengths['x3FeatureLength'])"
   ],
   "metadata": {
    "collapsed": false
   }
  },
  {
   "cell_type": "code",
   "execution_count": 47,
   "outputs": [
    {
     "data": {
      "text/plain": "0.8871"
     },
     "execution_count": 47,
     "metadata": {},
     "output_type": "execute_result"
    }
   ],
   "source": [
    "x1FeatureLength"
   ],
   "metadata": {
    "collapsed": false
   }
  },
  {
   "cell_type": "markdown",
   "source": [
    "part 2: applying length to normalize each feature"
   ],
   "metadata": {
    "collapsed": false
   }
  },
  {
   "cell_type": "code",
   "execution_count": null,
   "outputs": [],
   "source": [
    "normalizedQuery = \"\"\"\n",
    "SELECT\n",
    "{0}/{3} feature1normalized,\n",
    "{1}/{4} feature2normalized,\n",
    "{2}/{5} feature3normalized\n",
    "FROM inst\n",
    "\"\"\".format(featuresDict['x1'],featuresDict['x2'],featuresDict['x3'], x1FeatureLength, x2FeatureLength, x3FeatureLength)"
   ],
   "metadata": {
    "collapsed": false
   }
  },
  {
   "cell_type": "code",
   "execution_count": null,
   "outputs": [],
   "source": [
    "normalizedDF = sqldf(normalizedQuery,locals())\n",
    "normalizedDF"
   ],
   "metadata": {
    "collapsed": false
   }
  },
  {
   "cell_type": "code",
   "execution_count": 141,
   "outputs": [],
   "source": [
    "def normalize_features (features_Dict):\n",
    "    #find length of each feature\n",
    "    maxQuery = \"\"\"\n",
    "    SELECT max({0}) x1FeatureLength, max({1}) x2FeatureLength, max({2}) x3FeatureLength\n",
    "    FROM appliedffs\n",
    "    where {0} not like 'PrivacySuppressed' and {1} not like 'PrivacySuppressed' and {2} not like 'PrivacySuppressed'\n",
    "    \"\"\".format(featuresDict['feature1'],featuresDict['feature2'],featuresDict['feature3'])\n",
    "\n",
    "    featureLengths = sqldf(maxQuery,globals()).loc[0]\n",
    "\n",
    "    x1FeatureLength = float(featureLengths['x1FeatureLength'])\n",
    "    x2FeatureLength = float(featureLengths['x2FeatureLength'])\n",
    "    x3FeatureLength = float(featureLengths['x3FeatureLength'])\n",
    "\n",
    "    #normalize each feature\n",
    "    normalizedQuery = \"\"\"\n",
    "    SELECT\n",
    "    UNITID,\n",
    "    {0}/{3} feature1normalized,\n",
    "    {1}/{4} feature2normalized,\n",
    "    {2}/{5} feature3normalized\n",
    "    FROM appliedffs\n",
    "    \"\"\".format(featuresDict['feature1'],featuresDict['feature2'],featuresDict['feature3'], x1FeatureLength, x2FeatureLength, x3FeatureLength)\n",
    "\n",
    "    return sqldf(normalizedQuery,globals())"
   ],
   "metadata": {
    "collapsed": false
   }
  },
  {
   "cell_type": "code",
   "execution_count": 142,
   "outputs": [],
   "source": [
    "normalizedByUni = normalize_features(featuresDict)\n",
    "#normalizedByUni.set_index('UNITID', inplace = True)"
   ],
   "metadata": {
    "collapsed": false
   }
  },
  {
   "cell_type": "code",
   "execution_count": 143,
   "outputs": [
    {
     "data": {
      "text/plain": "     UNITID  feature1normalized  feature2normalized  feature3normalized\n0    100654            0.315973            0.048133            0.557435\n1    100663            0.237854            0.061826            0.464334\n2    100706            0.210799            0.040664            0.528131\n3    100724            0.228385            0.040249            0.653717\n4    100751            0.185548            0.036100            0.508540\n..      ...                 ...                 ...                 ...\n928  487524            0.357682            0.007054            0.340589\n929  488305                 NaN                 NaN                 NaN\n930  488785                 NaN                 NaN                 NaN\n931  490805            0.277083            0.048133            0.608841\n932  495767            0.194679            0.039419            0.374581\n\n[933 rows x 4 columns]",
      "text/html": "<div>\n<style scoped>\n    .dataframe tbody tr th:only-of-type {\n        vertical-align: middle;\n    }\n\n    .dataframe tbody tr th {\n        vertical-align: top;\n    }\n\n    .dataframe thead th {\n        text-align: right;\n    }\n</style>\n<table border=\"1\" class=\"dataframe\">\n  <thead>\n    <tr style=\"text-align: right;\">\n      <th></th>\n      <th>UNITID</th>\n      <th>feature1normalized</th>\n      <th>feature2normalized</th>\n      <th>feature3normalized</th>\n    </tr>\n  </thead>\n  <tbody>\n    <tr>\n      <th>0</th>\n      <td>100654</td>\n      <td>0.315973</td>\n      <td>0.048133</td>\n      <td>0.557435</td>\n    </tr>\n    <tr>\n      <th>1</th>\n      <td>100663</td>\n      <td>0.237854</td>\n      <td>0.061826</td>\n      <td>0.464334</td>\n    </tr>\n    <tr>\n      <th>2</th>\n      <td>100706</td>\n      <td>0.210799</td>\n      <td>0.040664</td>\n      <td>0.528131</td>\n    </tr>\n    <tr>\n      <th>3</th>\n      <td>100724</td>\n      <td>0.228385</td>\n      <td>0.040249</td>\n      <td>0.653717</td>\n    </tr>\n    <tr>\n      <th>4</th>\n      <td>100751</td>\n      <td>0.185548</td>\n      <td>0.036100</td>\n      <td>0.508540</td>\n    </tr>\n    <tr>\n      <th>...</th>\n      <td>...</td>\n      <td>...</td>\n      <td>...</td>\n      <td>...</td>\n    </tr>\n    <tr>\n      <th>928</th>\n      <td>487524</td>\n      <td>0.357682</td>\n      <td>0.007054</td>\n      <td>0.340589</td>\n    </tr>\n    <tr>\n      <th>929</th>\n      <td>488305</td>\n      <td>NaN</td>\n      <td>NaN</td>\n      <td>NaN</td>\n    </tr>\n    <tr>\n      <th>930</th>\n      <td>488785</td>\n      <td>NaN</td>\n      <td>NaN</td>\n      <td>NaN</td>\n    </tr>\n    <tr>\n      <th>931</th>\n      <td>490805</td>\n      <td>0.277083</td>\n      <td>0.048133</td>\n      <td>0.608841</td>\n    </tr>\n    <tr>\n      <th>932</th>\n      <td>495767</td>\n      <td>0.194679</td>\n      <td>0.039419</td>\n      <td>0.374581</td>\n    </tr>\n  </tbody>\n</table>\n<p>933 rows × 4 columns</p>\n</div>"
     },
     "execution_count": 143,
     "metadata": {},
     "output_type": "execute_result"
    }
   ],
   "source": [
    "normalizedByUni"
   ],
   "metadata": {
    "collapsed": false
   }
  },
  {
   "cell_type": "markdown",
   "source": [
    "Calculating Uni Rating"
   ],
   "metadata": {
    "collapsed": false
   }
  },
  {
   "cell_type": "markdown",
   "source": [
    "multiplying preferences to feature"
   ],
   "metadata": {
    "collapsed": false
   }
  },
  {
   "cell_type": "code",
   "execution_count": 169,
   "outputs": [],
   "source": [
    "def uni_rating_calc(df):\n",
    "    normalizedMatrix = df.values\n",
    "    ratingScore = np.dot(normalizedMatrix[:,1:4], perc_weights)\n",
    "    return pd.DataFrame(np.c_[df.values[:, :1], ratingScore]).rename(columns = {0:'UNITID', 1:'Rating'})"
   ],
   "metadata": {
    "collapsed": false
   }
  },
  {
   "cell_type": "code",
   "execution_count": 170,
   "outputs": [
    {
     "data": {
      "text/plain": "     UNITID    Rating\n0    100654  0.323278\n1    100663   0.26977\n2    100706   0.28102\n3    100724  0.335806\n4    100751  0.264929\n..      ...       ...\n928  487524  0.233969\n929  488305       NaN\n930  488785       NaN\n931  490805  0.333469\n932  495767  0.214887\n\n[933 rows x 2 columns]",
      "text/html": "<div>\n<style scoped>\n    .dataframe tbody tr th:only-of-type {\n        vertical-align: middle;\n    }\n\n    .dataframe tbody tr th {\n        vertical-align: top;\n    }\n\n    .dataframe thead th {\n        text-align: right;\n    }\n</style>\n<table border=\"1\" class=\"dataframe\">\n  <thead>\n    <tr style=\"text-align: right;\">\n      <th></th>\n      <th>UNITID</th>\n      <th>Rating</th>\n    </tr>\n  </thead>\n  <tbody>\n    <tr>\n      <th>0</th>\n      <td>100654</td>\n      <td>0.323278</td>\n    </tr>\n    <tr>\n      <th>1</th>\n      <td>100663</td>\n      <td>0.26977</td>\n    </tr>\n    <tr>\n      <th>2</th>\n      <td>100706</td>\n      <td>0.28102</td>\n    </tr>\n    <tr>\n      <th>3</th>\n      <td>100724</td>\n      <td>0.335806</td>\n    </tr>\n    <tr>\n      <th>4</th>\n      <td>100751</td>\n      <td>0.264929</td>\n    </tr>\n    <tr>\n      <th>...</th>\n      <td>...</td>\n      <td>...</td>\n    </tr>\n    <tr>\n      <th>928</th>\n      <td>487524</td>\n      <td>0.233969</td>\n    </tr>\n    <tr>\n      <th>929</th>\n      <td>488305</td>\n      <td>NaN</td>\n    </tr>\n    <tr>\n      <th>930</th>\n      <td>488785</td>\n      <td>NaN</td>\n    </tr>\n    <tr>\n      <th>931</th>\n      <td>490805</td>\n      <td>0.333469</td>\n    </tr>\n    <tr>\n      <th>932</th>\n      <td>495767</td>\n      <td>0.214887</td>\n    </tr>\n  </tbody>\n</table>\n<p>933 rows × 2 columns</p>\n</div>"
     },
     "execution_count": 170,
     "metadata": {},
     "output_type": "execute_result"
    }
   ],
   "source": [
    "test = uni_rating_calc(normalizedByUni)\n",
    "test"
   ],
   "metadata": {
    "collapsed": false
   }
  },
  {
   "cell_type": "code",
   "execution_count": 162,
   "outputs": [
    {
     "data": {
      "text/plain": "     UNITID  feature1normalized  feature2normalized  feature3normalized\n0    100654            0.315973            0.048133            0.557435\n1    100663            0.237854            0.061826            0.464334\n2    100706            0.210799            0.040664            0.528131\n3    100724            0.228385            0.040249            0.653717\n4    100751            0.185548            0.036100            0.508540\n..      ...                 ...                 ...                 ...\n928  487524            0.357682            0.007054            0.340589\n929  488305                 NaN                 NaN                 NaN\n930  488785                 NaN                 NaN                 NaN\n931  490805            0.277083            0.048133            0.608841\n932  495767            0.194679            0.039419            0.374581\n\n[933 rows x 4 columns]",
      "text/html": "<div>\n<style scoped>\n    .dataframe tbody tr th:only-of-type {\n        vertical-align: middle;\n    }\n\n    .dataframe tbody tr th {\n        vertical-align: top;\n    }\n\n    .dataframe thead th {\n        text-align: right;\n    }\n</style>\n<table border=\"1\" class=\"dataframe\">\n  <thead>\n    <tr style=\"text-align: right;\">\n      <th></th>\n      <th>UNITID</th>\n      <th>feature1normalized</th>\n      <th>feature2normalized</th>\n      <th>feature3normalized</th>\n    </tr>\n  </thead>\n  <tbody>\n    <tr>\n      <th>0</th>\n      <td>100654</td>\n      <td>0.315973</td>\n      <td>0.048133</td>\n      <td>0.557435</td>\n    </tr>\n    <tr>\n      <th>1</th>\n      <td>100663</td>\n      <td>0.237854</td>\n      <td>0.061826</td>\n      <td>0.464334</td>\n    </tr>\n    <tr>\n      <th>2</th>\n      <td>100706</td>\n      <td>0.210799</td>\n      <td>0.040664</td>\n      <td>0.528131</td>\n    </tr>\n    <tr>\n      <th>3</th>\n      <td>100724</td>\n      <td>0.228385</td>\n      <td>0.040249</td>\n      <td>0.653717</td>\n    </tr>\n    <tr>\n      <th>4</th>\n      <td>100751</td>\n      <td>0.185548</td>\n      <td>0.036100</td>\n      <td>0.508540</td>\n    </tr>\n    <tr>\n      <th>...</th>\n      <td>...</td>\n      <td>...</td>\n      <td>...</td>\n      <td>...</td>\n    </tr>\n    <tr>\n      <th>928</th>\n      <td>487524</td>\n      <td>0.357682</td>\n      <td>0.007054</td>\n      <td>0.340589</td>\n    </tr>\n    <tr>\n      <th>929</th>\n      <td>488305</td>\n      <td>NaN</td>\n      <td>NaN</td>\n      <td>NaN</td>\n    </tr>\n    <tr>\n      <th>930</th>\n      <td>488785</td>\n      <td>NaN</td>\n      <td>NaN</td>\n      <td>NaN</td>\n    </tr>\n    <tr>\n      <th>931</th>\n      <td>490805</td>\n      <td>0.277083</td>\n      <td>0.048133</td>\n      <td>0.608841</td>\n    </tr>\n    <tr>\n      <th>932</th>\n      <td>495767</td>\n      <td>0.194679</td>\n      <td>0.039419</td>\n      <td>0.374581</td>\n    </tr>\n  </tbody>\n</table>\n<p>933 rows × 4 columns</p>\n</div>"
     },
     "execution_count": 162,
     "metadata": {},
     "output_type": "execute_result"
    }
   ],
   "source": [
    "normalizedByUni"
   ],
   "metadata": {
    "collapsed": false
   }
  },
  {
   "cell_type": "code",
   "execution_count": 151,
   "outputs": [
    {
     "data": {
      "text/plain": "array([[0.3159733964603765, 0.04813278008298755, 0.5574346952444742],\n       [0.2378536805320708, 0.06182572614107884, 0.4643335565974548],\n       [0.21079923345733287, 0.04066390041493776, 0.528131279303416],\n       ...,\n       [nan, nan, nan],\n       [0.27708262879044077, 0.04813278008298755, 0.608841259209645],\n       [0.19467929207530155, 0.03941908713692946, 0.37458137977227063]],\n      dtype=object)"
     },
     "execution_count": 151,
     "metadata": {},
     "output_type": "execute_result"
    }
   ],
   "source": [
    "normalizedMatrix = normalizedByUni.values\n",
    "normalizedMatrix[:,1:4]"
   ],
   "metadata": {
    "collapsed": false
   }
  },
  {
   "cell_type": "code",
   "execution_count": 165,
   "outputs": [],
   "source": [
    "uniIndex = normalizedByUni.values[:, :1]"
   ],
   "metadata": {
    "collapsed": false
   }
  },
  {
   "cell_type": "code",
   "execution_count": 166,
   "outputs": [
    {
     "data": {
      "text/plain": "array([['100654'],\n       ['100663'],\n       ['100706'],\n       ['100724'],\n       ['100751'],\n       ['100830'],\n       ['100858'],\n       ['100937'],\n       ['101189'],\n       ['101435'],\n       ['101480'],\n       ['101541'],\n       ['101648'],\n       ['101709'],\n       ['102049'],\n       ['102094'],\n       ['102234'],\n       ['102368'],\n       ['102377'],\n       ['102614'],\n       ['104151'],\n       ['104179'],\n       ['104586'],\n       ['105589'],\n       ['105899'],\n       ['106245'],\n       ['106342'],\n       ['106397'],\n       ['106412'],\n       ['106458'],\n       ['106704'],\n       ['106713'],\n       ['107044'],\n       ['107071'],\n       ['107141'],\n       ['107512'],\n       ['107558'],\n       ['107877'],\n       ['110097'],\n       ['110361'],\n       ['110413'],\n       ['110510'],\n       ['110529'],\n       ['110538'],\n       ['110556'],\n       ['110565'],\n       ['110583'],\n       ['110592'],\n       ['110608'],\n       ['110617'],\n       ['110671'],\n       ['110714'],\n       ['111948'],\n       ['112075'],\n       ['112084'],\n       ['113698'],\n       ['114813'],\n       ['115755'],\n       ['117104'],\n       ['117140'],\n       ['117627'],\n       ['118888'],\n       ['119173'],\n       ['120537'],\n       ['120865'],\n       ['120883'],\n       ['121309'],\n       ['121691'],\n       ['122409'],\n       ['122597'],\n       ['122612'],\n       ['122755'],\n       ['123457'],\n       ['123554'],\n       ['123572'],\n       ['123651'],\n       ['123952'],\n       ['124292'],\n       ['125727'],\n       ['126182'],\n       ['126562'],\n       ['126614'],\n       ['126818'],\n       ['127060'],\n       ['127185'],\n       ['127565'],\n       ['127741'],\n       ['127918'],\n       ['128106'],\n       ['128391'],\n       ['128744'],\n       ['128771'],\n       ['129525'],\n       ['129941'],\n       ['130314'],\n       ['130934'],\n       ['130943'],\n       ['131098'],\n       ['131450'],\n       ['131520'],\n       ['132408'],\n       ['132602'],\n       ['132879'],\n       ['132903'],\n       ['133526'],\n       ['133553'],\n       ['133650'],\n       ['133669'],\n       ['133711'],\n       ['133809'],\n       ['133872'],\n       ['133881'],\n       ['133951'],\n       ['134079'],\n       ['136172'],\n       ['136215'],\n       ['136330'],\n       ['137351'],\n       ['137476'],\n       ['137564'],\n       ['137847'],\n       ['137953'],\n       ['137962'],\n       ['138293'],\n       ['138354'],\n       ['138558'],\n       ['138716'],\n       ['138761'],\n       ['138868'],\n       ['138947'],\n       ['139199'],\n       ['139250'],\n       ['139366'],\n       ['139393'],\n       ['139630'],\n       ['139764'],\n       ['139861'],\n       ['139931'],\n       ['139940'],\n       ['139968'],\n       ['140234'],\n       ['140252'],\n       ['140447'],\n       ['140696'],\n       ['140720'],\n       ['140818'],\n       ['140872'],\n       ['140960'],\n       ['140988'],\n       ['141060'],\n       ['141167'],\n       ['141237'],\n       ['141264'],\n       ['141325'],\n       ['141334'],\n       ['141361'],\n       ['141486'],\n       ['141565'],\n       ['141574'],\n       ['141644'],\n       ['141981'],\n       ['142090'],\n       ['142115'],\n       ['142285'],\n       ['142294'],\n       ['142328'],\n       ['142461'],\n       ['142522'],\n       ['143048'],\n       ['143118'],\n       ['143288'],\n       ['143358'],\n       ['144005'],\n       ['144351'],\n       ['144892'],\n       ['144962'],\n       ['144971'],\n       ['145336'],\n       ['145372'],\n       ['145600'],\n       ['145619'],\n       ['145646'],\n       ['145813'],\n       ['146339'],\n       ['146427'],\n       ['146612'],\n       ['146719'],\n       ['147013'],\n       ['147129'],\n       ['147244'],\n       ['147341'],\n       ['147660'],\n       ['147679'],\n       ['147776'],\n       ['147828'],\n       ['148016'],\n       ['148131'],\n       ['148405'],\n       ['148487'],\n       ['148496'],\n       ['148584'],\n       ['148627'],\n       ['148654'],\n       ['149222'],\n       ['149231'],\n       ['149505'],\n       ['149514'],\n       ['149639'],\n       ['149772'],\n       ['150066'],\n       ['150163'],\n       ['150400'],\n       ['150455'],\n       ['150604'],\n       ['150668'],\n       ['150677'],\n       ['150756'],\n       ['150774'],\n       ['150941'],\n       ['151102'],\n       ['151111'],\n       ['151263'],\n       ['151306'],\n       ['151342'],\n       ['151351'],\n       ['151360'],\n       ['151379'],\n       ['151388'],\n       ['151801'],\n       ['152099'],\n       ['152336'],\n       ['152381'],\n       ['152390'],\n       ['152497'],\n       ['152567'],\n       ['152600'],\n       ['152673'],\n       ['153108'],\n       ['153126'],\n       ['153162'],\n       ['153250'],\n       ['153269'],\n       ['153278'],\n       ['153302'],\n       ['153320'],\n       ['153366'],\n       ['153375'],\n       ['153603'],\n       ['153621'],\n       ['153658'],\n       ['153834'],\n       ['154095'],\n       ['154101'],\n       ['154235'],\n       ['154350'],\n       ['154493'],\n       ['154518'],\n       ['154527'],\n       ['154688'],\n       ['154712'],\n       ['154749'],\n       ['155089'],\n       ['155317'],\n       ['155627'],\n       ['155812'],\n       ['155900'],\n       ['155937'],\n       ['155973'],\n       ['156125'],\n       ['156189'],\n       ['156213'],\n       ['156286'],\n       ['156295'],\n       ['156356'],\n       ['156408'],\n       ['156541'],\n       ['156620'],\n       ['157030'],\n       ['157058'],\n       ['157076'],\n       ['157085'],\n       ['157100'],\n       ['157289'],\n       ['157377'],\n       ['157401'],\n       ['157447'],\n       ['157748'],\n       ['157757'],\n       ['157818'],\n       ['157951'],\n       ['158477'],\n       ['158802'],\n       ['159009'],\n       ['159382'],\n       ['159391'],\n       ['159416'],\n       ['159568'],\n       ['159647'],\n       ['159656'],\n       ['159717'],\n       ['159939'],\n       ['159966'],\n       ['159993'],\n       ['160038'],\n       ['160621'],\n       ['160658'],\n       ['160904'],\n       ['161022'],\n       ['161299'],\n       ['161518'],\n       ['161554'],\n       ['161873'],\n       ['162007'],\n       ['162283'],\n       ['162584'],\n       ['163268'],\n       ['163338'],\n       ['163453'],\n       ['163462'],\n       ['163912'],\n       ['164076'],\n       ['164447'],\n       ['164614'],\n       ['164632'],\n       ['164720'],\n       ['165024'],\n       ['165334'],\n       ['165529'],\n       ['165644'],\n       ['165662'],\n       ['165671'],\n       ['165802'],\n       ['165866'],\n       ['165936'],\n       ['166391'],\n       ['166513'],\n       ['166656'],\n       ['166692'],\n       ['167288'],\n       ['167394'],\n       ['167783'],\n       ['167987'],\n       ['168005'],\n       ['168227'],\n       ['168263'],\n       ['168281'],\n       ['168430'],\n       ['168528'],\n       ['168546'],\n       ['168740'],\n       ['168786'],\n       ['169080'],\n       ['169248'],\n       ['169716'],\n       ['169798'],\n       ['169910'],\n       ['170037'],\n       ['170301'],\n       ['170639'],\n       ['170806'],\n       ['170967'],\n       ['171100'],\n       ['171137'],\n       ['171146'],\n       ['171492'],\n       ['171571'],\n       ['171881'],\n       ['172051'],\n       ['172334'],\n       ['172644'],\n       ['172699'],\n       ['173045'],\n       ['173160'],\n       ['173300'],\n       ['173452'],\n       ['173665'],\n       ['174233'],\n       ['174251'],\n       ['174358'],\n       ['174437'],\n       ['174525'],\n       ['174747'],\n       ['174783'],\n       ['174792'],\n       ['174844'],\n       ['174862'],\n       ['174914'],\n       ['175005'],\n       ['175078'],\n       ['175272'],\n       ['175342'],\n       ['175421'],\n       ['175430'],\n       ['175616'],\n       ['175856'],\n       ['175980'],\n       ['176017'],\n       ['176035'],\n       ['176053'],\n       ['176080'],\n       ['176406'],\n       ['176479'],\n       ['176947'],\n       ['177117'],\n       ['177144'],\n       ['177214'],\n       ['177542'],\n       ['177968'],\n       ['178244'],\n       ['178341'],\n       ['178369'],\n       ['178396'],\n       ['178402'],\n       ['178420'],\n       ['178615'],\n       ['178624'],\n       ['178697'],\n       ['179043'],\n       ['179159'],\n       ['179265'],\n       ['179326'],\n       ['179548'],\n       ['179566'],\n       ['179894'],\n       ['179946'],\n       ['179955'],\n       ['180106'],\n       ['180258'],\n       ['180416'],\n       ['180461'],\n       ['180489'],\n       ['180595'],\n       ['180692'],\n       ['180984'],\n       ['181127'],\n       ['181215'],\n       ['181330'],\n       ['181446'],\n       ['181464'],\n       ['181738'],\n       ['181853'],\n       ['182281'],\n       ['182290'],\n       ['182458'],\n       ['183044'],\n       ['183071'],\n       ['183239'],\n       ['183275'],\n       ['183822'],\n       ['183910'],\n       ['183974'],\n       ['184612'],\n       ['184773'],\n       ['184782'],\n       ['185262'],\n       ['185572'],\n       ['186201'],\n       ['186283'],\n       ['186371'],\n       ['186399'],\n       ['186584'],\n       ['186876'],\n       ['187134'],\n       ['187648'],\n       ['187967'],\n       ['187985'],\n       ['188030'],\n       ['188429'],\n       ['188526'],\n       ['188641'],\n       ['189705'],\n       ['189848'],\n       ['190248'],\n       ['190549'],\n       ['190567'],\n       ['190600'],\n       ['190637'],\n       ['190664'],\n       ['190691'],\n       ['190716'],\n       ['190983'],\n       ['191533'],\n       ['191931'],\n       ['192323'],\n       ['192448'],\n       ['192864'],\n       ['193016'],\n       ['193292'],\n       ['193353'],\n       ['193399'],\n       ['193654'],\n       ['193973'],\n       ['194091'],\n       ['194161'],\n       ['194310'],\n       ['194578'],\n       ['194958'],\n       ['195164'],\n       ['195173'],\n       ['195243'],\n       ['195304'],\n       ['195544'],\n       ['195720'],\n       ['195809'],\n       ['196015'],\n       ['196033'],\n       ['196042'],\n       ['196051'],\n       ['196060'],\n       ['196088'],\n       ['196103'],\n       ['196112'],\n       ['196121'],\n       ['196130'],\n       ['196149'],\n       ['196158'],\n       ['196167'],\n       ['196176'],\n       ['196185'],\n       ['196194'],\n       ['196219'],\n       ['196237'],\n       ['196246'],\n       ['196291'],\n       ['197151'],\n       ['197708'],\n       ['197869'],\n       ['197911'],\n       ['197984'],\n       ['198109'],\n       ['198136'],\n       ['198215'],\n       ['198303'],\n       ['198464'],\n       ['198507'],\n       ['198516'],\n       ['198543'],\n       ['198561'],\n       ['198598'],\n       ['198613'],\n       ['198695'],\n       ['198756'],\n       ['198808'],\n       ['198862'],\n       ['198950'],\n       ['198969'],\n       ['199032'],\n       ['199069'],\n       ['199102'],\n       ['199111'],\n       ['199139'],\n       ['199148'],\n       ['199157'],\n       ['199184'],\n       ['199209'],\n       ['199218'],\n       ['199272'],\n       ['199281'],\n       ['199306'],\n       ['199412'],\n       ['199458'],\n       ['199582'],\n       ['199607'],\n       ['199999'],\n       ['200004'],\n       ['200059'],\n       ['200156'],\n       ['200217'],\n       ['200226'],\n       ['200253'],\n       ['200280'],\n       ['200332'],\n       ['200484'],\n       ['200572'],\n       ['200800'],\n       ['200846'],\n       ['201104'],\n       ['201195'],\n       ['201441'],\n       ['201654'],\n       ['201821'],\n       ['201885'],\n       ['202046'],\n       ['202134'],\n       ['202480'],\n       ['202514'],\n       ['202763'],\n       ['203085'],\n       ['203128'],\n       ['203368'],\n       ['203517'],\n       ['203580'],\n       ['203757'],\n       ['203775'],\n       ['203845'],\n       ['203960'],\n       ['204024'],\n       ['204185'],\n       ['204194'],\n       ['204200'],\n       ['204635'],\n       ['204857'],\n       ['204936'],\n       ['205957'],\n       ['206084'],\n       ['206349'],\n       ['206437'],\n       ['206491'],\n       ['206507'],\n       ['206604'],\n       ['206613'],\n       ['206622'],\n       ['206695'],\n       ['206817'],\n       ['206835'],\n       ['207041'],\n       ['207157'],\n       ['207263'],\n       ['207306'],\n       ['207324'],\n       ['207388'],\n       ['207403'],\n       ['207458'],\n       ['207500'],\n       ['207582'],\n       ['207722'],\n       ['207847'],\n       ['207971'],\n       ['208822'],\n       ['209056'],\n       ['209065'],\n       ['209409'],\n       ['209506'],\n       ['209542'],\n       ['209551'],\n       ['209612'],\n       ['209807'],\n       ['209825'],\n       ['210146'],\n       ['210331'],\n       ['210429'],\n       ['210492'],\n       ['210669'],\n       ['210739'],\n       ['211088'],\n       ['211352'],\n       ['211361'],\n       ['211431'],\n       ['211468'],\n       ['211583'],\n       ['211981'],\n       ['212106'],\n       ['212115'],\n       ['212133'],\n       ['212160'],\n       ['212197'],\n       ['212601'],\n       ['212805'],\n       ['212832'],\n       ['212984'],\n       ['213011'],\n       ['213020'],\n       ['213303'],\n       ['213349'],\n       ['213358'],\n       ['213400'],\n       ['213507'],\n       ['213598'],\n       ['213613'],\n       ['213668'],\n       ['213774'],\n       ['213783'],\n       ['213826'],\n       ['213996'],\n       ['214041'],\n       ['214175'],\n       ['214272'],\n       ['215132'],\n       ['215266'],\n       ['215275'],\n       ['215284'],\n       ['215442'],\n       ['215594'],\n       ['215655'],\n       ['215691'],\n       ['215743'],\n       ['215770'],\n       ['215798'],\n       ['215929'],\n       ['216010'],\n       ['216038'],\n       ['216357'],\n       ['216366'],\n       ['216524'],\n       ['216694'],\n       ['216764'],\n       ['216852'],\n       ['216931'],\n       ['217013'],\n       ['217059'],\n       ['217165'],\n       ['217420'],\n       ['217484'],\n       ['217688'],\n       ['217776'],\n       ['217819'],\n       ['217864'],\n       ['217873'],\n       ['217907'],\n       ['217925'],\n       ['217934'],\n       ['217961'],\n       ['217998'],\n       ['218061'],\n       ['218229'],\n       ['218238'],\n       ['218414'],\n       ['218441'],\n       ['218539'],\n       ['218645'],\n       ['218654'],\n       ['218663'],\n       ['218672'],\n       ['218681'],\n       ['218690'],\n       ['218706'],\n       ['218724'],\n       ['218733'],\n       ['218742'],\n       ['218964'],\n       ['219000'],\n       ['219046'],\n       ['219082'],\n       ['219091'],\n       ['219259'],\n       ['219295'],\n       ['219356'],\n       ['219471'],\n       ['219602'],\n       ['219639'],\n       ['219709'],\n       ['219718'],\n       ['219806'],\n       ['219976'],\n       ['220075'],\n       ['220181'],\n       ['220215'],\n       ['220473'],\n       ['220516'],\n       ['220613'],\n       ['220631'],\n       ['220701'],\n       ['220710'],\n       ['220862'],\n       ['220978'],\n       ['221519'],\n       ['221661'],\n       ['221731'],\n       ['221740'],\n       ['221759'],\n       ['221847'],\n       ['221892'],\n       ['221953'],\n       ['221971'],\n       ['222178'],\n       ['222831'],\n       ['222983'],\n       ['224004'],\n       ['224147'],\n       ['224226'],\n       ['224323'],\n       ['224545'],\n       ['224554'],\n       ['225247'],\n       ['225399'],\n       ['225414'],\n       ['225511'],\n       ['225575'],\n       ['225627'],\n       ['226091'],\n       ['226152'],\n       ['226231'],\n       ['226383'],\n       ['226471'],\n       ['226587'],\n       ['226833'],\n       ['227216'],\n       ['227331'],\n       ['227368'],\n       ['227429'],\n       ['227526'],\n       ['227881'],\n       ['228042'],\n       ['228149'],\n       ['228325'],\n       ['228343'],\n       ['228431'],\n       ['228459'],\n       ['228468'],\n       ['228501'],\n       ['228529'],\n       ['228705'],\n       ['228723'],\n       ['228769'],\n       ['228802'],\n       ['228875'],\n       ['228981'],\n       ['229018'],\n       ['229027'],\n       ['229063'],\n       ['229115'],\n       ['229160'],\n       ['229179'],\n       ['229780'],\n       ['229814'],\n       ['230047'],\n       ['230603'],\n       ['230728'],\n       ['230764'],\n       ['230807'],\n       ['230834'],\n       ['231174'],\n       ['231420'],\n       ['231581'],\n       ['231651'],\n       ['232025'],\n       ['232043'],\n       ['232089'],\n       ['232186'],\n       ['232256'],\n       ['232308'],\n       ['232423'],\n       ['232557'],\n       ['232566'],\n       ['232672'],\n       ['232681'],\n       ['232706'],\n       ['232937'],\n       ['232982'],\n       ['233295'],\n       ['233301'],\n       ['233426'],\n       ['233541'],\n       ['233611'],\n       ['233718'],\n       ['233897'],\n       ['233921'],\n       ['234030'],\n       ['234085'],\n       ['234155'],\n       ['234164'],\n       ['234173'],\n       ['234827'],\n       ['235097'],\n       ['235167'],\n       ['235316'],\n       ['236133'],\n       ['236452'],\n       ['236577'],\n       ['236595'],\n       ['236939'],\n       ['237011'],\n       ['237066'],\n       ['237118'],\n       ['237136'],\n       ['237181'],\n       ['237215'],\n       ['237312'],\n       ['237330'],\n       ['237367'],\n       ['237525'],\n       ['237640'],\n       ['237899'],\n       ['237932'],\n       ['237950'],\n       ['237969'],\n       ['238032'],\n       ['238078'],\n       ['238430'],\n       ['238458'],\n       ['238476'],\n       ['239080'],\n       ['239105'],\n       ['239390'],\n       ['239512'],\n       ['239628'],\n       ['239716'],\n       ['240107'],\n       ['240338'],\n       ['240727'],\n       ['243106'],\n       ['243142'],\n       ['243151'],\n       ['243665'],\n       ['262129'],\n       ['366711'],\n       ['369455'],\n       ['377555'],\n       ['377564'],\n       ['409698'],\n       ['433174'],\n       ['433660'],\n       ['436818'],\n       ['436827'],\n       ['436836'],\n       ['439701'],\n       ['440396'],\n       ['440828'],\n       ['443410'],\n       ['445188'],\n       ['446048'],\n       ['449764'],\n       ['451927'],\n       ['454184'],\n       ['456959'],\n       ['459417'],\n       ['459949'],\n       ['462354'],\n       ['463056'],\n       ['464226'],\n       ['475608'],\n       ['476975'],\n       ['482149'],\n       ['482680'],\n       ['484905'],\n       ['485698'],\n       ['486840'],\n       ['486901'],\n       ['487524'],\n       ['488305'],\n       ['488785'],\n       ['490805'],\n       ['495767']], dtype=object)"
     },
     "execution_count": 166,
     "metadata": {},
     "output_type": "execute_result"
    }
   ],
   "source": [
    "uniIndex"
   ],
   "metadata": {
    "collapsed": false
   }
  },
  {
   "cell_type": "code",
   "execution_count": 140,
   "outputs": [
    {
     "data": {
      "text/plain": "array([['100654', 0.3159733964603765, 0.04813278008298755,\n        0.5574346952444742],\n       ['100663', 0.2378536805320708, 0.06182572614107884,\n        0.4643335565974548],\n       ['100706', 0.21079923345733287, 0.04066390041493776,\n        0.528131279303416],\n       ...,\n       ['488785', nan, nan, nan],\n       ['490805', 0.27708262879044077, 0.04813278008298755,\n        0.608841259209645],\n       ['495767', 0.19467929207530155, 0.03941908713692946,\n        0.37458137977227063]], dtype=object)"
     },
     "execution_count": 140,
     "metadata": {},
     "output_type": "execute_result"
    }
   ],
   "source": [
    "test = np.c_[uniIndex, normalizedMatrix]\n",
    "test"
   ],
   "metadata": {
    "collapsed": false
   }
  },
  {
   "cell_type": "code",
   "execution_count": null,
   "outputs": [],
   "source": [
    "baseDF['Rating'] = ratingScore"
   ],
   "metadata": {
    "collapsed": false
   }
  },
  {
   "cell_type": "code",
   "execution_count": null,
   "outputs": [],
   "source": [
    "testQuery = \"\"\"\n",
    "SELECT count(*)\n",
    "FROM baseDF\n",
    "where rating is not NULL\n",
    "\"\"\""
   ],
   "metadata": {
    "collapsed": false
   }
  },
  {
   "cell_type": "code",
   "execution_count": null,
   "outputs": [],
   "source": [
    "output = sqldf(testQuery,locals())\n",
    "output"
   ],
   "metadata": {
    "collapsed": false
   }
  },
  {
   "cell_type": "markdown",
   "source": [
    "apply filters"
   ],
   "metadata": {
    "collapsed": false
   }
  }
 ],
 "metadata": {
  "kernelspec": {
   "display_name": "Python 3 (ipykernel)",
   "language": "python",
   "name": "python3"
  },
  "language_info": {
   "codemirror_mode": {
    "name": "ipython",
    "version": 3
   },
   "file_extension": ".py",
   "mimetype": "text/x-python",
   "name": "python",
   "nbconvert_exporter": "python",
   "pygments_lexer": "ipython3",
   "version": "3.9.13"
  }
 },
 "nbformat": 4,
 "nbformat_minor": 5
}
