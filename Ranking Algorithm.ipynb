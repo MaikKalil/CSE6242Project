{
 "cells": [
  {
   "cell_type": "code",
   "execution_count": 1,
   "id": "5d40e8ce-b382-4baf-8f49-ff0b83cd0196",
   "metadata": {
    "execution": {
     "iopub.execute_input": "2023-04-01T19:46:02.207610Z",
     "iopub.status.busy": "2023-04-01T19:46:02.191331Z",
     "iopub.status.idle": "2023-04-01T19:46:03.929936Z",
     "shell.execute_reply": "2023-04-01T19:46:03.928933Z",
     "shell.execute_reply.started": "2023-04-01T19:46:02.195364Z"
    },
    "tags": []
   },
   "outputs": [],
   "source": [
    "import sqlite3\n",
    "import pandas as pd\n",
    "import numpy as np\n",
    "from pandasql import sqldf\n",
    "from geopy.distance import great_circle"
   ]
  },
  {
   "cell_type": "code",
   "execution_count": 2,
   "id": "2ae6b03e-ea38-437d-9ed4-d75e467d4d43",
   "metadata": {
    "execution": {
     "iopub.execute_input": "2023-04-01T19:46:03.930935Z",
     "iopub.status.busy": "2023-04-01T19:46:03.930935Z",
     "iopub.status.idle": "2023-04-01T19:46:03.960933Z",
     "shell.execute_reply": "2023-04-01T19:46:03.959935Z",
     "shell.execute_reply.started": "2023-04-01T19:46:03.930935Z"
    },
    "tags": []
   },
   "outputs": [],
   "source": [
    "conn = sqlite3.connect(\"cs.db\")"
   ]
  },
  {
   "cell_type": "code",
   "execution_count": 5,
   "id": "1f0528f5-c8eb-4a5a-8f76-2281c44c02fd",
   "metadata": {
    "execution": {
     "iopub.execute_input": "2023-04-01T19:48:21.034383Z",
     "iopub.status.busy": "2023-04-01T19:48:21.034383Z",
     "iopub.status.idle": "2023-04-01T19:48:21.061384Z",
     "shell.execute_reply": "2023-04-01T19:48:21.060384Z",
     "shell.execute_reply.started": "2023-04-01T19:48:21.034383Z"
    },
    "tags": []
   },
   "outputs": [
    {
     "data": {
      "text/html": [
       "<div>\n",
       "<style scoped>\n",
       "    .dataframe tbody tr th:only-of-type {\n",
       "        vertical-align: middle;\n",
       "    }\n",
       "\n",
       "    .dataframe tbody tr th {\n",
       "        vertical-align: top;\n",
       "    }\n",
       "\n",
       "    .dataframe thead th {\n",
       "        text-align: right;\n",
       "    }\n",
       "</style>\n",
       "<table border=\"1\" class=\"dataframe\">\n",
       "  <thead>\n",
       "    <tr style=\"text-align: right;\">\n",
       "      <th></th>\n",
       "      <th>name</th>\n",
       "    </tr>\n",
       "  </thead>\n",
       "  <tbody>\n",
       "    <tr>\n",
       "      <th>0</th>\n",
       "      <td>fields</td>\n",
       "    </tr>\n",
       "    <tr>\n",
       "      <th>1</th>\n",
       "      <td>ncaa</td>\n",
       "    </tr>\n",
       "    <tr>\n",
       "      <th>2</th>\n",
       "      <td>geo</td>\n",
       "    </tr>\n",
       "    <tr>\n",
       "      <th>3</th>\n",
       "      <td>inst</td>\n",
       "    </tr>\n",
       "  </tbody>\n",
       "</table>\n",
       "</div>"
      ],
      "text/plain": [
       "     name\n",
       "0  fields\n",
       "1    ncaa\n",
       "2     geo\n",
       "3    inst"
      ]
     },
     "execution_count": 5,
     "metadata": {},
     "output_type": "execute_result"
    }
   ],
   "source": [
    "#Tables on db\n",
    "pd.read_sql(\"SELECT name FROM sqlite_master WHERE type='table'\",conn)"
   ]
  },
  {
   "cell_type": "code",
   "execution_count": 6,
   "id": "8cba7727-d2f1-43ce-b760-25570b5ba10a",
   "metadata": {
    "execution": {
     "iopub.execute_input": "2023-04-01T19:49:02.032827Z",
     "iopub.status.busy": "2023-04-01T19:49:02.032827Z",
     "iopub.status.idle": "2023-04-01T19:49:02.788191Z",
     "shell.execute_reply": "2023-04-01T19:49:02.787226Z",
     "shell.execute_reply.started": "2023-04-01T19:49:02.032827Z"
    },
    "tags": []
   },
   "outputs": [],
   "source": [
    "inst = pd.read_sql(\"SELECT * FROM inst\",conn)"
   ]
  },
  {
   "cell_type": "markdown",
   "id": "8570fae9-8faf-4c22-9f31-386662724c8b",
   "metadata": {},
   "source": [
    "# Geocoding "
   ]
  },
  {
   "cell_type": "code",
   "execution_count": 7,
   "id": "400f09ed-311f-47ab-8b55-9a032c7adf67",
   "metadata": {
    "execution": {
     "iopub.execute_input": "2023-04-01T19:49:14.097719Z",
     "iopub.status.busy": "2023-04-01T19:49:14.097719Z",
     "iopub.status.idle": "2023-04-01T19:49:14.654623Z",
     "shell.execute_reply": "2023-04-01T19:49:14.652621Z",
     "shell.execute_reply.started": "2023-04-01T19:49:14.097719Z"
    },
    "tags": []
   },
   "outputs": [],
   "source": [
    "geo = pd.read_sql(\"SELECT * FROM geo\",conn)"
   ]
  },
  {
   "cell_type": "code",
   "execution_count": 9,
   "id": "e53182b0-0a6c-44e8-8e9b-381627100765",
   "metadata": {
    "collapsed": true,
    "execution": {
     "iopub.execute_input": "2023-04-01T19:49:22.011412Z",
     "iopub.status.busy": "2023-04-01T19:49:22.010411Z",
     "iopub.status.idle": "2023-04-01T19:49:22.027415Z",
     "shell.execute_reply": "2023-04-01T19:49:22.026411Z",
     "shell.execute_reply.started": "2023-04-01T19:49:22.011412Z"
    },
    "jupyter": {
     "outputs_hidden": true
    },
    "tags": []
   },
   "outputs": [
    {
     "data": {
      "text/plain": [
       "['UNITID',\n",
       " 'OPEID',\n",
       " 'OPEID6',\n",
       " 'INSTNM',\n",
       " 'CITY',\n",
       " 'STABBR',\n",
       " 'ZIP',\n",
       " 'INSTURL',\n",
       " 'NPCURL',\n",
       " 'HCM2',\n",
       " 'PREDDEG',\n",
       " 'HIGHDEG',\n",
       " 'CONTROL',\n",
       " 'LOCALE',\n",
       " 'LATITUDE',\n",
       " 'LONGITUDE',\n",
       " 'HBCU',\n",
       " 'PBI',\n",
       " 'ANNHI',\n",
       " 'TRIBAL',\n",
       " 'AANAPII',\n",
       " 'HSI',\n",
       " 'NANTI',\n",
       " 'MENONLY',\n",
       " 'WOMENONLY',\n",
       " 'RELAFFIL',\n",
       " 'SATVR25',\n",
       " 'SATVR75',\n",
       " 'SATMT25',\n",
       " 'SATMT75',\n",
       " 'ACTCM25',\n",
       " 'ACTCM75',\n",
       " 'DISTANCEONLY',\n",
       " 'UGDS',\n",
       " 'UGDS_WHITE',\n",
       " 'UGDS_BLACK',\n",
       " 'UGDS_HISP',\n",
       " 'UGDS_ASIAN',\n",
       " 'UGDS_AIAN',\n",
       " 'UGDS_NHPI',\n",
       " 'UGDS_2MOR',\n",
       " 'UGDS_NRA',\n",
       " 'UGDS_UNKN',\n",
       " 'PPTUG_EF',\n",
       " 'CURROPER',\n",
       " 'NPT4_PUB',\n",
       " 'NPT4_PRIV',\n",
       " 'NPT41_PUB',\n",
       " 'NPT42_PUB',\n",
       " 'NPT43_PUB',\n",
       " 'NPT44_PUB',\n",
       " 'NPT45_PUB',\n",
       " 'NPT41_PRIV',\n",
       " 'NPT42_PRIV',\n",
       " 'NPT43_PRIV',\n",
       " 'NPT44_PRIV',\n",
       " 'NPT45_PRIV',\n",
       " 'MD_EARN_WNE_P10',\n",
       " 'C200_L4_POOLED_SUPP',\n",
       " 'C200_4_POOLED_SUPP',\n",
       " 'RET_FT4_POOLED_SUPP',\n",
       " 'RET_FTL4_POOLED_SUPP',\n",
       " 'RET_PT4_POOLED_SUPP',\n",
       " 'RET_PTL4_POOLED_SUPP',\n",
       " 'OMAWDP8_FTFT_POOLED_SUPP',\n",
       " 'OMENRYP8_FTFT_POOLED_SUPP',\n",
       " 'OMENRAP8_FTFT_POOLED_SUPP',\n",
       " 'OMENRUP8_FTFT_POOLED_SUPP',\n",
       " 'OMAWDP8_PTFT_POOLED_SUPP',\n",
       " 'OMENRYP8_PTFT_POOLED_SUPP',\n",
       " 'OMENRAP8_PTFT_POOLED_SUPP',\n",
       " 'OMENRUP8_PTFT_POOLED_SUPP',\n",
       " 'OMAWDP8_FTNFT_POOLED_SUPP',\n",
       " 'OMENRYP8_FTNFT_POOLED_SUPP',\n",
       " 'OMENRAP8_FTNFT_POOLED_SUPP',\n",
       " 'OMENRUP8_FTNFT_POOLED_SUPP',\n",
       " 'OMAWDP8_PTNFT_POOLED_SUPP',\n",
       " 'OMENRYP8_PTNFT_POOLED_SUPP',\n",
       " 'OMENRAP8_PTNFT_POOLED_SUPP',\n",
       " 'OMENRUP8_PTNFT_POOLED_SUPP',\n",
       " 'OPEFLAG',\n",
       " 'OMENRYP_ALL_POOLED_SUPP',\n",
       " 'OMENRAP_ALL_POOLED_SUPP',\n",
       " 'OMAWDP8_ALL_POOLED_SUPP',\n",
       " 'OMENRUP_ALL_POOLED_SUPP',\n",
       " 'OMENRYP_FIRSTTIME_POOLED_SUPP',\n",
       " 'OMENRAP_FIRSTTIME_POOLED_SUPP',\n",
       " 'OMAWDP8_FIRSTTIME_POOLED_SUPP',\n",
       " 'OMENRUP_FIRSTTIME_POOLED_SUPP',\n",
       " 'OMENRYP_NOTFIRSTTIME_POOLED_SUPP',\n",
       " 'OMENRAP_NOTFIRSTTIME_POOLED_SUPP',\n",
       " 'OMAWDP8_NOTFIRSTTIME_POOLED_SUPP',\n",
       " 'OMENRUP_NOTFIRSTTIME_POOLED_SUPP',\n",
       " 'OMENRYP_FULLTIME_POOLED_SUPP',\n",
       " 'OMENRAP_FULLTIME_POOLED_SUPP',\n",
       " 'OMAWDP8_FULLTIME_POOLED_SUPP',\n",
       " 'OMENRUP_FULLTIME_POOLED_SUPP',\n",
       " 'OMENRYP_PARTTIME_POOLED_SUPP',\n",
       " 'OMENRAP_PARTTIME_POOLED_SUPP',\n",
       " 'OMAWDP8_PARTTIME_POOLED_SUPP',\n",
       " 'OMENRUP_PARTTIME_POOLED_SUPP',\n",
       " 'FTFTPCTPELL_POOLED_SUPP',\n",
       " 'FTFTPCTFLOAN_POOLED_SUPP',\n",
       " 'PPLUS_PCT_LOW',\n",
       " 'PPLUS_PCT_HIGH',\n",
       " 'PLUS_DEBT_INST_COMP_MD_SUPP',\n",
       " 'PLUS_DEBT_INST_COMP_MDPAY10_SUPP',\n",
       " 'PLUS_DEBT_ALL_COMP_MD_SUPP',\n",
       " 'PLUS_DEBT_ALL_COMP_MDPAY10_SUPP',\n",
       " 'BBRR2_FED_UG_N_SUPP',\n",
       " 'BBRR2_FED_UG_DFLT_SUPP',\n",
       " 'BBRR2_FED_UG_DLNQ_SUPP',\n",
       " 'BBRR2_FED_UG_FBR_SUPP',\n",
       " 'BBRR2_FED_UG_DFR_SUPP',\n",
       " 'BBRR2_FED_UG_NOPROG_SUPP',\n",
       " 'BBRR2_FED_UG_MAKEPROG_SUPP',\n",
       " 'BBRR2_FED_UG_PAIDINFULL_SUPP',\n",
       " 'BBRR2_FED_UG_DISCHARGE_SUPP',\n",
       " 'BBRR2_FED_UGCOMP_N_SUPP',\n",
       " 'BBRR2_FED_UGCOMP_DFLT_SUPP',\n",
       " 'BBRR2_FED_UGCOMP_DLNQ_SUPP',\n",
       " 'BBRR2_FED_UGCOMP_FBR_SUPP',\n",
       " 'BBRR2_FED_UGCOMP_DFR_SUPP',\n",
       " 'BBRR2_FED_UGCOMP_NOPROG_SUPP',\n",
       " 'BBRR2_FED_UGCOMP_MAKEPROG_SUPP',\n",
       " 'BBRR2_FED_UGCOMP_PAIDINFULL_SUPP',\n",
       " 'BBRR2_FED_UGCOMP_DISCHARGE_SUPP',\n",
       " 'DOLPROVIDER',\n",
       " 'ADMCON7',\n",
       " 'MDCOMP_PD',\n",
       " 'MDCOST_PD',\n",
       " 'MDEARN_PD',\n",
       " 'MDCOMP_ALL',\n",
       " 'MDCOST_ALL',\n",
       " 'MDEARN_ALL',\n",
       " 'C150_L4_PELL_POOLED_SUPP',\n",
       " 'C150_4_PELL_POOLED_SUPP',\n",
       " 'OMAWDP8_PELL_FTFT_POOLED_SUPP',\n",
       " 'OMENRYP8_PELL_FTFT_POOLED_SUPP',\n",
       " 'OMENRAP8_PELL_FTFT_POOLED_SUPP',\n",
       " 'OMENRUP8_PELL_FTFT_POOLED_SUPP',\n",
       " 'OMAWDP8_PELL_PTFT_POOLED_SUPP',\n",
       " 'OMENRYP8_PELL_PTFT_POOLED_SUPP',\n",
       " 'OMENRAP8_PELL_PTFT_POOLED_SUPP',\n",
       " 'OMENRUP8_PELL_PTFT_POOLED_SUPP',\n",
       " 'OMAWDP8_PELL_FTNFT_POOLED_SUPP',\n",
       " 'OMENRYP8_PELL_FTNFT_POOLED_SUPP',\n",
       " 'OMENRAP8_PELL_FTNFT_POOLED_SUPP',\n",
       " 'OMENRUP8_PELL_FTNFT_POOLED_SUPP',\n",
       " 'OMAWDP8_PELL_PTNFT_POOLED_SUPP',\n",
       " 'OMENRYP8_PELL_PTNFT_POOLED_SUPP',\n",
       " 'OMENRAP8_PELL_PTNFT_POOLED_SUPP',\n",
       " 'OMENRUP8_PELL_PTNFT_POOLED_SUPP',\n",
       " 'OMENRYP_PELL_ALL_POOLED_SUPP',\n",
       " 'OMENRAP_PELL_ALL_POOLED_SUPP',\n",
       " 'OMAWDP8_PELL_ALL_POOLED_SUPP',\n",
       " 'OMENRUP_PELL_ALL_POOLED_SUPP',\n",
       " 'OMENRYP_PELL_FTT_POOLED_SUPP',\n",
       " 'OMENRAP_PELL_FTT_POOLED_SUPP',\n",
       " 'OMAWDP8_PELL_FTT_POOLED_SUPP',\n",
       " 'OMENRUP_PELL_FTT_POOLED_SUPP',\n",
       " 'OMENRYP_PELL_NFT_POOLED_SUPP',\n",
       " 'OMENRAP_PELL_NFT_POOLED_SUPP',\n",
       " 'OMAWDP8_PELL_NFT_POOLED_SUPP',\n",
       " 'OMENRUP_PELL_NFT_POOLED_SUPP',\n",
       " 'OMENRYP_PELL_FT_POOLED_SUPP',\n",
       " 'OMENRAP_PELL_FT_POOLED_SUPP',\n",
       " 'OMAWDP8_PELL_FT_POOLED_SUPP',\n",
       " 'OMENRUP_PELL_FT_POOLED_SUPP',\n",
       " 'OMENRYP_PELL_PT_POOLED_SUPP',\n",
       " 'OMENRAP_PELL_PT_POOLED_SUPP',\n",
       " 'OMAWDP8_PELL_PT_POOLED_SUPP',\n",
       " 'OMENRUP_PELL_PT_POOLED_SUPP',\n",
       " 'GT_THRESHOLD_P6_SUPP']"
      ]
     },
     "execution_count": 9,
     "metadata": {},
     "output_type": "execute_result"
    }
   ],
   "source": [
    "list(inst.columns)"
   ]
  },
  {
   "cell_type": "code",
   "execution_count": 8,
   "id": "1dee087d-3c28-47d3-a8d3-a0c50be3ac6b",
   "metadata": {
    "execution": {
     "iopub.execute_input": "2023-04-01T19:49:15.643247Z",
     "iopub.status.busy": "2023-04-01T19:49:15.642245Z",
     "iopub.status.idle": "2023-04-01T19:49:15.650809Z",
     "shell.execute_reply": "2023-04-01T19:49:15.649837Z",
     "shell.execute_reply.started": "2023-04-01T19:49:15.643247Z"
    },
    "tags": []
   },
   "outputs": [],
   "source": [
    "input_zip = \"30315\""
   ]
  },
  {
   "cell_type": "code",
   "execution_count": 56,
   "id": "baab6175-83c5-4af4-86e0-81ef7635a4c3",
   "metadata": {
    "execution": {
     "iopub.execute_input": "2023-04-01T20:35:20.301277Z",
     "iopub.status.busy": "2023-04-01T20:35:20.300279Z",
     "iopub.status.idle": "2023-04-01T20:35:20.324988Z",
     "shell.execute_reply": "2023-04-01T20:35:20.323987Z",
     "shell.execute_reply.started": "2023-04-01T20:35:20.300279Z"
    },
    "tags": []
   },
   "outputs": [
    {
     "name": "stdout",
     "output_type": "stream",
     "text": [
      "lat, lon: (33.70312, -84.38272)\n"
     ]
    }
   ],
   "source": [
    "lat =float(list(geo[geo['zip']==input_zip]['lat'])[0])\n",
    "lon =float(list(geo[geo['zip']==input_zip]['lng'])[0])\n",
    "print(f\"lat, lon: ({lat}, {lon})\")"
   ]
  },
  {
   "cell_type": "code",
   "execution_count": 55,
   "id": "6de15024-a439-4897-b87d-9cc0473feaf1",
   "metadata": {
    "ExecuteTime": {
     "end_time": "2021-02-22T21:59:01.017442Z",
     "start_time": "2021-02-22T21:59:01.001478Z"
    },
    "execution": {
     "iopub.execute_input": "2023-04-01T20:35:12.109693Z",
     "iopub.status.busy": "2023-04-01T20:35:12.108660Z",
     "iopub.status.idle": "2023-04-01T20:35:12.123663Z",
     "shell.execute_reply": "2023-04-01T20:35:12.122658Z",
     "shell.execute_reply.started": "2023-04-01T20:35:12.109693Z"
    },
    "tags": []
   },
   "outputs": [],
   "source": [
    "## Function to use to find the distance of each university in miles\n",
    "def inst_dist (lat,lon):\n",
    "    idx = inst.apply(lambda x: great_circle((x[\"LATITUDE\"], x[\"LONGITUDE\"]), (lat, lon)).miles, axis=1)\n",
    "    return inst.loc[:, ['UNITID']].assign(DISTANCE_MI=idx)"
   ]
  },
  {
   "cell_type": "code",
   "execution_count": 57,
   "id": "f0e10f44-c72e-40e3-8189-53dad4f5a6a9",
   "metadata": {
    "execution": {
     "iopub.execute_input": "2023-04-01T20:35:26.164856Z",
     "iopub.status.busy": "2023-04-01T20:35:26.164856Z",
     "iopub.status.idle": "2023-04-01T20:35:26.185382Z",
     "shell.execute_reply": "2023-04-01T20:35:26.184381Z",
     "shell.execute_reply.started": "2023-04-01T20:35:26.164856Z"
    },
    "tags": []
   },
   "outputs": [
    {
     "data": {
      "text/html": [
       "<div>\n",
       "<style scoped>\n",
       "    .dataframe tbody tr th:only-of-type {\n",
       "        vertical-align: middle;\n",
       "    }\n",
       "\n",
       "    .dataframe tbody tr th {\n",
       "        vertical-align: top;\n",
       "    }\n",
       "\n",
       "    .dataframe thead th {\n",
       "        text-align: right;\n",
       "    }\n",
       "</style>\n",
       "<table border=\"1\" class=\"dataframe\">\n",
       "  <thead>\n",
       "    <tr style=\"text-align: right;\">\n",
       "      <th></th>\n",
       "      <th>UNITID</th>\n",
       "      <th>LATITUDE</th>\n",
       "      <th>LONGITUDE</th>\n",
       "    </tr>\n",
       "  </thead>\n",
       "  <tbody>\n",
       "    <tr>\n",
       "      <th>0</th>\n",
       "      <td>100654</td>\n",
       "      <td>34.783368</td>\n",
       "      <td>-86.568502</td>\n",
       "    </tr>\n",
       "    <tr>\n",
       "      <th>1</th>\n",
       "      <td>100663</td>\n",
       "      <td>33.505697</td>\n",
       "      <td>-86.799345</td>\n",
       "    </tr>\n",
       "    <tr>\n",
       "      <th>2</th>\n",
       "      <td>100690</td>\n",
       "      <td>32.362609</td>\n",
       "      <td>-86.17401</td>\n",
       "    </tr>\n",
       "    <tr>\n",
       "      <th>3</th>\n",
       "      <td>100706</td>\n",
       "      <td>34.724557</td>\n",
       "      <td>-86.640449</td>\n",
       "    </tr>\n",
       "    <tr>\n",
       "      <th>4</th>\n",
       "      <td>100724</td>\n",
       "      <td>32.364317</td>\n",
       "      <td>-86.295677</td>\n",
       "    </tr>\n",
       "    <tr>\n",
       "      <th>...</th>\n",
       "      <td>...</td>\n",
       "      <td>...</td>\n",
       "      <td>...</td>\n",
       "    </tr>\n",
       "    <tr>\n",
       "      <th>6676</th>\n",
       "      <td>49576719</td>\n",
       "      <td>41.31559</td>\n",
       "      <td>-76.02235</td>\n",
       "    </tr>\n",
       "    <tr>\n",
       "      <th>6677</th>\n",
       "      <td>49576720</td>\n",
       "      <td>39.92142</td>\n",
       "      <td>-76.71277</td>\n",
       "    </tr>\n",
       "    <tr>\n",
       "      <th>6678</th>\n",
       "      <td>49576721</td>\n",
       "      <td>40.0466</td>\n",
       "      <td>-75.5302</td>\n",
       "    </tr>\n",
       "    <tr>\n",
       "      <th>6679</th>\n",
       "      <td>49576722</td>\n",
       "      <td>40.19437</td>\n",
       "      <td>-76.72659</td>\n",
       "    </tr>\n",
       "    <tr>\n",
       "      <th>6680</th>\n",
       "      <td>49576723</td>\n",
       "      <td>39.92248</td>\n",
       "      <td>-75.41419</td>\n",
       "    </tr>\n",
       "  </tbody>\n",
       "</table>\n",
       "<p>6681 rows × 3 columns</p>\n",
       "</div>"
      ],
      "text/plain": [
       "        UNITID   LATITUDE   LONGITUDE\n",
       "0       100654  34.783368  -86.568502\n",
       "1       100663  33.505697  -86.799345\n",
       "2       100690  32.362609   -86.17401\n",
       "3       100706  34.724557  -86.640449\n",
       "4       100724  32.364317  -86.295677\n",
       "...        ...        ...         ...\n",
       "6676  49576719   41.31559   -76.02235\n",
       "6677  49576720   39.92142   -76.71277\n",
       "6678  49576721    40.0466    -75.5302\n",
       "6679  49576722   40.19437   -76.72659\n",
       "6680  49576723   39.92248   -75.41419\n",
       "\n",
       "[6681 rows x 3 columns]"
      ]
     },
     "execution_count": 57,
     "metadata": {},
     "output_type": "execute_result"
    }
   ],
   "source": [
    "inst[[\"UNITID\",\"LATITUDE\",\"LONGITUDE\"]]"
   ]
  },
  {
   "cell_type": "code",
   "execution_count": 60,
   "id": "9e38ce79-7d6d-424f-b1f6-89686e179b27",
   "metadata": {
    "execution": {
     "iopub.execute_input": "2023-04-01T20:39:10.021760Z",
     "iopub.status.busy": "2023-04-01T20:39:10.020759Z",
     "iopub.status.idle": "2023-04-01T20:39:10.313370Z",
     "shell.execute_reply": "2023-04-01T20:39:10.312370Z",
     "shell.execute_reply.started": "2023-04-01T20:39:10.021760Z"
    },
    "tags": []
   },
   "outputs": [
    {
     "data": {
      "text/html": [
       "<div>\n",
       "<style scoped>\n",
       "    .dataframe tbody tr th:only-of-type {\n",
       "        vertical-align: middle;\n",
       "    }\n",
       "\n",
       "    .dataframe tbody tr th {\n",
       "        vertical-align: top;\n",
       "    }\n",
       "\n",
       "    .dataframe thead th {\n",
       "        text-align: right;\n",
       "    }\n",
       "</style>\n",
       "<table border=\"1\" class=\"dataframe\">\n",
       "  <thead>\n",
       "    <tr style=\"text-align: right;\">\n",
       "      <th></th>\n",
       "      <th>UNITID</th>\n",
       "      <th>DISTANCE_MI</th>\n",
       "    </tr>\n",
       "  </thead>\n",
       "  <tbody>\n",
       "    <tr>\n",
       "      <th>0</th>\n",
       "      <td>100654</td>\n",
       "      <td>145.448313</td>\n",
       "    </tr>\n",
       "    <tr>\n",
       "      <th>1</th>\n",
       "      <td>100663</td>\n",
       "      <td>139.732231</td>\n",
       "    </tr>\n",
       "    <tr>\n",
       "      <th>2</th>\n",
       "      <td>100690</td>\n",
       "      <td>139.080645</td>\n",
       "    </tr>\n",
       "    <tr>\n",
       "      <th>3</th>\n",
       "      <td>100706</td>\n",
       "      <td>147.036320</td>\n",
       "    </tr>\n",
       "    <tr>\n",
       "      <th>4</th>\n",
       "      <td>100724</td>\n",
       "      <td>144.337436</td>\n",
       "    </tr>\n",
       "    <tr>\n",
       "      <th>...</th>\n",
       "      <td>...</td>\n",
       "      <td>...</td>\n",
       "    </tr>\n",
       "    <tr>\n",
       "      <th>6676</th>\n",
       "      <td>49576719</td>\n",
       "      <td>696.862958</td>\n",
       "    </tr>\n",
       "    <tr>\n",
       "      <th>6677</th>\n",
       "      <td>49576720</td>\n",
       "      <td>603.350253</td>\n",
       "    </tr>\n",
       "    <tr>\n",
       "      <th>6678</th>\n",
       "      <td>49576721</td>\n",
       "      <td>656.257973</td>\n",
       "    </tr>\n",
       "    <tr>\n",
       "      <th>6679</th>\n",
       "      <td>49576722</td>\n",
       "      <td>615.843200</td>\n",
       "    </tr>\n",
       "    <tr>\n",
       "      <th>6680</th>\n",
       "      <td>49576723</td>\n",
       "      <td>655.702807</td>\n",
       "    </tr>\n",
       "  </tbody>\n",
       "</table>\n",
       "<p>6681 rows × 2 columns</p>\n",
       "</div>"
      ],
      "text/plain": [
       "        UNITID  DISTANCE_MI\n",
       "0       100654   145.448313\n",
       "1       100663   139.732231\n",
       "2       100690   139.080645\n",
       "3       100706   147.036320\n",
       "4       100724   144.337436\n",
       "...        ...          ...\n",
       "6676  49576719   696.862958\n",
       "6677  49576720   603.350253\n",
       "6678  49576721   656.257973\n",
       "6679  49576722   615.843200\n",
       "6680  49576723   655.702807\n",
       "\n",
       "[6681 rows x 2 columns]"
      ]
     },
     "execution_count": 60,
     "metadata": {},
     "output_type": "execute_result"
    }
   ],
   "source": [
    "#Distances of each university to the input zip\n",
    "zip_all_dist = inst_dist(lat,lon)\n",
    "zip_all_dist"
   ]
  },
  {
   "cell_type": "code",
   "execution_count": 7,
   "id": "96b0948a-cf9a-4464-bf9a-0d60d746cc45",
   "metadata": {
    "execution": {
     "iopub.execute_input": "2023-03-27T03:59:08.961144Z",
     "iopub.status.busy": "2023-03-27T03:59:08.960142Z",
     "iopub.status.idle": "2023-03-27T03:59:10.425403Z",
     "shell.execute_reply": "2023-03-27T03:59:10.424406Z",
     "shell.execute_reply.started": "2023-03-27T03:59:08.961144Z"
    }
   },
   "outputs": [
    {
     "data": {
      "text/html": [
       "<div>\n",
       "<style scoped>\n",
       "    .dataframe tbody tr th:only-of-type {\n",
       "        vertical-align: middle;\n",
       "    }\n",
       "\n",
       "    .dataframe tbody tr th {\n",
       "        vertical-align: top;\n",
       "    }\n",
       "\n",
       "    .dataframe thead th {\n",
       "        text-align: right;\n",
       "    }\n",
       "</style>\n",
       "<table border=\"1\" class=\"dataframe\">\n",
       "  <thead>\n",
       "    <tr style=\"text-align: right;\">\n",
       "      <th></th>\n",
       "      <th>COUNT(*)</th>\n",
       "    </tr>\n",
       "  </thead>\n",
       "  <tbody>\n",
       "    <tr>\n",
       "      <th>0</th>\n",
       "      <td>6681</td>\n",
       "    </tr>\n",
       "  </tbody>\n",
       "</table>\n",
       "</div>"
      ],
      "text/plain": [
       "   COUNT(*)\n",
       "0      6681"
      ]
     },
     "execution_count": 7,
     "metadata": {},
     "output_type": "execute_result"
    }
   ],
   "source": [
    "sqldf(\"SELECT COUNT(*) FROM inst\",locals())"
   ]
  },
  {
   "cell_type": "code",
   "execution_count": 150,
   "id": "deda7d26-d86b-4d21-b696-c5981eda492f",
   "metadata": {},
   "outputs": [],
   "source": [
    "basequery = \"\"\"\n",
    "SELECT *\n",
    "FROM inst\n",
    "\"\"\"\n"
   ]
  },
  {
   "cell_type": "code",
   "execution_count": 152,
   "id": "aee9b3e3-065b-48c4-8862-b06054c1b5b1",
   "metadata": {},
   "outputs": [],
   "source": [
    "baseDF = sqldf(basequery,locals())"
   ]
  },
  {
   "cell_type": "code",
   "execution_count": 119,
   "id": "5e2c4544-ef14-4580-a400-45a24054c536",
   "metadata": {},
   "outputs": [
    {
     "data": {
      "text/plain": [
       "{'x1': 'OMENRUP_PELL_NFT_POOLED_SUPP',\n",
       " 'x2': 'OMENRYP_PELL_FT_POOLED_SUPP',\n",
       " 'x3': 'OMENRAP_PELL_FT_POOLED_SUPP'}"
      ]
     },
     "execution_count": 119,
     "metadata": {},
     "output_type": "execute_result"
    }
   ],
   "source": [
    "featuresDict = {}\n",
    "featuresDict['x1']= 'OMENRUP_PELL_NFT_POOLED_SUPP'\n",
    "featuresDict['x2']= 'OMENRYP_PELL_FT_POOLED_SUPP'\n",
    "featuresDict['x3']= 'OMENRAP_PELL_FT_POOLED_SUPP'\n",
    "featuresDict"
   ]
  },
  {
   "cell_type": "code",
   "execution_count": 120,
   "id": "e28e4815-6300-44f1-9801-e5f243c4c3df",
   "metadata": {},
   "outputs": [],
   "source": [
    "featuresQuery = \"\"\"\n",
    "SELECT {}, {}, {}\n",
    "FROM inst\n",
    "limit 10\n",
    "\"\"\".format(featuresDict['x1'],featuresDict['x2'],featuresDict['x3'])"
   ]
  },
  {
   "cell_type": "code",
   "execution_count": 121,
   "id": "3df94ea5-8ba4-48f9-b333-cab379d0d58a",
   "metadata": {},
   "outputs": [
    {
     "data": {
      "text/html": [
       "<div>\n",
       "<style scoped>\n",
       "    .dataframe tbody tr th:only-of-type {\n",
       "        vertical-align: middle;\n",
       "    }\n",
       "\n",
       "    .dataframe tbody tr th {\n",
       "        vertical-align: top;\n",
       "    }\n",
       "\n",
       "    .dataframe thead th {\n",
       "        text-align: right;\n",
       "    }\n",
       "</style>\n",
       "<table border=\"1\" class=\"dataframe\">\n",
       "  <thead>\n",
       "    <tr style=\"text-align: right;\">\n",
       "      <th></th>\n",
       "      <th>OMENRUP_PELL_NFT_POOLED_SUPP</th>\n",
       "      <th>OMENRYP_PELL_FT_POOLED_SUPP</th>\n",
       "      <th>OMENRAP_PELL_FT_POOLED_SUPP</th>\n",
       "    </tr>\n",
       "  </thead>\n",
       "  <tbody>\n",
       "    <tr>\n",
       "      <th>0</th>\n",
       "      <td>0.2803</td>\n",
       "      <td>0.0116</td>\n",
       "      <td>0.3329</td>\n",
       "    </tr>\n",
       "    <tr>\n",
       "      <th>1</th>\n",
       "      <td>0.211</td>\n",
       "      <td>0.0149</td>\n",
       "      <td>0.2773</td>\n",
       "    </tr>\n",
       "    <tr>\n",
       "      <th>2</th>\n",
       "      <td>0.468</td>\n",
       "      <td>0</td>\n",
       "      <td>0.2798</td>\n",
       "    </tr>\n",
       "    <tr>\n",
       "      <th>3</th>\n",
       "      <td>0.187</td>\n",
       "      <td>0.0098</td>\n",
       "      <td>0.3154</td>\n",
       "    </tr>\n",
       "    <tr>\n",
       "      <th>4</th>\n",
       "      <td>0.2026</td>\n",
       "      <td>0.0097</td>\n",
       "      <td>0.3904</td>\n",
       "    </tr>\n",
       "    <tr>\n",
       "      <th>5</th>\n",
       "      <td>0.1646</td>\n",
       "      <td>0.0087</td>\n",
       "      <td>0.3037</td>\n",
       "    </tr>\n",
       "    <tr>\n",
       "      <th>6</th>\n",
       "      <td>0.4701</td>\n",
       "      <td>0.005</td>\n",
       "      <td>0.288</td>\n",
       "    </tr>\n",
       "    <tr>\n",
       "      <th>7</th>\n",
       "      <td>0.2607</td>\n",
       "      <td>0.0138</td>\n",
       "      <td>0.1394</td>\n",
       "    </tr>\n",
       "    <tr>\n",
       "      <th>8</th>\n",
       "      <td>0.2516</td>\n",
       "      <td>0.0123</td>\n",
       "      <td>0.4047</td>\n",
       "    </tr>\n",
       "    <tr>\n",
       "      <th>9</th>\n",
       "      <td>0.1099</td>\n",
       "      <td>0.0105</td>\n",
       "      <td>0.2098</td>\n",
       "    </tr>\n",
       "  </tbody>\n",
       "</table>\n",
       "</div>"
      ],
      "text/plain": [
       "  OMENRUP_PELL_NFT_POOLED_SUPP OMENRYP_PELL_FT_POOLED_SUPP  \\\n",
       "0                       0.2803                      0.0116   \n",
       "1                        0.211                      0.0149   \n",
       "2                        0.468                           0   \n",
       "3                        0.187                      0.0098   \n",
       "4                       0.2026                      0.0097   \n",
       "5                       0.1646                      0.0087   \n",
       "6                       0.4701                       0.005   \n",
       "7                       0.2607                      0.0138   \n",
       "8                       0.2516                      0.0123   \n",
       "9                       0.1099                      0.0105   \n",
       "\n",
       "  OMENRAP_PELL_FT_POOLED_SUPP  \n",
       "0                      0.3329  \n",
       "1                      0.2773  \n",
       "2                      0.2798  \n",
       "3                      0.3154  \n",
       "4                      0.3904  \n",
       "5                      0.3037  \n",
       "6                       0.288  \n",
       "7                      0.1394  \n",
       "8                      0.4047  \n",
       "9                      0.2098  "
      ]
     },
     "execution_count": 121,
     "metadata": {},
     "output_type": "execute_result"
    }
   ],
   "source": [
    "featuresDF = sqldf(featuresQuery,locals())\n",
    "featuresDF"
   ]
  },
  {
   "cell_type": "markdown",
   "id": "e4e51348-9b22-4219-89e6-6fb7d5dfb907",
   "metadata": {},
   "source": [
    "Normalizing each feature"
   ]
  },
  {
   "cell_type": "markdown",
   "id": "6dba8836-c220-468e-a6ff-41d6071637ca",
   "metadata": {},
   "source": [
    "part 1: find each feature's length"
   ]
  },
  {
   "cell_type": "code",
   "execution_count": 122,
   "id": "34630358-feeb-4b57-a66c-83a2be4f4b01",
   "metadata": {},
   "outputs": [],
   "source": [
    "maxQuery = \"\"\"\n",
    "SELECT max({0}) x1FeatureLength, max({1}) x2FeatureLength, max({2}) x3FeatureLength\n",
    "FROM inst\n",
    "where {0} not like 'PrivacySuppressed' and {1} not like 'PrivacySuppressed' and {2} not like 'PrivacySuppressed'\n",
    "\"\"\".format(featuresDict['x1'],featuresDict['x2'],featuresDict['x3'])"
   ]
  },
  {
   "cell_type": "code",
   "execution_count": 123,
   "id": "487f5ffb-a0b6-4299-9973-c75683c583e0",
   "metadata": {},
   "outputs": [],
   "source": [
    "featureLengthDF = sqldf(maxQuery,locals())"
   ]
  },
  {
   "cell_type": "code",
   "execution_count": 124,
   "id": "ec4e2d1d-ffe0-4b75-b16b-c7632fdf48fa",
   "metadata": {},
   "outputs": [],
   "source": [
    "featureLengths = featureLengthDF.loc[0]"
   ]
  },
  {
   "cell_type": "code",
   "execution_count": 125,
   "id": "a2bd53f7-b2df-4bf3-acd5-d6eecee27edd",
   "metadata": {},
   "outputs": [],
   "source": [
    "x1FeatureLength = float(test['x1FeatureLength'])\n",
    "x2FeatureLength = float(test['x2FeatureLength'])\n",
    "x3FeatureLength = float(test['x3FeatureLength'])"
   ]
  },
  {
   "cell_type": "markdown",
   "id": "b642fdc2-2c3f-4acb-b003-135ad6ac32d6",
   "metadata": {},
   "source": [
    "part 2: applying length to normalize each feature"
   ]
  },
  {
   "cell_type": "code",
   "execution_count": 148,
   "id": "3be36ba2-8890-4759-a292-058c2b83eacf",
   "metadata": {},
   "outputs": [],
   "source": [
    "normalizedQuery = \"\"\"\n",
    "SELECT \n",
    "{0}/{3} feature1normalized,\n",
    "{1}/{4} feature2normalized,\n",
    "{2}/{5} feature3normalized\n",
    "FROM inst\n",
    "\"\"\".format(featuresDict['x1'],featuresDict['x2'],featuresDict['x3'], x1FeatureLength, x2FeatureLength, x3FeatureLength)"
   ]
  },
  {
   "cell_type": "code",
   "execution_count": 149,
   "id": "b7b2d199-6d71-4020-b7e7-cc7d87bd4791",
   "metadata": {},
   "outputs": [
    {
     "data": {
      "text/html": [
       "<div>\n",
       "<style scoped>\n",
       "    .dataframe tbody tr th:only-of-type {\n",
       "        vertical-align: middle;\n",
       "    }\n",
       "\n",
       "    .dataframe tbody tr th {\n",
       "        vertical-align: top;\n",
       "    }\n",
       "\n",
       "    .dataframe thead th {\n",
       "        text-align: right;\n",
       "    }\n",
       "</style>\n",
       "<table border=\"1\" class=\"dataframe\">\n",
       "  <thead>\n",
       "    <tr style=\"text-align: right;\">\n",
       "      <th></th>\n",
       "      <th>feature1normalized</th>\n",
       "      <th>feature2normalized</th>\n",
       "      <th>feature3normalized</th>\n",
       "    </tr>\n",
       "  </thead>\n",
       "  <tbody>\n",
       "    <tr>\n",
       "      <th>0</th>\n",
       "      <td>0.298191</td>\n",
       "      <td>0.033420</td>\n",
       "      <td>0.401762</td>\n",
       "    </tr>\n",
       "    <tr>\n",
       "      <th>1</th>\n",
       "      <td>0.224468</td>\n",
       "      <td>0.042927</td>\n",
       "      <td>0.334661</td>\n",
       "    </tr>\n",
       "    <tr>\n",
       "      <th>2</th>\n",
       "      <td>0.497872</td>\n",
       "      <td>0.000000</td>\n",
       "      <td>0.337678</td>\n",
       "    </tr>\n",
       "    <tr>\n",
       "      <th>3</th>\n",
       "      <td>0.198936</td>\n",
       "      <td>0.028234</td>\n",
       "      <td>0.380642</td>\n",
       "    </tr>\n",
       "    <tr>\n",
       "      <th>4</th>\n",
       "      <td>0.215532</td>\n",
       "      <td>0.027946</td>\n",
       "      <td>0.471156</td>\n",
       "    </tr>\n",
       "    <tr>\n",
       "      <th>...</th>\n",
       "      <td>...</td>\n",
       "      <td>...</td>\n",
       "      <td>...</td>\n",
       "    </tr>\n",
       "    <tr>\n",
       "      <th>6676</th>\n",
       "      <td>NaN</td>\n",
       "      <td>NaN</td>\n",
       "      <td>NaN</td>\n",
       "    </tr>\n",
       "    <tr>\n",
       "      <th>6677</th>\n",
       "      <td>NaN</td>\n",
       "      <td>NaN</td>\n",
       "      <td>NaN</td>\n",
       "    </tr>\n",
       "    <tr>\n",
       "      <th>6678</th>\n",
       "      <td>NaN</td>\n",
       "      <td>NaN</td>\n",
       "      <td>NaN</td>\n",
       "    </tr>\n",
       "    <tr>\n",
       "      <th>6679</th>\n",
       "      <td>NaN</td>\n",
       "      <td>NaN</td>\n",
       "      <td>NaN</td>\n",
       "    </tr>\n",
       "    <tr>\n",
       "      <th>6680</th>\n",
       "      <td>NaN</td>\n",
       "      <td>NaN</td>\n",
       "      <td>NaN</td>\n",
       "    </tr>\n",
       "  </tbody>\n",
       "</table>\n",
       "<p>6681 rows × 3 columns</p>\n",
       "</div>"
      ],
      "text/plain": [
       "      feature1normalized  feature2normalized  feature3normalized\n",
       "0               0.298191            0.033420            0.401762\n",
       "1               0.224468            0.042927            0.334661\n",
       "2               0.497872            0.000000            0.337678\n",
       "3               0.198936            0.028234            0.380642\n",
       "4               0.215532            0.027946            0.471156\n",
       "...                  ...                 ...                 ...\n",
       "6676                 NaN                 NaN                 NaN\n",
       "6677                 NaN                 NaN                 NaN\n",
       "6678                 NaN                 NaN                 NaN\n",
       "6679                 NaN                 NaN                 NaN\n",
       "6680                 NaN                 NaN                 NaN\n",
       "\n",
       "[6681 rows x 3 columns]"
      ]
     },
     "execution_count": 149,
     "metadata": {},
     "output_type": "execute_result"
    }
   ],
   "source": [
    "normalizedDF = sqldf(normalizedQuery,locals())\n",
    "normalizedDF "
   ]
  },
  {
   "cell_type": "markdown",
   "id": "33eb34c1-5dbe-45a0-8c87-5bb7ed26a40c",
   "metadata": {},
   "source": [
    "multiplying preferences to feature"
   ]
  },
  {
   "cell_type": "code",
   "execution_count": 139,
   "id": "02f88d74-e237-4c29-a754-3a015a4b1a4a",
   "metadata": {},
   "outputs": [],
   "source": [
    "prefVector = np.array([0.3,0.2,0.5])"
   ]
  },
  {
   "cell_type": "code",
   "execution_count": 140,
   "id": "eeaff5fd-caff-47bf-aea4-c6b7d78445a1",
   "metadata": {},
   "outputs": [],
   "source": [
    "normalizedMatrix = normalizedDF.values"
   ]
  },
  {
   "cell_type": "code",
   "execution_count": 141,
   "id": "93447701-35a2-49db-bc75-369e2b2b69ac",
   "metadata": {},
   "outputs": [
    {
     "data": {
      "text/plain": [
       "array([[0.29819149, 0.03341976, 0.40176201],\n",
       "       [0.22446809, 0.04292711, 0.33466087],\n",
       "       [0.49787234, 0.        , 0.33767801],\n",
       "       ...,\n",
       "       [       nan,        nan,        nan],\n",
       "       [       nan,        nan,        nan],\n",
       "       [       nan,        nan,        nan]])"
      ]
     },
     "execution_count": 141,
     "metadata": {},
     "output_type": "execute_result"
    }
   ],
   "source": [
    "normalizedMatrix"
   ]
  },
  {
   "cell_type": "code",
   "execution_count": 142,
   "id": "f266b2b4-c1fa-4898-bdb4-d30e3061319b",
   "metadata": {},
   "outputs": [],
   "source": [
    "ratingScore = np.dot(normalizedMatrix, prefVector)"
   ]
  },
  {
   "cell_type": "code",
   "execution_count": 153,
   "id": "981a4b49-c5c6-4848-bd7d-504332fe5dea",
   "metadata": {},
   "outputs": [],
   "source": [
    "baseDF['Rating'] = ratingScore"
   ]
  },
  {
   "cell_type": "code",
   "execution_count": 160,
   "id": "9f2f7233-a64d-4e7d-a26d-cdab18f022b2",
   "metadata": {},
   "outputs": [],
   "source": [
    "testQuery = \"\"\"\n",
    "SELECT count(*)\n",
    "FROM baseDF\n",
    "where rating is not NULL\n",
    "\"\"\""
   ]
  },
  {
   "cell_type": "code",
   "execution_count": 161,
   "id": "d26cd163-7cd4-406b-af1d-35f0e6eaa073",
   "metadata": {},
   "outputs": [
    {
     "data": {
      "text/html": [
       "<div>\n",
       "<style scoped>\n",
       "    .dataframe tbody tr th:only-of-type {\n",
       "        vertical-align: middle;\n",
       "    }\n",
       "\n",
       "    .dataframe tbody tr th {\n",
       "        vertical-align: top;\n",
       "    }\n",
       "\n",
       "    .dataframe thead th {\n",
       "        text-align: right;\n",
       "    }\n",
       "</style>\n",
       "<table border=\"1\" class=\"dataframe\">\n",
       "  <thead>\n",
       "    <tr style=\"text-align: right;\">\n",
       "      <th></th>\n",
       "      <th>count(*)</th>\n",
       "    </tr>\n",
       "  </thead>\n",
       "  <tbody>\n",
       "    <tr>\n",
       "      <th>0</th>\n",
       "      <td>3513</td>\n",
       "    </tr>\n",
       "  </tbody>\n",
       "</table>\n",
       "</div>"
      ],
      "text/plain": [
       "   count(*)\n",
       "0      3513"
      ]
     },
     "execution_count": 161,
     "metadata": {},
     "output_type": "execute_result"
    }
   ],
   "source": [
    "output = sqldf(testQuery,locals())\n",
    "output"
   ]
  }
 ],
 "metadata": {
  "kernelspec": {
   "display_name": "Python 3 (ipykernel)",
   "language": "python",
   "name": "python3"
  },
  "language_info": {
   "codemirror_mode": {
    "name": "ipython",
    "version": 3
   },
   "file_extension": ".py",
   "mimetype": "text/x-python",
   "name": "python",
   "nbconvert_exporter": "python",
   "pygments_lexer": "ipython3",
   "version": "3.9.5"
  }
 },
 "nbformat": 4,
 "nbformat_minor": 5
}
